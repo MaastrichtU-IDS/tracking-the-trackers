{
 "cells": [
  {
   "cell_type": "markdown",
   "metadata": {},
   "source": [
    "## Exploring IT/AI tools for monitoring online markets (Github)"
   ]
  },
  {
   "cell_type": "code",
   "execution_count": 2,
   "metadata": {},
   "outputs": [
    {
     "name": "stdout",
     "output_type": "stream",
     "text": [
      "monitoring+price+discrimination not found\n",
      "geoblocking+monitoring not found\n",
      "telemarketing+scam not found\n",
      "credit+scam not found\n",
      "loan+scam not found\n",
      "sweepstakes+scam not found\n",
      "refund+scam not found\n",
      "web+beacon not found\n",
      "ad+profiling not found\n",
      "behavioural+online+tracking not found\n",
      "influencer+marketing  not found\n",
      "fake+followers not found\n",
      "misleading+advertising not found\n",
      "cookie+monitoring not found\n",
      "cookie+tracking not found\n",
      "ad+blocking not found\n",
      "ad+blocking+monitoring not found\n",
      "market+monitoring not found\n",
      "fake+reviews not found\n",
      "fake+reviews+detection not found\n",
      "tracking+fake+reviews not found\n",
      "scarcity+cues not found\n",
      "website+timer not found\n",
      "Exported in /datasets/github_monitoring_tools.xlsx\n",
      "Elapsed time: 00:00:21\n"
     ]
    }
   ],
   "source": [
    "import pandas as pd\n",
    "import time\n",
    "from github import Github\n",
    "\n",
    "### Time of execution\n",
    "start = time.time()\n",
    "\n",
    "### List of terms\n",
    "monitoring_terms = ['monitoring+personal+pricing','personal+pricing','monitoring+individual+pricing','individual+pricing',\n",
    "                    'monitoring+price+discrimination','price+discrimination','ip+blocking','geoblocking','geoblocking+monitoring',\n",
    "                    'scam','scam+monitoring','monitoring+identity+theft','identity+theft','do+not+call+registry',\n",
    "                    'auction+scam','telemarketing+scam','credit+scam','loan+scam','sweepstakes+scam','refund+scam','web+beacon',\n",
    "                    'ad+profiling','behavioural+online+tracking','influencer+marketing ','fake+followers','misleading+advertising',\n",
    "                    'cookie+monitoring','cookie+tracking','ad+blocking','ad+blocking+monitoring','market+monitoring',\n",
    "                    'fake+reviews','fake+reviews+detection','tracking+fake+reviews','scarcity+cues','website+timer']\n",
    "\n",
    "### Automating the requests\n",
    "token = \n",
    "g = Github(token)\n",
    "\n",
    "matrix = []\n",
    "for term in monitoring_terms:\n",
    "    try:\n",
    "        query = str(term)+'+in:readme+in:description'\n",
    "        result = g.search_repositories(query, 'stars', 'desc')\n",
    "        if int(result.totalCount) < 30:\n",
    "            top_result = result[:int(result.totalCount)]\n",
    "        else:\n",
    "            top_result = result[:30]\n",
    "        list_term = []\n",
    "        for repo in top_result:\n",
    "            list_term.append((repo.id,repo.html_url,repo.description,repo.stargazers_count,repo.forks_count))\n",
    "        table = pd.DataFrame(list_term)\n",
    "        table['term'] = str(term)\n",
    "        table.columns = ['id','url','description','stars','forks','topic']\n",
    "        matrix.append(table)\n",
    "    except:\n",
    "        print(term+' not found')\n",
    "        pass\n",
    "\n",
    "final_table = pd.DataFrame()\n",
    "for t in range(len(matrix)):\n",
    "    final_table = final_table.append(matrix[t])\n",
    "\n",
    "final_table.drop_duplicates(subset =\"id\").to_excel('../datasets/github_monitoring_tools.xlsx')\n",
    "print('Exported in /datasets/github_monitoring_tools.xlsx')\n",
    "end = time.time()\n",
    "print('Elapsed time: {}'.format(time.strftime(\"%H:%M:%S\", time.gmtime(end - start))))"
   ]
  }
 ],
 "metadata": {
  "kernelspec": {
   "display_name": "Python 3",
   "language": "python",
   "name": "python3"
  },
  "language_info": {
   "codemirror_mode": {
    "name": "ipython",
    "version": 3
   },
   "file_extension": ".py",
   "mimetype": "text/x-python",
   "name": "python",
   "nbconvert_exporter": "python",
   "pygments_lexer": "ipython3",
   "version": "3.7.3"
  }
 },
 "nbformat": 4,
 "nbformat_minor": 2
}
