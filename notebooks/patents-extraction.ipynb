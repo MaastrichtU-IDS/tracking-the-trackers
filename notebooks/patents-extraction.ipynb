{
 "cells": [
  {
   "cell_type": "markdown",
   "metadata": {},
   "source": [
    "## Exploring IT/AI tools for monitoring online markets (EU Patents DB)"
   ]
  },
  {
   "cell_type": "code",
   "execution_count": 2,
   "metadata": {},
   "outputs": [
    {
     "name": "stdout",
     "output_type": "stream",
     "text": [
      "terms to use for monitoring: 37\n"
     ]
    },
    {
     "name": "stderr",
     "output_type": "stream",
     "text": [
      "b'Skipping line 4505264: expected 11 fields, saw 12\\n'\n",
      "b'Skipping line 4540085: expected 11 fields, saw 12\\nSkipping line 4570473: expected 11 fields, saw 12\\n'\n",
      "b'Skipping line 4610402: expected 11 fields, saw 12\\nSkipping line 4652985: expected 11 fields, saw 12\\n'\n",
      "b'Skipping line 4662863: expected 11 fields, saw 12\\n'\n"
     ]
    },
    {
     "name": "stdout",
     "output_type": "stream",
     "text": [
      "total patents database: 6957999\n",
      "number of matches found: 151, 0.00217%\n",
      "Exported in /datasets/patents_monitoring_tools.xlsx\n",
      "Elapsed time: 00:15:07\n"
     ]
    }
   ],
   "source": [
    "from flashtext import KeywordProcessor\n",
    "import time\n",
    "import pandas as pd\n",
    "import warnings\n",
    "warnings.filterwarnings(\"ignore\")\n",
    "\n",
    "### Time of execution\n",
    "start = time.time()\n",
    "\n",
    "monitoring_terms = ['monitoring personal pricing','personal pricing','monitoring individual pricing','individual pricing',\n",
    "                    'monitoring price discrimination','price discrimination',\n",
    "                    'ip blocking','geoblocking','geoblocking monitoring',\n",
    "                    'scam','scam monitoring','monitoring identity theft','identity theft',\n",
    "                    'do not call registry','auction scam','telemarketing scam','credit scam',\n",
    "                    'loan scam','sweepstakes scam','refund scam','web beacon',\n",
    "                    'ad profiling','behavioural online+tracking','influencer marketing ','fake followers','misleading advertising',\n",
    "                    'cookie monitoring','cookie tracking','ad blocking','market monitoring',\n",
    "                    'fake reviews','fake reviews detection','tracking fake reviews',\n",
    "                    'scarcity cues','website timer','monitoring scarcity cues','monitoring website timer']\n",
    "\n",
    "print('terms to use for monitoring: {}'.format(len(monitoring_terms)))\n",
    "\n",
    "patents = pd.read_csv('http://data.patentsview.org/20190312/download/patent.tsv.zip',\n",
    "                      sep='\\t', error_bad_lines=False, verbose=False)\n",
    "\n",
    "\n",
    "print('total patents database: {}'.format(len(patents)))\n",
    "\n",
    "def extract(vec, dictionary, info=False):\n",
    "    matrix = []\n",
    "    for line in vec:\n",
    "        matrix.append(dictionary.extract_keywords(str(line), span_info=info))\n",
    "    return matrix\n",
    "\n",
    "#proccess\n",
    "data = patents\n",
    "dictionary = KeywordProcessor()\n",
    "dictionary.add_keywords_from_list(monitoring_terms)\n",
    "extracted = extract(data.abstract, dictionary)\n",
    "row = [list(set(i)) if len(i)>0 else '' for i in extracted]\n",
    "data['matches'] = [str(i).replace('[', '').replace(']', '') for i in row]\n",
    "data['count_matches'] = [len(i) for i in extracted]\n",
    "data['count_unique_matches'] = [len(set(i)) for i in extracted]\n",
    "\n",
    "#get the data matches\n",
    "data_matches = data[data['count_matches'] > 0]\n",
    "data_matches['date_str'] = [\"\".join(i.split('-')) for i in data_matches.date]\n",
    "links = []\n",
    "for i in data_matches.index:\n",
    "    line = data_matches.loc[i]\n",
    "    link = \"https://worldwide.espacenet.com/publicationDetails/biblio?\"+\\\n",
    "    \"CC=\"+str(line.country)+\\\n",
    "    \"&NR=\"+str(line.id)+\\\n",
    "    \"&KC=\"+str(line.kind)+\\\n",
    "    \"&date=\"+str(line.date_str)+\\\n",
    "    \"&locale=en_EP\"\n",
    "    links.append(link)\n",
    "data_matches['link'] = links\n",
    "print('number of matches found: {}, {}%'.format(len(data_matches), round(100*len(data_matches)/len(data),5)))\n",
    "\n",
    "#export data\n",
    "export = data_matches.sort_values('count_matches', ascending=False)\n",
    "export = export[['title','link','abstract','matches']].drop_duplicates(subset =\"link\")\n",
    "export.columns = ['name','url','description','topic']\n",
    "export.to_excel('../datasets/patents_monitoring_tools.xlsx')\n",
    "print('Exported in /datasets/patents_monitoring_tools.xlsx')\n",
    "end = time.time()\n",
    "print('Elapsed time: {}'.format(time.strftime(\"%H:%M:%S\", time.gmtime(end - start))))"
   ]
  }
 ],
 "metadata": {
  "kernelspec": {
   "display_name": "Python 3",
   "language": "python",
   "name": "python3"
  },
  "language_info": {
   "codemirror_mode": {
    "name": "ipython",
    "version": 3
   },
   "file_extension": ".py",
   "mimetype": "text/x-python",
   "name": "python",
   "nbconvert_exporter": "python",
   "pygments_lexer": "ipython3",
   "version": "3.7.3"
  }
 },
 "nbformat": 4,
 "nbformat_minor": 2
}
