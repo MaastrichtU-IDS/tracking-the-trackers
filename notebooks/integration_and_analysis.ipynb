{
 "cells": [
  {
   "cell_type": "markdown",
   "metadata": {},
   "source": [
    "## Preliminary Results"
   ]
  },
  {
   "cell_type": "code",
   "execution_count": 1,
   "metadata": {},
   "outputs": [],
   "source": [
    "from oauth2client.service_account import ServiceAccountCredentials\n",
    "from df2gspread import df2gspread as d2g\n",
    "from pandas.io.json import json_normalize\n",
    "import pandas as pd\n",
    "import numpy as np\n",
    "import gspread\n",
    "import warnings\n",
    "warnings.filterwarnings(\"ignore\")"
   ]
  },
  {
   "cell_type": "markdown",
   "metadata": {},
   "source": [
    "---\n",
    "### Connect to table"
   ]
  },
  {
   "cell_type": "code",
   "execution_count": 2,
   "metadata": {},
   "outputs": [],
   "source": [
    "## Connect to our service account\n",
    "project = \n",
    "scope = ['https://spreadsheets.google.com/feeds']\n",
    "credentials = ServiceAccountCredentials.from_json_keyfile_name(project, scope)\n",
    "gc = gspread.authorize(credentials)"
   ]
  },
  {
   "cell_type": "code",
   "execution_count": 3,
   "metadata": {},
   "outputs": [],
   "source": [
    "spreadsheet_key = \n",
    "book = gc.open_by_key(spreadsheet_key)\n",
    "\n",
    "data = book.worksheet('web_extraction').get_all_values()\n",
    "web_extraction = pd.DataFrame(data[1:], columns=data[0])\n",
    "data = book.worksheet('manual_search').get_all_values()\n",
    "manual_search = pd.DataFrame(data[1:], columns=data[0])\n",
    "data = book.worksheet('external_sources').get_all_values()\n",
    "external_sources = pd.DataFrame(data[1:], columns=data[0])\n",
    "data = book.worksheet('questionnaires').get_all_values()\n",
    "questionnaires = pd.DataFrame(data[1:], columns=data[0])"
   ]
  },
  {
   "cell_type": "code",
   "execution_count": 4,
   "metadata": {},
   "outputs": [],
   "source": [
    "columns = ['url', 'description', 'group', 'topic','method', 'source','source_type', 'consensus'] #relevant will be decided by consensus"
   ]
  },
  {
   "cell_type": "code",
   "execution_count": 5,
   "metadata": {},
   "outputs": [
    {
     "data": {
      "text/html": [
       "<div>\n",
       "<style scoped>\n",
       "    .dataframe tbody tr th:only-of-type {\n",
       "        vertical-align: middle;\n",
       "    }\n",
       "\n",
       "    .dataframe tbody tr th {\n",
       "        vertical-align: top;\n",
       "    }\n",
       "\n",
       "    .dataframe thead th {\n",
       "        text-align: right;\n",
       "    }\n",
       "</style>\n",
       "<table border=\"1\" class=\"dataframe\">\n",
       "  <thead>\n",
       "    <tr style=\"text-align: right;\">\n",
       "      <th></th>\n",
       "      <th>url</th>\n",
       "      <th>description</th>\n",
       "      <th>group</th>\n",
       "      <th>topic</th>\n",
       "      <th>method</th>\n",
       "      <th>source</th>\n",
       "      <th>source_type</th>\n",
       "      <th>consensus</th>\n",
       "    </tr>\n",
       "  </thead>\n",
       "  <tbody>\n",
       "    <tr>\n",
       "      <th>0</th>\n",
       "      <td>https://worldwide.espacenet.com/publicationDet...</td>\n",
       "      <td>A method of delivering content from a content ...</td>\n",
       "      <td>Advertising</td>\n",
       "      <td>Behavioural tracking</td>\n",
       "      <td>Crawler search</td>\n",
       "      <td>EU Patents Database</td>\n",
       "      <td>Software registry</td>\n",
       "      <td>1</td>\n",
       "    </tr>\n",
       "    <tr>\n",
       "      <th>1</th>\n",
       "      <td>http://arxiv.org/abs/1407.0697v1</td>\n",
       "      <td>SLA (Service level agreement) is defined by an...</td>\n",
       "      <td>Advertising</td>\n",
       "      <td>Behavioural tracking</td>\n",
       "      <td>Crawler search</td>\n",
       "      <td>Arxiv</td>\n",
       "      <td>Research</td>\n",
       "      <td>1</td>\n",
       "    </tr>\n",
       "  </tbody>\n",
       "</table>\n",
       "</div>"
      ],
      "text/plain": [
       "                                                 url  \\\n",
       "0  https://worldwide.espacenet.com/publicationDet...   \n",
       "1                   http://arxiv.org/abs/1407.0697v1   \n",
       "\n",
       "                                         description        group  \\\n",
       "0  A method of delivering content from a content ...  Advertising   \n",
       "1  SLA (Service level agreement) is defined by an...  Advertising   \n",
       "\n",
       "                  topic          method               source  \\\n",
       "0  Behavioural tracking  Crawler search  EU Patents Database   \n",
       "1  Behavioural tracking  Crawler search                Arxiv   \n",
       "\n",
       "         source_type consensus  \n",
       "0  Software registry         1  \n",
       "1           Research         1  "
      ]
     },
     "execution_count": 5,
     "metadata": {},
     "output_type": "execute_result"
    }
   ],
   "source": [
    "web_extraction = web_extraction[web_extraction['first_sample'] == '1']\n",
    "web_extraction = web_extraction[columns]\n",
    "web_extraction.head(2)"
   ]
  },
  {
   "cell_type": "code",
   "execution_count": 6,
   "metadata": {},
   "outputs": [
    {
     "data": {
      "text/html": [
       "<div>\n",
       "<style scoped>\n",
       "    .dataframe tbody tr th:only-of-type {\n",
       "        vertical-align: middle;\n",
       "    }\n",
       "\n",
       "    .dataframe tbody tr th {\n",
       "        vertical-align: top;\n",
       "    }\n",
       "\n",
       "    .dataframe thead th {\n",
       "        text-align: right;\n",
       "    }\n",
       "</style>\n",
       "<table border=\"1\" class=\"dataframe\">\n",
       "  <thead>\n",
       "    <tr style=\"text-align: right;\">\n",
       "      <th></th>\n",
       "      <th>url</th>\n",
       "      <th>description</th>\n",
       "      <th>group</th>\n",
       "      <th>topic</th>\n",
       "      <th>method</th>\n",
       "      <th>source</th>\n",
       "      <th>source_type</th>\n",
       "      <th>consensus</th>\n",
       "    </tr>\n",
       "  </thead>\n",
       "  <tbody>\n",
       "    <tr>\n",
       "      <th>0</th>\n",
       "      <td>http://apps.webofknowledge.com/full_record.do?...</td>\n",
       "      <td>According to a sample of over thirty thousand ...</td>\n",
       "      <td>Advertising</td>\n",
       "      <td>Web beacon tracker</td>\n",
       "      <td>Research search</td>\n",
       "      <td>Web of Science Database</td>\n",
       "      <td>Research</td>\n",
       "      <td>1</td>\n",
       "    </tr>\n",
       "    <tr>\n",
       "      <th>1</th>\n",
       "      <td>http://apps.webofknowledge.com/full_record.do?...</td>\n",
       "      <td>This paper proposes a novel technique that uti...</td>\n",
       "      <td>Advertising</td>\n",
       "      <td>Web beacon tracker</td>\n",
       "      <td>Research search</td>\n",
       "      <td>Web of Science Database</td>\n",
       "      <td>Research</td>\n",
       "      <td>1</td>\n",
       "    </tr>\n",
       "  </tbody>\n",
       "</table>\n",
       "</div>"
      ],
      "text/plain": [
       "                                                 url  \\\n",
       "0  http://apps.webofknowledge.com/full_record.do?...   \n",
       "1  http://apps.webofknowledge.com/full_record.do?...   \n",
       "\n",
       "                                         description        group  \\\n",
       "0  According to a sample of over thirty thousand ...  Advertising   \n",
       "1  This paper proposes a novel technique that uti...  Advertising   \n",
       "\n",
       "                topic           method                   source source_type  \\\n",
       "0  Web beacon tracker  Research search  Web of Science Database    Research   \n",
       "1  Web beacon tracker  Research search  Web of Science Database    Research   \n",
       "\n",
       "  consensus  \n",
       "0         1  \n",
       "1         1  "
      ]
     },
     "execution_count": 6,
     "metadata": {},
     "output_type": "execute_result"
    }
   ],
   "source": [
    "manual_search = manual_search[columns]\n",
    "manual_search.head(2)"
   ]
  },
  {
   "cell_type": "code",
   "execution_count": 7,
   "metadata": {},
   "outputs": [
    {
     "data": {
      "text/html": [
       "<div>\n",
       "<style scoped>\n",
       "    .dataframe tbody tr th:only-of-type {\n",
       "        vertical-align: middle;\n",
       "    }\n",
       "\n",
       "    .dataframe tbody tr th {\n",
       "        vertical-align: top;\n",
       "    }\n",
       "\n",
       "    .dataframe thead th {\n",
       "        text-align: right;\n",
       "    }\n",
       "</style>\n",
       "<table border=\"1\" class=\"dataframe\">\n",
       "  <thead>\n",
       "    <tr style=\"text-align: right;\">\n",
       "      <th></th>\n",
       "      <th>url</th>\n",
       "      <th>description</th>\n",
       "      <th>group</th>\n",
       "      <th>topic</th>\n",
       "      <th>method</th>\n",
       "      <th>source</th>\n",
       "      <th>source_type</th>\n",
       "      <th>consensus</th>\n",
       "    </tr>\n",
       "  </thead>\n",
       "  <tbody>\n",
       "    <tr>\n",
       "      <th>0</th>\n",
       "      <td>https://www.ghostery.com</td>\n",
       "      <td></td>\n",
       "      <td>Advertising</td>\n",
       "      <td>Behavioural tracking</td>\n",
       "      <td>Research search</td>\n",
       "      <td>Other</td>\n",
       "      <td>Word of mouth</td>\n",
       "      <td>1</td>\n",
       "    </tr>\n",
       "    <tr>\n",
       "      <th>1</th>\n",
       "      <td>https://adverifai.com</td>\n",
       "      <td></td>\n",
       "      <td>Advertising</td>\n",
       "      <td>Behavioural tracking</td>\n",
       "      <td>Research search</td>\n",
       "      <td>Other</td>\n",
       "      <td>Word of mouth</td>\n",
       "      <td>0</td>\n",
       "    </tr>\n",
       "  </tbody>\n",
       "</table>\n",
       "</div>"
      ],
      "text/plain": [
       "                        url description        group                 topic  \\\n",
       "0  https://www.ghostery.com              Advertising  Behavioural tracking   \n",
       "1     https://adverifai.com              Advertising  Behavioural tracking   \n",
       "\n",
       "            method source    source_type consensus  \n",
       "0  Research search  Other  Word of mouth         1  \n",
       "1  Research search  Other  Word of mouth         0  "
      ]
     },
     "execution_count": 7,
     "metadata": {},
     "output_type": "execute_result"
    }
   ],
   "source": [
    "external_sources = external_sources[columns]\n",
    "external_sources.head(2)"
   ]
  },
  {
   "cell_type": "code",
   "execution_count": 8,
   "metadata": {},
   "outputs": [
    {
     "data": {
      "text/html": [
       "<div>\n",
       "<style scoped>\n",
       "    .dataframe tbody tr th:only-of-type {\n",
       "        vertical-align: middle;\n",
       "    }\n",
       "\n",
       "    .dataframe tbody tr th {\n",
       "        vertical-align: top;\n",
       "    }\n",
       "\n",
       "    .dataframe thead th {\n",
       "        text-align: right;\n",
       "    }\n",
       "</style>\n",
       "<table border=\"1\" class=\"dataframe\">\n",
       "  <thead>\n",
       "    <tr style=\"text-align: right;\">\n",
       "      <th></th>\n",
       "      <th>url</th>\n",
       "      <th>description</th>\n",
       "      <th>group</th>\n",
       "      <th>topic</th>\n",
       "      <th>method</th>\n",
       "      <th>source</th>\n",
       "      <th>source_type</th>\n",
       "      <th>consensus</th>\n",
       "    </tr>\n",
       "  </thead>\n",
       "  <tbody>\n",
       "    <tr>\n",
       "      <th>0</th>\n",
       "      <td>NA</td>\n",
       "      <td>Consumer complaints</td>\n",
       "      <td>Consumer complaints</td>\n",
       "      <td>Consumer complaints</td>\n",
       "      <td>Questionnaire</td>\n",
       "      <td>riikka.rosendahl@kkv.fi</td>\n",
       "      <td>Consumer Agency</td>\n",
       "      <td>0</td>\n",
       "    </tr>\n",
       "    <tr>\n",
       "      <th>1</th>\n",
       "      <td>https://vico-research.com/</td>\n",
       "      <td></td>\n",
       "      <td>Web Evidence</td>\n",
       "      <td>Digital Investigations</td>\n",
       "      <td>Questionnaire</td>\n",
       "      <td>marktwaechter@vzbv.de</td>\n",
       "      <td>Consumer Agency</td>\n",
       "      <td>0</td>\n",
       "    </tr>\n",
       "  </tbody>\n",
       "</table>\n",
       "</div>"
      ],
      "text/plain": [
       "                          url          description                group  \\\n",
       "0                          NA  Consumer complaints  Consumer complaints   \n",
       "1  https://vico-research.com/                              Web Evidence   \n",
       "\n",
       "                    topic         method                   source  \\\n",
       "0     Consumer complaints  Questionnaire  riikka.rosendahl@kkv.fi   \n",
       "1  Digital Investigations  Questionnaire    marktwaechter@vzbv.de   \n",
       "\n",
       "       source_type consensus  \n",
       "0  Consumer Agency         0  \n",
       "1  Consumer Agency         0  "
      ]
     },
     "execution_count": 8,
     "metadata": {},
     "output_type": "execute_result"
    }
   ],
   "source": [
    "questionnaires = questionnaires[columns]\n",
    "questionnaires.head(2)"
   ]
  },
  {
   "cell_type": "code",
   "execution_count": 9,
   "metadata": {},
   "outputs": [],
   "source": [
    "table = pd.DataFrame()\n",
    "table = table.append(web_extraction)\n",
    "table = table.append(manual_search)\n",
    "table = table.append(external_sources)\n",
    "table = table.append(questionnaires)"
   ]
  },
  {
   "cell_type": "code",
   "execution_count": 10,
   "metadata": {},
   "outputs": [
    {
     "name": "stdout",
     "output_type": "stream",
     "text": [
      "Total number of relevant tools: 76\n",
      "\n",
      "Web extraction and sample open databases: 27\n",
      "Manual extraction private databases: 8\n",
      "External Sources and desk search: 22\n",
      "Consumer agencies responses: 19\n"
     ]
    }
   ],
   "source": [
    "n1 = len(web_extraction[web_extraction['consensus']=='1'])\n",
    "n2 = len(manual_search[manual_search['consensus']=='1'])\n",
    "n3 = len(external_sources[external_sources['consensus']=='1'])\n",
    "n4 = len(questionnaires[questionnaires['consensus']=='1'])\n",
    "print('Total number of relevant tools: {}\\n\\nWeb extraction and sample open databases: {}\\nManual extraction private databases: {}\\nExternal Sources and desk search: {}\\nConsumer agencies responses: {}'.format(n1+n2+n3+n4,n1, n2, n3, n4))\n"
   ]
  },
  {
   "cell_type": "code",
   "execution_count": 11,
   "metadata": {},
   "outputs": [],
   "source": [
    "# n1 = len(web_extraction)\n",
    "# n2 = len(manual_search)\n",
    "# n3 = len(external_sources)\n",
    "# n4 = len(questionnaires)\n",
    "# print('Total number of tools: {}\\n\\nWeb extraction and sample open databases: {}\\nManual extraction closed databases: {}\\Word of mouth: {}\\nQuestionnaires responses: {}'.format(n1+n2+n3+n4,n1, n2, n3, n4))\n"
   ]
  },
  {
   "cell_type": "code",
   "execution_count": 12,
   "metadata": {},
   "outputs": [
    {
     "data": {
      "text/plain": [
       "Index(['url', 'description', 'group', 'topic', 'method', 'source',\n",
       "       'source_type', 'consensus'],\n",
       "      dtype='object')"
      ]
     },
     "execution_count": 12,
     "metadata": {},
     "output_type": "execute_result"
    }
   ],
   "source": [
    "table.columns"
   ]
  },
  {
   "cell_type": "code",
   "execution_count": 13,
   "metadata": {},
   "outputs": [],
   "source": [
    "relevant_tools = table[table['consensus']=='1'].reset_index(drop=True)\n",
    "#raw_tools = table.reset_index(drop=True)"
   ]
  },
  {
   "cell_type": "code",
   "execution_count": 14,
   "metadata": {},
   "outputs": [
    {
     "data": {
      "text/plain": [
       "76"
      ]
     },
     "execution_count": 14,
     "metadata": {},
     "output_type": "execute_result"
    }
   ],
   "source": [
    "len(relevant_tools)\n",
    "#len(raw_tools)"
   ]
  },
  {
   "cell_type": "code",
   "execution_count": 15,
   "metadata": {},
   "outputs": [
    {
     "data": {
      "text/html": [
       "<div>\n",
       "<style scoped>\n",
       "    .dataframe tbody tr th:only-of-type {\n",
       "        vertical-align: middle;\n",
       "    }\n",
       "\n",
       "    .dataframe tbody tr th {\n",
       "        vertical-align: top;\n",
       "    }\n",
       "\n",
       "    .dataframe thead th {\n",
       "        text-align: right;\n",
       "    }\n",
       "</style>\n",
       "<table border=\"1\" class=\"dataframe\">\n",
       "  <thead>\n",
       "    <tr style=\"text-align: right;\">\n",
       "      <th></th>\n",
       "      <th>group</th>\n",
       "      <th>topic</th>\n",
       "      <th>url</th>\n",
       "    </tr>\n",
       "  </thead>\n",
       "  <tbody>\n",
       "    <tr>\n",
       "      <th>0</th>\n",
       "      <td>Web Evidence</td>\n",
       "      <td>Domain registries</td>\n",
       "      <td>11</td>\n",
       "    </tr>\n",
       "    <tr>\n",
       "      <th>1</th>\n",
       "      <td>Scam (Online Fraud)</td>\n",
       "      <td>General scam &amp; Pishing</td>\n",
       "      <td>9</td>\n",
       "    </tr>\n",
       "    <tr>\n",
       "      <th>2</th>\n",
       "      <td>Web Evidence</td>\n",
       "      <td>Webpage snaps</td>\n",
       "      <td>8</td>\n",
       "    </tr>\n",
       "    <tr>\n",
       "      <th>3</th>\n",
       "      <td>Advertising</td>\n",
       "      <td>Fake reviews</td>\n",
       "      <td>8</td>\n",
       "    </tr>\n",
       "    <tr>\n",
       "      <th>4</th>\n",
       "      <td>Scam (Online Fraud)</td>\n",
       "      <td>Financial online fraud</td>\n",
       "      <td>4</td>\n",
       "    </tr>\n",
       "    <tr>\n",
       "      <th>5</th>\n",
       "      <td>Price Transparency Issues</td>\n",
       "      <td>Price discrimination</td>\n",
       "      <td>4</td>\n",
       "    </tr>\n",
       "    <tr>\n",
       "      <th>6</th>\n",
       "      <td>Geoblocking</td>\n",
       "      <td>VPN</td>\n",
       "      <td>4</td>\n",
       "    </tr>\n",
       "    <tr>\n",
       "      <th>7</th>\n",
       "      <td>Unfair terms issues</td>\n",
       "      <td>General terms and conditions</td>\n",
       "      <td>3</td>\n",
       "    </tr>\n",
       "    <tr>\n",
       "      <th>8</th>\n",
       "      <td>Advertising</td>\n",
       "      <td>Behavioural tracking</td>\n",
       "      <td>3</td>\n",
       "    </tr>\n",
       "    <tr>\n",
       "      <th>9</th>\n",
       "      <td>Advertising</td>\n",
       "      <td>Web beacon tracker</td>\n",
       "      <td>3</td>\n",
       "    </tr>\n",
       "    <tr>\n",
       "      <th>10</th>\n",
       "      <td>Advertising</td>\n",
       "      <td>Online trackers</td>\n",
       "      <td>3</td>\n",
       "    </tr>\n",
       "    <tr>\n",
       "      <th>11</th>\n",
       "      <td>Advertising</td>\n",
       "      <td>Misleading advertising</td>\n",
       "      <td>3</td>\n",
       "    </tr>\n",
       "    <tr>\n",
       "      <th>12</th>\n",
       "      <td>Dark Patterns</td>\n",
       "      <td>Dark Patterns</td>\n",
       "      <td>2</td>\n",
       "    </tr>\n",
       "    <tr>\n",
       "      <th>13</th>\n",
       "      <td>Price Transparency Issues</td>\n",
       "      <td>Personal pricing</td>\n",
       "      <td>2</td>\n",
       "    </tr>\n",
       "    <tr>\n",
       "      <th>14</th>\n",
       "      <td>Compliance</td>\n",
       "      <td>Compliance and obligations</td>\n",
       "      <td>2</td>\n",
       "    </tr>\n",
       "    <tr>\n",
       "      <th>15</th>\n",
       "      <td>Web Evidence</td>\n",
       "      <td>Internet archives</td>\n",
       "      <td>2</td>\n",
       "    </tr>\n",
       "    <tr>\n",
       "      <th>16</th>\n",
       "      <td>Geoblocking</td>\n",
       "      <td>Geoblocking</td>\n",
       "      <td>2</td>\n",
       "    </tr>\n",
       "    <tr>\n",
       "      <th>17</th>\n",
       "      <td>Dark Patterns</td>\n",
       "      <td>Forced Action</td>\n",
       "      <td>1</td>\n",
       "    </tr>\n",
       "    <tr>\n",
       "      <th>18</th>\n",
       "      <td>Consumer complaints</td>\n",
       "      <td>Consumer complaints</td>\n",
       "      <td>1</td>\n",
       "    </tr>\n",
       "    <tr>\n",
       "      <th>19</th>\n",
       "      <td>Advertising</td>\n",
       "      <td>Social media issues</td>\n",
       "      <td>1</td>\n",
       "    </tr>\n",
       "  </tbody>\n",
       "</table>\n",
       "</div>"
      ],
      "text/plain": [
       "                        group                         topic  url\n",
       "0                Web Evidence             Domain registries   11\n",
       "1         Scam (Online Fraud)        General scam & Pishing    9\n",
       "2                Web Evidence                 Webpage snaps    8\n",
       "3                 Advertising                  Fake reviews    8\n",
       "4         Scam (Online Fraud)        Financial online fraud    4\n",
       "5   Price Transparency Issues          Price discrimination    4\n",
       "6                 Geoblocking                           VPN    4\n",
       "7         Unfair terms issues  General terms and conditions    3\n",
       "8                 Advertising          Behavioural tracking    3\n",
       "9                 Advertising            Web beacon tracker    3\n",
       "10                Advertising               Online trackers    3\n",
       "11                Advertising       Misleading advertising     3\n",
       "12              Dark Patterns                 Dark Patterns    2\n",
       "13  Price Transparency Issues              Personal pricing    2\n",
       "14                 Compliance    Compliance and obligations    2\n",
       "15               Web Evidence             Internet archives    2\n",
       "16                Geoblocking                   Geoblocking    2\n",
       "17              Dark Patterns                 Forced Action    1\n",
       "18        Consumer complaints           Consumer complaints    1\n",
       "19                Advertising           Social media issues    1"
      ]
     },
     "execution_count": 15,
     "metadata": {},
     "output_type": "execute_result"
    }
   ],
   "source": [
    "relevant_tools\\\n",
    "    .groupby(['group','topic'])\\\n",
    "    .count()['url']\\\n",
    "    .reset_index()\\\n",
    "    .sort_values('url', ascending=False)\\\n",
    "    .reset_index(drop=True)\\"
   ]
  },
  {
   "cell_type": "code",
   "execution_count": 16,
   "metadata": {},
   "outputs": [],
   "source": [
    "# pd.pivot_table(\n",
    "#     relevat_tools,\n",
    "#     values=None,\n",
    "#     index='topic',\n",
    "#     columns='source_type',\n",
    "#     aggfunc='count',\n",
    "#     fill_value=0,\n",
    "#     margins=False,\n",
    "#     dropna=True,\n",
    "#     margins_name='All',\n",
    "# )['url'].to_csv('table.csv')"
   ]
  },
  {
   "cell_type": "code",
   "execution_count": 17,
   "metadata": {},
   "outputs": [],
   "source": [
    "relevant_tools.to_excel(\"relevant_tools.xlsx\")"
   ]
  },
  {
   "cell_type": "code",
   "execution_count": null,
   "metadata": {},
   "outputs": [],
   "source": []
  }
 ],
 "metadata": {
  "kernelspec": {
   "display_name": "Python 3",
   "language": "python",
   "name": "python3"
  },
  "language_info": {
   "codemirror_mode": {
    "name": "ipython",
    "version": 3
   },
   "file_extension": ".py",
   "mimetype": "text/x-python",
   "name": "python",
   "nbconvert_exporter": "python",
   "pygments_lexer": "ipython3",
   "version": "3.7.3"
  }
 },
 "nbformat": 4,
 "nbformat_minor": 2
}
