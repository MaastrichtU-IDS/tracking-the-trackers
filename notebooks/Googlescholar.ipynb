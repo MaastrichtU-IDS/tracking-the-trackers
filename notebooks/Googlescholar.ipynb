{
 "cells": [
  {
   "cell_type": "code",
   "execution_count": 2,
   "metadata": {},
   "outputs": [
    {
     "ename": "StopIteration",
     "evalue": "",
     "output_type": "error",
     "traceback": [
      "\u001b[1;31m---------------------------------------------------------------------------\u001b[0m",
      "\u001b[1;31mStopIteration\u001b[0m                             Traceback (most recent call last)",
      "\u001b[1;32m<ipython-input-2-893eb2bdfd6d>\u001b[0m in \u001b[0;36m<module>\u001b[1;34m\u001b[0m\n\u001b[0;32m     13\u001b[0m     \u001b[0msearch_query\u001b[0m \u001b[1;33m=\u001b[0m \u001b[0mscholarly\u001b[0m\u001b[1;33m.\u001b[0m\u001b[0msearch_pubs_query\u001b[0m\u001b[1;33m(\u001b[0m\u001b[0mitem\u001b[0m\u001b[1;33m)\u001b[0m\u001b[1;33m\u001b[0m\u001b[1;33m\u001b[0m\u001b[0m\n\u001b[0;32m     14\u001b[0m     \u001b[1;32mfor\u001b[0m \u001b[0mi\u001b[0m \u001b[1;32min\u001b[0m \u001b[0mrange\u001b[0m\u001b[1;33m(\u001b[0m\u001b[1;36m30\u001b[0m\u001b[1;33m)\u001b[0m\u001b[1;33m:\u001b[0m\u001b[1;33m\u001b[0m\u001b[1;33m\u001b[0m\u001b[0m\n\u001b[1;32m---> 15\u001b[1;33m         \u001b[0mpaper\u001b[0m \u001b[1;33m=\u001b[0m \u001b[0mnext\u001b[0m\u001b[1;33m(\u001b[0m\u001b[0msearch_query\u001b[0m\u001b[1;33m)\u001b[0m\u001b[1;33m\u001b[0m\u001b[1;33m\u001b[0m\u001b[0m\n\u001b[0m\u001b[0;32m     16\u001b[0m         \u001b[1;32mif\u001b[0m \u001b[1;33m(\u001b[0m\u001b[1;34m'url'\u001b[0m \u001b[1;32min\u001b[0m \u001b[0mpaper\u001b[0m\u001b[1;33m.\u001b[0m\u001b[0mbib\u001b[0m\u001b[1;33m)\u001b[0m\u001b[1;33m:\u001b[0m\u001b[1;33m\u001b[0m\u001b[1;33m\u001b[0m\u001b[0m\n\u001b[0;32m     17\u001b[0m             \u001b[0mcurrentresult\u001b[0m \u001b[1;33m=\u001b[0m \u001b[1;33m[\u001b[0m\u001b[1;33m]\u001b[0m\u001b[1;33m\u001b[0m\u001b[1;33m\u001b[0m\u001b[0m\n",
      "\u001b[1;31mStopIteration\u001b[0m: "
     ]
    }
   ],
   "source": [
    "# Google Scholar: https://scholar.google.com/\n",
    "import scholarly\n",
    "import json\n",
    "import csv\n",
    "\n",
    "results = []\n",
    "searchterms = ['ai consumer fraud online','online shopping fraud','online shopping law enforcement','online law enforcement','e-commerce fraud','e-commerce fraud pricing',\n",
    "'fake review detection','consumer profiling algorithm','price discrimination algorithm','algorithm detect unfair pricing website','detecting e-commerce',\n",
    "'cookie tracking','cookie monitoring','website tracking','website monitoring','illegal advertising','false advertising','misleading advertising',\n",
    "'unfair terms','web accessibility','identity protection','web beacon','geoblocking','consumer protection']\n",
    "\n",
    "for item in searchterms:\n",
    "    search_query = scholarly.search_pubs_query(item)\n",
    "    for i in range(30):\n",
    "        paper = next(search_query)\n",
    "        if ('url' in paper.bib):\n",
    "            currentresult = []\n",
    "            currentresult.append(paper.bib['url'])\n",
    "            currentresult.append(paper.bib['abstract'])\n",
    "            currentresult.append(item)\n",
    "            results.append(currentresult)\n",
    "        \n",
    "with open('Googlescholar_results.csv', 'w', newline='', encoding='utf-8') as writeFile:\n",
    "    writer = csv.writer(writeFile)\n",
    "    writer.writerows(results)"
   ]
  }
 ],
 "metadata": {
  "kernelspec": {
   "display_name": "Python 3",
   "language": "python",
   "name": "python3"
  },
  "language_info": {
   "codemirror_mode": {
    "name": "ipython",
    "version": 3
   },
   "file_extension": ".py",
   "mimetype": "text/x-python",
   "name": "python",
   "nbconvert_exporter": "python",
   "pygments_lexer": "ipython3",
   "version": "3.6.7"
  }
 },
 "nbformat": 4,
 "nbformat_minor": 4
}
