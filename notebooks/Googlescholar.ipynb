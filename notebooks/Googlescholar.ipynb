{
 "cells": [
  {
   "cell_type": "code",
   "execution_count": null,
   "metadata": {},
   "outputs": [],
   "source": [
    "# Google Scholar: https://scholar.google.com/\n",
    "import scholarly\n",
    "import json\n",
    "import csv\n",
    "import time\n",
    "import pandas as pd\n",
    "\n",
    "### Time of execution\n",
    "start = time.time()\n",
    "\n",
    "catalogue = pd.read_csv('catalogue.csv')\n",
    "catalogue.fillna(method='ffill', inplace = True)\n",
    "searchterms = list(catalogue.keywords)\n",
    "\n",
    "results = []\n",
    "for item in searchterms:\n",
    "    search_query = scholarly.search_pubs_query(item)\n",
    "    for i in range(30):\n",
    "        paper = next(search_query)\n",
    "        if ('url' in paper.bib):\n",
    "            currentresult = []\n",
    "            currentresult.append(paper.bib['url'])\n",
    "            currentresult.append(paper.bib['abstract'])\n",
    "            currentresult.append(item)\n",
    "            results.append(currentresult)\n",
    "        \n",
    "with open('../datasets/Googlescholar_results.csv', 'w', newline='', encoding='utf-8') as writeFile:\n",
    "    writer = csv.writer(writeFile)\n",
    "    writer.writerows(results)"
   ]
  },
  {
   "cell_type": "code",
   "execution_count": null,
   "metadata": {},
   "outputs": [],
   "source": []
  }
 ],
 "metadata": {
  "kernelspec": {
   "display_name": "Python 3",
   "language": "python",
   "name": "python3"
  },
  "language_info": {
   "codemirror_mode": {
    "name": "ipython",
    "version": 3
   },
   "file_extension": ".py",
   "mimetype": "text/x-python",
   "name": "python",
   "nbconvert_exporter": "python",
   "pygments_lexer": "ipython3",
   "version": "3.7.3"
  }
 },
 "nbformat": 4,
 "nbformat_minor": 4
}
