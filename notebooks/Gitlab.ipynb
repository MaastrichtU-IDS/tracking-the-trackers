{
 "cells": [
  {
   "cell_type": "code",
   "execution_count": 2,
   "metadata": {},
   "outputs": [],
   "source": [
    "# Gitlab: https://gitlab.com/\n",
    "import requests\n",
    "import json\n",
    "import csv\n",
    "\n",
    "results = []\n",
    "searchterms = ['ai consumer fraud online','online shopping fraud','online shopping law enforcement','online law enforcement','e-commerce fraud','e-commerce fraud pricing',\n",
    "'fake review detection','consumer profiling algorithm','price discrimination algorithm','algorithm detect unfair pricing website','detecting e-commerce',\n",
    "'cookie tracking','cookie monitoring','website tracking','website monitoring','illegal advertising','false advertising','misleading advertising',\n",
    "'unfair terms','web accessibility','identity protection','web beacon','geoblocking','consumer protection']\n",
    "\n",
    "for item in searchterms:    \n",
    "    response = requests.get('https://gitlab.com/api/v4/search', params={'scope' : 'projects', 'search' : item, 'per_page' : '30'}, headers={'PRIVATE-TOKEN' : 'VZysbdMGTupHvHrws-Ny'}, cookies=None, auth=None, timeout=None)\n",
    "    \n",
    "    jsonresult = json.loads(response.text)\n",
    "    \n",
    "    for app in jsonresult:\n",
    "        if (app['description'] is not None and app['description'] != ''):\n",
    "            currentresult = []\n",
    "            currentresult.append(app['web_url'])\n",
    "            currentresult.append(app['description'])\n",
    "            currentresult.append(item)\n",
    "            results.append(currentresult)\n",
    "\n",
    "with open('Gitlab_results.csv', 'w', newline='',encoding='utf-8') as writeFile:\n",
    "    writer = csv.writer(writeFile)\n",
    "    writer.writerows(results)"
   ]
  },
  {
   "cell_type": "code",
   "execution_count": null,
   "metadata": {},
   "outputs": [],
   "source": []
  }
 ],
 "metadata": {
  "kernelspec": {
   "display_name": "Python 3",
   "language": "python",
   "name": "python3"
  },
  "language_info": {
   "codemirror_mode": {
    "name": "ipython",
    "version": 3
   },
   "file_extension": ".py",
   "mimetype": "text/x-python",
   "name": "python",
   "nbconvert_exporter": "python",
   "pygments_lexer": "ipython3",
   "version": "3.6.7"
  }
 },
 "nbformat": 4,
 "nbformat_minor": 4
}
