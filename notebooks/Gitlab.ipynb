{
 "cells": [
  {
   "cell_type": "code",
   "execution_count": 1,
   "metadata": {},
   "outputs": [
    {
     "name": "stdout",
     "output_type": "stream",
     "text": [
      "Elapsed time: 00:01:32\n"
     ]
    }
   ],
   "source": [
    "# Gitlab: https://gitlab.com/\n",
    "import requests\n",
    "import json\n",
    "import csv\n",
    "import time\n",
    "import pandas as pd\n",
    "\n",
    "### Time of execution\n",
    "start = time.time()\n",
    "\n",
    "catalogue = pd.read_csv('catalogue.csv')\n",
    "catalogue.fillna(method='ffill', inplace = True)\n",
    "searchterms = list(catalogue.keywords)\n",
    "\n",
    "results = []\n",
    "for item in searchterms:    \n",
    "    response = requests.get('https://gitlab.com/api/v4/search', params={'scope' : 'projects', 'search' : item, 'per_page' : '40'}, headers={'PRIVATE-TOKEN' : ''}, cookies=None, auth=None, timeout=None)\n",
    "    \n",
    "    jsonresult = json.loads(response.text)\n",
    "    \n",
    "    for app in jsonresult:\n",
    "        if (app['description'] is not None and app['description'] != ''):\n",
    "            currentresult = []\n",
    "            currentresult.append(app['web_url'])\n",
    "            currentresult.append(app['description'])\n",
    "            currentresult.append(item)\n",
    "            results.append(currentresult)\n",
    "\n",
    "with open('../datasets/Gitlab_results.csv', 'w', newline='',encoding='utf-8') as writeFile:\n",
    "    writer = csv.writer(writeFile)\n",
    "    writer.writerows(results)\n",
    "\n",
    "end = time.time()\n",
    "print('Elapsed time: {}'.format(time.strftime(\"%H:%M:%S\", time.gmtime(end - start))))"
   ]
  },
  {
   "cell_type": "code",
   "execution_count": null,
   "metadata": {},
   "outputs": [],
   "source": []
  }
 ],
 "metadata": {
  "kernelspec": {
   "display_name": "Python 3",
   "language": "python",
   "name": "python3"
  },
  "language_info": {
   "codemirror_mode": {
    "name": "ipython",
    "version": 3
   },
   "file_extension": ".py",
   "mimetype": "text/x-python",
   "name": "python",
   "nbconvert_exporter": "python",
   "pygments_lexer": "ipython3",
   "version": "3.7.3"
  }
 },
 "nbformat": 4,
 "nbformat_minor": 4
}
