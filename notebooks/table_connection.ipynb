{
 "cells": [
  {
   "cell_type": "markdown",
   "metadata": {},
   "source": [
    "## Connection to table in GDrive"
   ]
  },
  {
   "cell_type": "code",
   "execution_count": 1,
   "metadata": {},
   "outputs": [],
   "source": [
    "from oauth2client.service_account import ServiceAccountCredentials\n",
    "from df2gspread import df2gspread as d2g\n",
    "from pandas.io.json import json_normalize\n",
    "import pandas as pd\n",
    "import numpy as np\n",
    "import gspread"
   ]
  },
  {
   "cell_type": "markdown",
   "metadata": {},
   "source": [
    "---\n",
    "### Extracted table from automatic sources"
   ]
  },
  {
   "cell_type": "code",
   "execution_count": 2,
   "metadata": {},
   "outputs": [],
   "source": [
    "table1 = pd.read_csv('../datasets/Arxiv_results.csv', header=None).rename(columns={0:'url',1:'description',2:'topic'})\n",
    "table1['source'] = 'Arxiv'\n",
    "table1['source_type'] = 'Research'\n",
    "table2 = pd.read_csv('../datasets/DBLP_results.csv', header=None).rename(columns={0:'url',1:'description',2:'topic'})\n",
    "table2['source'] = 'DBLP'\n",
    "table2['source_type'] = 'Research'\n",
    "table3 = pd.read_csv('../datasets/Gitlab_results.csv', header=None).rename(columns={0:'url',1:'description',2:'topic'})\n",
    "table3['source'] = 'Gitlab'\n",
    "table3['source_type'] = 'Software registry'\n",
    "table4 = pd.read_csv('../datasets/Googleplay_results.csv', header=None).rename(columns={0:'url',1:'description',2:'topic'})\n",
    "table4['source'] = 'Google play'\n",
    "table4['source_type'] = 'Software registry'\n",
    "table5 = pd.read_csv('../datasets/Googlescholar_results.csv', header=None).rename(columns={0:'url',1:'description',2:'topic'})\n",
    "table5['source'] = 'Google scholar'\n",
    "table5['source_type'] = 'Research'\n",
    "table6 = pd.read_excel('../datasets/github_monitoring_tools.xlsx')[['url','description','topic']]\n",
    "table6['source'] = 'Github'\n",
    "table6['source_type'] = 'Software registry'\n",
    "table7 = pd.read_excel('../datasets/patents_monitoring_tools.xlsx')[['url','description','topic']]\n",
    "table7['source'] = 'EU Patents Database'\n",
    "table7['source_type'] = 'Software registry'"
   ]
  },
  {
   "cell_type": "code",
   "execution_count": 3,
   "metadata": {},
   "outputs": [],
   "source": [
    "# Merge the tables\n",
    "tableA = table1.append(table2, sort=True).reset_index()\n",
    "tableB = tableA.append(table3, sort=True).reset_index()[['url','description','topic','source','source_type']]\n",
    "tableC = tableB.append(table4, sort=True).reset_index()[['url','description','topic','source','source_type']]\n",
    "tableD = tableC.append(table5, sort=True).reset_index()[['url','description','topic','source','source_type']]\n",
    "tableE = tableD.append(table6, sort=True).reset_index()[['url','description','topic','source','source_type']]\n",
    "tableF = tableE.append(table7, sort=True).reset_index()[['url','description','topic','source','source_type']]"
   ]
  },
  {
   "cell_type": "code",
   "execution_count": 4,
   "metadata": {},
   "outputs": [],
   "source": [
    "automathic_table = tableF\n",
    "automathic_table['name'] = 'NA'\n",
    "automathic_table['method'] = 'Crawler search'"
   ]
  },
  {
   "cell_type": "code",
   "execution_count": 5,
   "metadata": {},
   "outputs": [
    {
     "data": {
      "text/html": [
       "<div>\n",
       "<style scoped>\n",
       "    .dataframe tbody tr th:only-of-type {\n",
       "        vertical-align: middle;\n",
       "    }\n",
       "\n",
       "    .dataframe tbody tr th {\n",
       "        vertical-align: top;\n",
       "    }\n",
       "\n",
       "    .dataframe thead th {\n",
       "        text-align: right;\n",
       "    }\n",
       "</style>\n",
       "<table border=\"1\" class=\"dataframe\">\n",
       "  <thead>\n",
       "    <tr style=\"text-align: right;\">\n",
       "      <th></th>\n",
       "      <th>url</th>\n",
       "      <th>description</th>\n",
       "      <th>topic</th>\n",
       "      <th>source</th>\n",
       "      <th>source_type</th>\n",
       "      <th>name</th>\n",
       "      <th>method</th>\n",
       "    </tr>\n",
       "  </thead>\n",
       "  <tbody>\n",
       "    <tr>\n",
       "      <th>0</th>\n",
       "      <td>http://arxiv.org/abs/1706.01560v1</td>\n",
       "      <td>The profitability of fraud in online systems s...</td>\n",
       "      <td>ai consumer fraud online</td>\n",
       "      <td>Arxiv</td>\n",
       "      <td>Research</td>\n",
       "      <td>NA</td>\n",
       "      <td>Crawler search</td>\n",
       "    </tr>\n",
       "    <tr>\n",
       "      <th>1</th>\n",
       "      <td>http://arxiv.org/abs/1805.00464v1</td>\n",
       "      <td>The e-commerce share in the global retail spen...</td>\n",
       "      <td>ai consumer fraud online</td>\n",
       "      <td>Arxiv</td>\n",
       "      <td>Research</td>\n",
       "      <td>NA</td>\n",
       "      <td>Crawler search</td>\n",
       "    </tr>\n",
       "    <tr>\n",
       "      <th>2</th>\n",
       "      <td>http://arxiv.org/abs/1906.04272v2</td>\n",
       "      <td>Given the magnitude of online auction transact...</td>\n",
       "      <td>ai consumer fraud online</td>\n",
       "      <td>Arxiv</td>\n",
       "      <td>Research</td>\n",
       "      <td>NA</td>\n",
       "      <td>Crawler search</td>\n",
       "    </tr>\n",
       "    <tr>\n",
       "      <th>3</th>\n",
       "      <td>http://arxiv.org/abs/1906.07974v1</td>\n",
       "      <td>Providers of online marketplaces are constantl...</td>\n",
       "      <td>ai consumer fraud online</td>\n",
       "      <td>Arxiv</td>\n",
       "      <td>Research</td>\n",
       "      <td>NA</td>\n",
       "      <td>Crawler search</td>\n",
       "    </tr>\n",
       "    <tr>\n",
       "      <th>4</th>\n",
       "      <td>http://arxiv.org/abs/1806.08910v1</td>\n",
       "      <td>We introduce the fraud de-anonymization proble...</td>\n",
       "      <td>ai consumer fraud online</td>\n",
       "      <td>Arxiv</td>\n",
       "      <td>Research</td>\n",
       "      <td>NA</td>\n",
       "      <td>Crawler search</td>\n",
       "    </tr>\n",
       "  </tbody>\n",
       "</table>\n",
       "</div>"
      ],
      "text/plain": [
       "                                 url  \\\n",
       "0  http://arxiv.org/abs/1706.01560v1   \n",
       "1  http://arxiv.org/abs/1805.00464v1   \n",
       "2  http://arxiv.org/abs/1906.04272v2   \n",
       "3  http://arxiv.org/abs/1906.07974v1   \n",
       "4  http://arxiv.org/abs/1806.08910v1   \n",
       "\n",
       "                                         description  \\\n",
       "0  The profitability of fraud in online systems s...   \n",
       "1  The e-commerce share in the global retail spen...   \n",
       "2  Given the magnitude of online auction transact...   \n",
       "3  Providers of online marketplaces are constantl...   \n",
       "4  We introduce the fraud de-anonymization proble...   \n",
       "\n",
       "                      topic source source_type name          method  \n",
       "0  ai consumer fraud online  Arxiv    Research   NA  Crawler search  \n",
       "1  ai consumer fraud online  Arxiv    Research   NA  Crawler search  \n",
       "2  ai consumer fraud online  Arxiv    Research   NA  Crawler search  \n",
       "3  ai consumer fraud online  Arxiv    Research   NA  Crawler search  \n",
       "4  ai consumer fraud online  Arxiv    Research   NA  Crawler search  "
      ]
     },
     "execution_count": 5,
     "metadata": {},
     "output_type": "execute_result"
    }
   ],
   "source": [
    "automathic_table.head()"
   ]
  },
  {
   "cell_type": "markdown",
   "metadata": {},
   "source": [
    "---\n",
    "### Connect with the table form manual search"
   ]
  },
  {
   "cell_type": "code",
   "execution_count": 6,
   "metadata": {},
   "outputs": [],
   "source": [
    "## Connect to our service account\n",
    "project = \n",
    "scope = ['https://spreadsheets.google.com/feeds']\n",
    "credentials = ServiceAccountCredentials.from_json_keyfile_name(project, scope)\n",
    "gc = gspread.authorize(credentials)"
   ]
  },
  {
   "cell_type": "code",
   "execution_count": 7,
   "metadata": {},
   "outputs": [],
   "source": [
    "##Get candidate data sheet from Google Drive\n",
    "spreadsheet_key = \n",
    "worksheet_name = 'manual_search'"
   ]
  },
  {
   "cell_type": "code",
   "execution_count": 8,
   "metadata": {},
   "outputs": [],
   "source": [
    "book = gc.open_by_key(spreadsheet_key)\n",
    "worksheet = book.worksheet(worksheet_name)\n",
    "data = worksheet.get_all_values()\n",
    "manual_table = pd.DataFrame(data[1:], columns=data[0])"
   ]
  },
  {
   "cell_type": "code",
   "execution_count": 9,
   "metadata": {},
   "outputs": [
    {
     "data": {
      "text/html": [
       "<div>\n",
       "<style scoped>\n",
       "    .dataframe tbody tr th:only-of-type {\n",
       "        vertical-align: middle;\n",
       "    }\n",
       "\n",
       "    .dataframe tbody tr th {\n",
       "        vertical-align: top;\n",
       "    }\n",
       "\n",
       "    .dataframe thead th {\n",
       "        text-align: right;\n",
       "    }\n",
       "</style>\n",
       "<table border=\"1\" class=\"dataframe\">\n",
       "  <thead>\n",
       "    <tr style=\"text-align: right;\">\n",
       "      <th></th>\n",
       "      <th>name</th>\n",
       "      <th>url</th>\n",
       "      <th>description</th>\n",
       "      <th>topic</th>\n",
       "      <th>method</th>\n",
       "      <th>source</th>\n",
       "      <th>source_type</th>\n",
       "    </tr>\n",
       "  </thead>\n",
       "  <tbody>\n",
       "    <tr>\n",
       "      <th>0</th>\n",
       "      <td>Detection of Zombie PCs Based on Email Spam An...</td>\n",
       "      <td>https://apps.webofknowledge.com/full_record.do...</td>\n",
       "      <td>we propose a system that detects botnets and z...</td>\n",
       "      <td>\"IP blocking\"</td>\n",
       "      <td>Research search</td>\n",
       "      <td>Web of Science Database</td>\n",
       "      <td>Research</td>\n",
       "    </tr>\n",
       "    <tr>\n",
       "      <th>1</th>\n",
       "      <td>Engineering an Agent-based System for Product ...</td>\n",
       "      <td>https://users.isc.tuc.gr/~nispanoudakis/resour...</td>\n",
       "      <td>For developing pricing by companies</td>\n",
       "      <td>\"individual pricing\"</td>\n",
       "      <td>Research search</td>\n",
       "      <td>Web of Science Database</td>\n",
       "      <td>Research</td>\n",
       "    </tr>\n",
       "  </tbody>\n",
       "</table>\n",
       "</div>"
      ],
      "text/plain": [
       "                                                name  \\\n",
       "0  Detection of Zombie PCs Based on Email Spam An...   \n",
       "1  Engineering an Agent-based System for Product ...   \n",
       "\n",
       "                                                 url  \\\n",
       "0  https://apps.webofknowledge.com/full_record.do...   \n",
       "1  https://users.isc.tuc.gr/~nispanoudakis/resour...   \n",
       "\n",
       "                                         description                 topic  \\\n",
       "0  we propose a system that detects botnets and z...         \"IP blocking\"   \n",
       "1                For developing pricing by companies  \"individual pricing\"   \n",
       "\n",
       "            method                   source source_type  \n",
       "0  Research search  Web of Science Database    Research  \n",
       "1  Research search  Web of Science Database    Research  "
      ]
     },
     "execution_count": 9,
     "metadata": {},
     "output_type": "execute_result"
    }
   ],
   "source": [
    "manual_table.head(2)"
   ]
  },
  {
   "cell_type": "markdown",
   "metadata": {},
   "source": [
    "---\n",
    "### Merge the tables and remove duplictes"
   ]
  },
  {
   "cell_type": "code",
   "execution_count": 10,
   "metadata": {},
   "outputs": [
    {
     "data": {
      "text/html": [
       "<div>\n",
       "<style scoped>\n",
       "    .dataframe tbody tr th:only-of-type {\n",
       "        vertical-align: middle;\n",
       "    }\n",
       "\n",
       "    .dataframe tbody tr th {\n",
       "        vertical-align: top;\n",
       "    }\n",
       "\n",
       "    .dataframe thead th {\n",
       "        text-align: right;\n",
       "    }\n",
       "</style>\n",
       "<table border=\"1\" class=\"dataframe\">\n",
       "  <thead>\n",
       "    <tr style=\"text-align: right;\">\n",
       "      <th></th>\n",
       "      <th>name</th>\n",
       "      <th>url</th>\n",
       "      <th>description</th>\n",
       "      <th>topic</th>\n",
       "      <th>method</th>\n",
       "      <th>source</th>\n",
       "      <th>source_type</th>\n",
       "    </tr>\n",
       "  </thead>\n",
       "  <tbody>\n",
       "    <tr>\n",
       "      <th>0</th>\n",
       "      <td>Detection of Zombie PCs Based on Email Spam An...</td>\n",
       "      <td>https://apps.webofknowledge.com/full_record.do...</td>\n",
       "      <td>we propose a system that detects botnets and z...</td>\n",
       "      <td>\"IP blocking\"</td>\n",
       "      <td>Research search</td>\n",
       "      <td>Web of Science Database</td>\n",
       "      <td>Research</td>\n",
       "    </tr>\n",
       "    <tr>\n",
       "      <th>1</th>\n",
       "      <td>Engineering an Agent-based System for Product ...</td>\n",
       "      <td>https://users.isc.tuc.gr/~nispanoudakis/resour...</td>\n",
       "      <td>For developing pricing by companies</td>\n",
       "      <td>\"individual pricing\"</td>\n",
       "      <td>Research search</td>\n",
       "      <td>Web of Science Database</td>\n",
       "      <td>Research</td>\n",
       "    </tr>\n",
       "    <tr>\n",
       "      <th>2</th>\n",
       "      <td>Automatic Detection of Airline Ticket Price an...</td>\n",
       "      <td>https://ieeexplore.ieee.org/stamp/stamp.jsp?tp...</td>\n",
       "      <td>Might include references to tools detecting pr...</td>\n",
       "      <td>\"price discrimination\" AND detection</td>\n",
       "      <td>Research search</td>\n",
       "      <td>Web of Science Database</td>\n",
       "      <td>Research</td>\n",
       "    </tr>\n",
       "    <tr>\n",
       "      <th>3</th>\n",
       "      <td>Web services security proxy: A centralized thi...</td>\n",
       "      <td>https://apps.webofknowledge.com/full_record.do...</td>\n",
       "      <td>In this paper a thin-client framework based on...</td>\n",
       "      <td>\"IP blocking\"</td>\n",
       "      <td>Research search</td>\n",
       "      <td>Web of Science Database</td>\n",
       "      <td>Research</td>\n",
       "    </tr>\n",
       "    <tr>\n",
       "      <th>4</th>\n",
       "      <td>Share or Not: Investigating the Presence of La...</td>\n",
       "      <td>https://ieeexplore.ieee.org/stamp/stamp.jsp?tp...</td>\n",
       "      <td>We investigate the presence of large-scale add...</td>\n",
       "      <td>\"geoblocking\"</td>\n",
       "      <td>Research search</td>\n",
       "      <td>Web of Science Database</td>\n",
       "      <td>Research</td>\n",
       "    </tr>\n",
       "  </tbody>\n",
       "</table>\n",
       "</div>"
      ],
      "text/plain": [
       "                                                name  \\\n",
       "0  Detection of Zombie PCs Based on Email Spam An...   \n",
       "1  Engineering an Agent-based System for Product ...   \n",
       "2  Automatic Detection of Airline Ticket Price an...   \n",
       "3  Web services security proxy: A centralized thi...   \n",
       "4  Share or Not: Investigating the Presence of La...   \n",
       "\n",
       "                                                 url  \\\n",
       "0  https://apps.webofknowledge.com/full_record.do...   \n",
       "1  https://users.isc.tuc.gr/~nispanoudakis/resour...   \n",
       "2  https://ieeexplore.ieee.org/stamp/stamp.jsp?tp...   \n",
       "3  https://apps.webofknowledge.com/full_record.do...   \n",
       "4  https://ieeexplore.ieee.org/stamp/stamp.jsp?tp...   \n",
       "\n",
       "                                         description  \\\n",
       "0  we propose a system that detects botnets and z...   \n",
       "1                For developing pricing by companies   \n",
       "2  Might include references to tools detecting pr...   \n",
       "3  In this paper a thin-client framework based on...   \n",
       "4  We investigate the presence of large-scale add...   \n",
       "\n",
       "                                  topic           method  \\\n",
       "0                         \"IP blocking\"  Research search   \n",
       "1                  \"individual pricing\"  Research search   \n",
       "2  \"price discrimination\" AND detection  Research search   \n",
       "3                         \"IP blocking\"  Research search   \n",
       "4                         \"geoblocking\"  Research search   \n",
       "\n",
       "                    source source_type  \n",
       "0  Web of Science Database    Research  \n",
       "1  Web of Science Database    Research  \n",
       "2  Web of Science Database    Research  \n",
       "3  Web of Science Database    Research  \n",
       "4  Web of Science Database    Research  "
      ]
     },
     "execution_count": 10,
     "metadata": {},
     "output_type": "execute_result"
    }
   ],
   "source": [
    "manual_table.head()"
   ]
  },
  {
   "cell_type": "code",
   "execution_count": 11,
   "metadata": {},
   "outputs": [
    {
     "data": {
      "text/html": [
       "<div>\n",
       "<style scoped>\n",
       "    .dataframe tbody tr th:only-of-type {\n",
       "        vertical-align: middle;\n",
       "    }\n",
       "\n",
       "    .dataframe tbody tr th {\n",
       "        vertical-align: top;\n",
       "    }\n",
       "\n",
       "    .dataframe thead th {\n",
       "        text-align: right;\n",
       "    }\n",
       "</style>\n",
       "<table border=\"1\" class=\"dataframe\">\n",
       "  <thead>\n",
       "    <tr style=\"text-align: right;\">\n",
       "      <th></th>\n",
       "      <th>url</th>\n",
       "      <th>description</th>\n",
       "      <th>topic</th>\n",
       "      <th>source</th>\n",
       "      <th>source_type</th>\n",
       "      <th>name</th>\n",
       "      <th>method</th>\n",
       "    </tr>\n",
       "  </thead>\n",
       "  <tbody>\n",
       "    <tr>\n",
       "      <th>0</th>\n",
       "      <td>http://arxiv.org/abs/1706.01560v1</td>\n",
       "      <td>The profitability of fraud in online systems s...</td>\n",
       "      <td>ai consumer fraud online</td>\n",
       "      <td>Arxiv</td>\n",
       "      <td>Research</td>\n",
       "      <td>NA</td>\n",
       "      <td>Crawler search</td>\n",
       "    </tr>\n",
       "    <tr>\n",
       "      <th>1</th>\n",
       "      <td>http://arxiv.org/abs/1805.00464v1</td>\n",
       "      <td>The e-commerce share in the global retail spen...</td>\n",
       "      <td>ai consumer fraud online</td>\n",
       "      <td>Arxiv</td>\n",
       "      <td>Research</td>\n",
       "      <td>NA</td>\n",
       "      <td>Crawler search</td>\n",
       "    </tr>\n",
       "    <tr>\n",
       "      <th>2</th>\n",
       "      <td>http://arxiv.org/abs/1906.04272v2</td>\n",
       "      <td>Given the magnitude of online auction transact...</td>\n",
       "      <td>ai consumer fraud online</td>\n",
       "      <td>Arxiv</td>\n",
       "      <td>Research</td>\n",
       "      <td>NA</td>\n",
       "      <td>Crawler search</td>\n",
       "    </tr>\n",
       "    <tr>\n",
       "      <th>3</th>\n",
       "      <td>http://arxiv.org/abs/1906.07974v1</td>\n",
       "      <td>Providers of online marketplaces are constantl...</td>\n",
       "      <td>ai consumer fraud online</td>\n",
       "      <td>Arxiv</td>\n",
       "      <td>Research</td>\n",
       "      <td>NA</td>\n",
       "      <td>Crawler search</td>\n",
       "    </tr>\n",
       "    <tr>\n",
       "      <th>4</th>\n",
       "      <td>http://arxiv.org/abs/1806.08910v1</td>\n",
       "      <td>We introduce the fraud de-anonymization proble...</td>\n",
       "      <td>ai consumer fraud online</td>\n",
       "      <td>Arxiv</td>\n",
       "      <td>Research</td>\n",
       "      <td>NA</td>\n",
       "      <td>Crawler search</td>\n",
       "    </tr>\n",
       "  </tbody>\n",
       "</table>\n",
       "</div>"
      ],
      "text/plain": [
       "                                 url  \\\n",
       "0  http://arxiv.org/abs/1706.01560v1   \n",
       "1  http://arxiv.org/abs/1805.00464v1   \n",
       "2  http://arxiv.org/abs/1906.04272v2   \n",
       "3  http://arxiv.org/abs/1906.07974v1   \n",
       "4  http://arxiv.org/abs/1806.08910v1   \n",
       "\n",
       "                                         description  \\\n",
       "0  The profitability of fraud in online systems s...   \n",
       "1  The e-commerce share in the global retail spen...   \n",
       "2  Given the magnitude of online auction transact...   \n",
       "3  Providers of online marketplaces are constantl...   \n",
       "4  We introduce the fraud de-anonymization proble...   \n",
       "\n",
       "                      topic source source_type name          method  \n",
       "0  ai consumer fraud online  Arxiv    Research   NA  Crawler search  \n",
       "1  ai consumer fraud online  Arxiv    Research   NA  Crawler search  \n",
       "2  ai consumer fraud online  Arxiv    Research   NA  Crawler search  \n",
       "3  ai consumer fraud online  Arxiv    Research   NA  Crawler search  \n",
       "4  ai consumer fraud online  Arxiv    Research   NA  Crawler search  "
      ]
     },
     "execution_count": 11,
     "metadata": {},
     "output_type": "execute_result"
    }
   ],
   "source": [
    "automathic_table.head()"
   ]
  },
  {
   "cell_type": "code",
   "execution_count": 12,
   "metadata": {},
   "outputs": [],
   "source": [
    "table = manual_table.append(\n",
    "    automathic_table, sort=True).reset_index()[['url','name','description','topic','method','source','source_type']]"
   ]
  },
  {
   "cell_type": "code",
   "execution_count": 13,
   "metadata": {},
   "outputs": [
    {
     "name": "stdout",
     "output_type": "stream",
     "text": [
      "Total tools: 2127\n",
      "Unique tools: 1944\n",
      "=======\n",
      "url with 0 duplicates: 1944\n",
      "url with 1 duplicates: 145\n",
      "url with 2 duplicates: 30\n",
      "url with 3 duplicates: 6\n",
      "url with 4 duplicates: 2\n",
      "url with 5 duplicates: 0\n",
      "url with 6 duplicates: 0\n",
      "url with 7 duplicates: 0\n",
      "url with 8 duplicates: 0\n",
      "url with 9 duplicates: 0\n",
      "=======\n",
      "lines to remove: 183\n"
     ]
    }
   ],
   "source": [
    "#duplicates identification\n",
    "list_id = list(table.url)\n",
    "list_uniques = list(table.url.unique())\n",
    "print('Total tools: {}\\nUnique tools: {}\\n======='.format(len(list_id),len(list_uniques)))\n",
    "for i in range(0,10):\n",
    "    sets = list(set([x for x in list_id if list_id.count(x) > i]))\n",
    "    print('url with {} duplicates: {}'.format(i, len(sets)))\n",
    "print('=======\\nlines to remove: {}'.format(len(list_id) - len(list_uniques)))"
   ]
  },
  {
   "cell_type": "code",
   "execution_count": 14,
   "metadata": {},
   "outputs": [],
   "source": [
    "## Save the data back to a new sheet in the dataframe\n",
    "table = table.drop_duplicates(subset ='url')"
   ]
  },
  {
   "cell_type": "markdown",
   "metadata": {},
   "source": [
    "---\n",
    "## Sampling"
   ]
  },
  {
   "cell_type": "code",
   "execution_count": 15,
   "metadata": {},
   "outputs": [],
   "source": [
    "sample_size = 80"
   ]
  },
  {
   "cell_type": "code",
   "execution_count": 16,
   "metadata": {},
   "outputs": [],
   "source": [
    "groups = table.groupby('source').count()['url'].reset_index()\n",
    "groups['proportion'] = groups.url/groups.url.sum()\n",
    "groups['selection'] = [int(i) for i in groups.proportion*sample_size]"
   ]
  },
  {
   "cell_type": "code",
   "execution_count": 17,
   "metadata": {},
   "outputs": [
    {
     "data": {
      "text/html": [
       "<div>\n",
       "<style scoped>\n",
       "    .dataframe tbody tr th:only-of-type {\n",
       "        vertical-align: middle;\n",
       "    }\n",
       "\n",
       "    .dataframe tbody tr th {\n",
       "        vertical-align: top;\n",
       "    }\n",
       "\n",
       "    .dataframe thead th {\n",
       "        text-align: right;\n",
       "    }\n",
       "</style>\n",
       "<table border=\"1\" class=\"dataframe\">\n",
       "  <thead>\n",
       "    <tr style=\"text-align: right;\">\n",
       "      <th></th>\n",
       "      <th>source</th>\n",
       "      <th>url</th>\n",
       "      <th>proportion</th>\n",
       "      <th>selection</th>\n",
       "    </tr>\n",
       "  </thead>\n",
       "  <tbody>\n",
       "    <tr>\n",
       "      <th>0</th>\n",
       "      <td>Arxiv</td>\n",
       "      <td>436</td>\n",
       "      <td>0.224280</td>\n",
       "      <td>17</td>\n",
       "    </tr>\n",
       "    <tr>\n",
       "      <th>1</th>\n",
       "      <td>DBLP</td>\n",
       "      <td>219</td>\n",
       "      <td>0.112654</td>\n",
       "      <td>9</td>\n",
       "    </tr>\n",
       "    <tr>\n",
       "      <th>2</th>\n",
       "      <td>EU Patents Database</td>\n",
       "      <td>151</td>\n",
       "      <td>0.077675</td>\n",
       "      <td>6</td>\n",
       "    </tr>\n",
       "    <tr>\n",
       "      <th>3</th>\n",
       "      <td>Github</td>\n",
       "      <td>177</td>\n",
       "      <td>0.091049</td>\n",
       "      <td>7</td>\n",
       "    </tr>\n",
       "    <tr>\n",
       "      <th>4</th>\n",
       "      <td>Gitlab</td>\n",
       "      <td>67</td>\n",
       "      <td>0.034465</td>\n",
       "      <td>2</td>\n",
       "    </tr>\n",
       "    <tr>\n",
       "      <th>5</th>\n",
       "      <td>Google play</td>\n",
       "      <td>413</td>\n",
       "      <td>0.212449</td>\n",
       "      <td>16</td>\n",
       "    </tr>\n",
       "    <tr>\n",
       "      <th>6</th>\n",
       "      <td>Google scholar</td>\n",
       "      <td>418</td>\n",
       "      <td>0.215021</td>\n",
       "      <td>17</td>\n",
       "    </tr>\n",
       "    <tr>\n",
       "      <th>7</th>\n",
       "      <td>HeinOnline database</td>\n",
       "      <td>17</td>\n",
       "      <td>0.008745</td>\n",
       "      <td>0</td>\n",
       "    </tr>\n",
       "    <tr>\n",
       "      <th>8</th>\n",
       "      <td>Web of Science Database</td>\n",
       "      <td>46</td>\n",
       "      <td>0.023663</td>\n",
       "      <td>1</td>\n",
       "    </tr>\n",
       "  </tbody>\n",
       "</table>\n",
       "</div>"
      ],
      "text/plain": [
       "                    source  url  proportion  selection\n",
       "0                    Arxiv  436    0.224280         17\n",
       "1                     DBLP  219    0.112654          9\n",
       "2      EU Patents Database  151    0.077675          6\n",
       "3                   Github  177    0.091049          7\n",
       "4                   Gitlab   67    0.034465          2\n",
       "5              Google play  413    0.212449         16\n",
       "6           Google scholar  418    0.215021         17\n",
       "7      HeinOnline database   17    0.008745          0\n",
       "8  Web of Science Database   46    0.023663          1"
      ]
     },
     "execution_count": 17,
     "metadata": {},
     "output_type": "execute_result"
    }
   ],
   "source": [
    "groups"
   ]
  },
  {
   "cell_type": "code",
   "execution_count": 18,
   "metadata": {},
   "outputs": [
    {
     "name": "stdout",
     "output_type": "stream",
     "text": [
      "Arxiv   17\n",
      "DBLP   9\n",
      "EU Patents Database   6\n",
      "Github   7\n",
      "Gitlab   2\n",
      "Google play   16\n",
      "Google scholar   17\n",
      "HeinOnline database   0\n",
      "Web of Science Database   1\n"
     ]
    }
   ],
   "source": [
    "np.random.seed(32)\n",
    "matrix = []\n",
    "for source in groups.source:\n",
    "    range_group = table[table.source == str(source)].index\n",
    "    selection = groups[groups.source == str(source)].selection.values[0]\n",
    "    print(source, ' ', selection)\n",
    "    group_sample = list(np.random.choice(range_group, selection))\n",
    "    matrix.append(group_sample)\n",
    "stratified_sample = sorted(set([item for sublist in matrix for item in sublist]))"
   ]
  },
  {
   "cell_type": "code",
   "execution_count": 19,
   "metadata": {},
   "outputs": [],
   "source": [
    "table['sample'] = [1 if i in stratified_sample else 0 for i in table.index]        "
   ]
  },
  {
   "cell_type": "code",
   "execution_count": 23,
   "metadata": {},
   "outputs": [
    {
     "data": {
      "text/plain": [
       "74"
      ]
     },
     "execution_count": 23,
     "metadata": {},
     "output_type": "execute_result"
    }
   ],
   "source": [
    "table['sample'].sum()"
   ]
  },
  {
   "cell_type": "markdown",
   "metadata": {},
   "source": [
    "---"
   ]
  },
  {
   "cell_type": "code",
   "execution_count": 21,
   "metadata": {},
   "outputs": [
    {
     "data": {
      "text/plain": [
       "<Worksheet 'clean_database' id:753128839>"
      ]
     },
     "execution_count": 21,
     "metadata": {},
     "output_type": "execute_result"
    }
   ],
   "source": [
    "wks_name = 'clean_database'\n",
    "d2g.upload(table, spreadsheet_key, wks_name, credentials=credentials, row_names=False)"
   ]
  },
  {
   "cell_type": "code",
   "execution_count": 22,
   "metadata": {},
   "outputs": [
    {
     "data": {
      "text/plain": [
       "<Worksheet 'terms' id:1326733241>"
      ]
     },
     "execution_count": 22,
     "metadata": {},
     "output_type": "execute_result"
    }
   ],
   "source": [
    "d2g.upload(table[['topic','source']].drop_duplicates(subset ='topic'), spreadsheet_key,\n",
    "           'terms', credentials=credentials, row_names=False)"
   ]
  },
  {
   "cell_type": "code",
   "execution_count": null,
   "metadata": {},
   "outputs": [],
   "source": []
  }
 ],
 "metadata": {
  "kernelspec": {
   "display_name": "Python 3",
   "language": "python",
   "name": "python3"
  },
  "language_info": {
   "codemirror_mode": {
    "name": "ipython",
    "version": 3
   },
   "file_extension": ".py",
   "mimetype": "text/x-python",
   "name": "python",
   "nbconvert_exporter": "python",
   "pygments_lexer": "ipython3",
   "version": "3.7.3"
  }
 },
 "nbformat": 4,
 "nbformat_minor": 2
}
