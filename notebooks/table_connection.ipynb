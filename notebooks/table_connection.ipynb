{
 "cells": [
  {
   "cell_type": "code",
   "execution_count": 1,
   "metadata": {},
   "outputs": [],
   "source": [
    "from oauth2client.service_account import ServiceAccountCredentials\n",
    "from df2gspread import df2gspread as d2g\n",
    "from pandas.io.json import json_normalize\n",
    "import pandas as pd\n",
    "import gspread"
   ]
  },
  {
   "cell_type": "code",
   "execution_count": 2,
   "metadata": {},
   "outputs": [],
   "source": [
    "## Connect to our service account\n",
    "project = \n",
    "scope = ['https://spreadsheets.google.com/feeds']\n",
    "credentials = ServiceAccountCredentials.from_json_keyfile_name(project, scope)\n",
    "gc = gspread.authorize(credentials)"
   ]
  },
  {
   "cell_type": "code",
   "execution_count": 3,
   "metadata": {},
   "outputs": [],
   "source": [
    "##Get candidate data sheet from Google Drive\n",
    "spreadsheet_key = \n",
    "worksheet_name = 'tools_database'"
   ]
  },
  {
   "cell_type": "code",
   "execution_count": 4,
   "metadata": {},
   "outputs": [],
   "source": [
    "book = gc.open_by_key(spreadsheet_key)\n",
    "worksheet = book.worksheet(worksheet_name)\n",
    "data = worksheet.get_all_values()\n",
    "table = pd.DataFrame(data[1:], columns=data[0])"
   ]
  },
  {
   "cell_type": "code",
   "execution_count": 5,
   "metadata": {},
   "outputs": [
    {
     "data": {
      "text/html": [
       "<div>\n",
       "<style scoped>\n",
       "    .dataframe tbody tr th:only-of-type {\n",
       "        vertical-align: middle;\n",
       "    }\n",
       "\n",
       "    .dataframe tbody tr th {\n",
       "        vertical-align: top;\n",
       "    }\n",
       "\n",
       "    .dataframe thead th {\n",
       "        text-align: right;\n",
       "    }\n",
       "</style>\n",
       "<table border=\"1\" class=\"dataframe\">\n",
       "  <thead>\n",
       "    <tr style=\"text-align: right;\">\n",
       "      <th></th>\n",
       "      <th>name</th>\n",
       "      <th>url</th>\n",
       "      <th>description</th>\n",
       "      <th>topic</th>\n",
       "      <th>source</th>\n",
       "      <th>software source</th>\n",
       "      <th>Sample round 1</th>\n",
       "      <th>(R&amp;D) Is it a study?</th>\n",
       "      <th>Is it a Software?</th>\n",
       "      <th>Is it operable?</th>\n",
       "      <th>Does it have a user interface?</th>\n",
       "      <th>Rate</th>\n",
       "      <th>legal tag 1</th>\n",
       "      <th>legal tag 2</th>\n",
       "      <th>legal tag 3</th>\n",
       "    </tr>\n",
       "  </thead>\n",
       "  <tbody>\n",
       "    <tr>\n",
       "      <th>0</th>\n",
       "      <td>1,39E+08</td>\n",
       "      <td>https://github.com/andli/pymkm</td>\n",
       "      <td>Python wrapper for the cardmarket.com API. Als...</td>\n",
       "      <td>personal+pricing</td>\n",
       "      <td>Github</td>\n",
       "      <td>Software registry</td>\n",
       "      <td></td>\n",
       "      <td></td>\n",
       "      <td></td>\n",
       "      <td></td>\n",
       "      <td></td>\n",
       "      <td></td>\n",
       "      <td></td>\n",
       "      <td></td>\n",
       "      <td></td>\n",
       "    </tr>\n",
       "    <tr>\n",
       "      <th>1</th>\n",
       "      <td>95827680</td>\n",
       "      <td>https://github.com/linglong97/RunescapeTrading...</td>\n",
       "      <td>A personal project which attempts to use an al...</td>\n",
       "      <td>personal+pricing</td>\n",
       "      <td>Github</td>\n",
       "      <td>Software registry</td>\n",
       "      <td></td>\n",
       "      <td></td>\n",
       "      <td></td>\n",
       "      <td></td>\n",
       "      <td></td>\n",
       "      <td></td>\n",
       "      <td></td>\n",
       "      <td></td>\n",
       "      <td></td>\n",
       "    </tr>\n",
       "    <tr>\n",
       "      <th>2</th>\n",
       "      <td>95339076</td>\n",
       "      <td>https://github.com/kylebarron/flight-scraper</td>\n",
       "      <td>Personal flight scraper to notify me for good ...</td>\n",
       "      <td>personal+pricing</td>\n",
       "      <td>Github</td>\n",
       "      <td>Software registry</td>\n",
       "      <td></td>\n",
       "      <td></td>\n",
       "      <td></td>\n",
       "      <td></td>\n",
       "      <td></td>\n",
       "      <td></td>\n",
       "      <td></td>\n",
       "      <td></td>\n",
       "      <td></td>\n",
       "    </tr>\n",
       "    <tr>\n",
       "      <th>3</th>\n",
       "      <td>1,8E+08</td>\n",
       "      <td>https://github.com/lesterchan/products-stock-c...</td>\n",
       "      <td>Just a personal project to check products pric...</td>\n",
       "      <td>personal+pricing</td>\n",
       "      <td>Github</td>\n",
       "      <td>Software registry</td>\n",
       "      <td></td>\n",
       "      <td></td>\n",
       "      <td></td>\n",
       "      <td></td>\n",
       "      <td></td>\n",
       "      <td></td>\n",
       "      <td></td>\n",
       "      <td></td>\n",
       "      <td></td>\n",
       "    </tr>\n",
       "    <tr>\n",
       "      <th>4</th>\n",
       "      <td>3141411</td>\n",
       "      <td>https://github.com/chenliu/Amazon-Personal-Wis...</td>\n",
       "      <td>Amazon Personal Wish List Price Tracker</td>\n",
       "      <td>personal+pricing</td>\n",
       "      <td>Github</td>\n",
       "      <td>Software registry</td>\n",
       "      <td></td>\n",
       "      <td></td>\n",
       "      <td></td>\n",
       "      <td></td>\n",
       "      <td></td>\n",
       "      <td></td>\n",
       "      <td></td>\n",
       "      <td></td>\n",
       "      <td></td>\n",
       "    </tr>\n",
       "  </tbody>\n",
       "</table>\n",
       "</div>"
      ],
      "text/plain": [
       "       name                                                url  \\\n",
       "0  1,39E+08                     https://github.com/andli/pymkm   \n",
       "1  95827680  https://github.com/linglong97/RunescapeTrading...   \n",
       "2  95339076       https://github.com/kylebarron/flight-scraper   \n",
       "3   1,8E+08  https://github.com/lesterchan/products-stock-c...   \n",
       "4   3141411  https://github.com/chenliu/Amazon-Personal-Wis...   \n",
       "\n",
       "                                         description             topic  \\\n",
       "0  Python wrapper for the cardmarket.com API. Als...  personal+pricing   \n",
       "1  A personal project which attempts to use an al...  personal+pricing   \n",
       "2  Personal flight scraper to notify me for good ...  personal+pricing   \n",
       "3  Just a personal project to check products pric...  personal+pricing   \n",
       "4            Amazon Personal Wish List Price Tracker  personal+pricing   \n",
       "\n",
       "   source    software source Sample round 1 (R&D) Is it a study?  \\\n",
       "0  Github  Software registry                                       \n",
       "1  Github  Software registry                                       \n",
       "2  Github  Software registry                                       \n",
       "3  Github  Software registry                                       \n",
       "4  Github  Software registry                                       \n",
       "\n",
       "  Is it a Software? Is it operable? Does it have a user interface? Rate  \\\n",
       "0                                                                         \n",
       "1                                                                         \n",
       "2                                                                         \n",
       "3                                                                         \n",
       "4                                                                         \n",
       "\n",
       "  legal tag 1 legal tag 2 legal tag 3  \n",
       "0                                      \n",
       "1                                      \n",
       "2                                      \n",
       "3                                      \n",
       "4                                      "
      ]
     },
     "execution_count": 5,
     "metadata": {},
     "output_type": "execute_result"
    }
   ],
   "source": [
    "table.head()"
   ]
  },
  {
   "cell_type": "code",
   "execution_count": 6,
   "metadata": {},
   "outputs": [
    {
     "name": "stdout",
     "output_type": "stream",
     "text": [
      "Total tools: 1747\n",
      "Unique tools: 1582\n",
      "=======\n",
      "url with 0 duplicates: 1582\n",
      "url with 1 duplicates: 127\n",
      "url with 2 duplicates: 26\n",
      "url with 3 duplicates: 9\n",
      "url with 4 duplicates: 2\n",
      "url with 5 duplicates: 1\n",
      "url with 6 duplicates: 0\n",
      "url with 7 duplicates: 0\n",
      "url with 8 duplicates: 0\n",
      "url with 9 duplicates: 0\n",
      "=======\n",
      "lines to remove: 165\n"
     ]
    }
   ],
   "source": [
    "#duplicates identification\n",
    "list_id = list(table.url)\n",
    "list_uniques = list(table.url.unique())\n",
    "print('Total tools: {}\\nUnique tools: {}\\n======='.format(len(list_id),len(list_uniques)))\n",
    "for i in range(0,10):\n",
    "    sets = list(set([x for x in list_id if list_id.count(x) > i]))\n",
    "    print('url with {} duplicates: {}'.format(i, len(sets)))\n",
    "print('=======\\nlines to remove: {}'.format(len(list_id) - len(list_uniques)))"
   ]
  },
  {
   "cell_type": "code",
   "execution_count": 8,
   "metadata": {},
   "outputs": [
    {
     "data": {
      "text/plain": [
       "<Worksheet 'without_duplicates' id:248885610>"
      ]
     },
     "execution_count": 8,
     "metadata": {},
     "output_type": "execute_result"
    }
   ],
   "source": [
    "## Save the data back to a new sheet in the dataframe\n",
    "wks_name = 'without_duplicates'\n",
    "table = table.drop_duplicates(subset ='url')\n",
    "d2g.upload(table, spreadsheet_key, wks_name, credentials=credentials, row_names=False)"
   ]
  }
 ],
 "metadata": {
  "kernelspec": {
   "display_name": "Python 3",
   "language": "python",
   "name": "python3"
  },
  "language_info": {
   "codemirror_mode": {
    "name": "ipython",
    "version": 3
   },
   "file_extension": ".py",
   "mimetype": "text/x-python",
   "name": "python",
   "nbconvert_exporter": "python",
   "pygments_lexer": "ipython3",
   "version": "3.7.3"
  }
 },
 "nbformat": 4,
 "nbformat_minor": 2
}
