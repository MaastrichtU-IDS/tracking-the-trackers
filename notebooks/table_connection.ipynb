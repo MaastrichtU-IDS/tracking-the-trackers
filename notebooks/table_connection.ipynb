{
 "cells": [
  {
   "cell_type": "markdown",
   "metadata": {},
   "source": [
    "## Connection to table in GDrive"
   ]
  },
  {
   "cell_type": "code",
   "execution_count": 1,
   "metadata": {},
   "outputs": [],
   "source": [
    "from oauth2client.service_account import ServiceAccountCredentials\n",
    "from df2gspread import df2gspread as d2g\n",
    "from pandas.io.json import json_normalize\n",
    "import pandas as pd\n",
    "import numpy as np\n",
    "import gspread\n",
    "import warnings\n",
    "warnings.filterwarnings(\"ignore\")"
   ]
  },
  {
   "cell_type": "markdown",
   "metadata": {},
   "source": [
    "---\n",
    "### Extracted table from automatic sources"
   ]
  },
  {
   "cell_type": "code",
   "execution_count": 2,
   "metadata": {},
   "outputs": [],
   "source": [
    "table1 = pd.read_csv('../datasets/Arxiv_results.csv', header=None).rename(columns={0:'url',1:'description',2:'topic'})\n",
    "table1['source'] = 'Arxiv'\n",
    "table1['source_type'] = 'Research'\n",
    "table2 = pd.read_csv('../datasets/DBLP_results.csv', header=None).rename(columns={0:'url',1:'description',2:'topic'})\n",
    "table2['source'] = 'DBLP'\n",
    "table2['source_type'] = 'Research'\n",
    "table3 = pd.read_csv('../datasets/Gitlab_results.csv', header=None).rename(columns={0:'url',1:'description',2:'topic'})\n",
    "table3['source'] = 'Gitlab'\n",
    "table3['source_type'] = 'Software registry'\n",
    "table4 = pd.read_csv('../datasets/Googleplay_results.csv', header=None).rename(columns={0:'url',1:'description',2:'topic'})\n",
    "table4['source'] = 'Google play'\n",
    "table4['source_type'] = 'Software registry'\n",
    "table5 = pd.read_csv('../datasets/Googlescholar_results.csv', header=None).rename(columns={0:'url',1:'description',2:'topic'})\n",
    "table5['source'] = 'Google scholar'\n",
    "table5['source_type'] = 'Research'\n",
    "table6 = pd.read_excel('../datasets/github_monitoring_tools.xlsx')[['url','description','topic']]\n",
    "table6['source'] = 'Github'\n",
    "table6['source_type'] = 'Software registry'\n",
    "table7 = pd.read_excel('../datasets/patents_monitoring_tools.xlsx')[['url','description','topic']]\n",
    "table7['source'] = 'EU Patents Database'\n",
    "table7['source_type'] = 'Software registry'"
   ]
  },
  {
   "cell_type": "code",
   "execution_count": 3,
   "metadata": {},
   "outputs": [],
   "source": [
    "# Merge the tables\n",
    "tableA = table1.append(table2, sort=True).reset_index()\n",
    "tableB = tableA.append(table3, sort=True).reset_index()[['url','description','topic','source','source_type']]\n",
    "tableC = tableB.append(table4, sort=True).reset_index()[['url','description','topic','source','source_type']]\n",
    "tableD = tableC.append(table5, sort=True).reset_index()[['url','description','topic','source','source_type']]\n",
    "tableE = tableD.append(table6, sort=True).reset_index()[['url','description','topic','source','source_type']]\n",
    "tableF = tableE.append(table7, sort=True).reset_index()[['url','description','topic','source','source_type']]"
   ]
  },
  {
   "cell_type": "code",
   "execution_count": 4,
   "metadata": {},
   "outputs": [],
   "source": [
    "automathic_table = tableF\n",
    "automathic_table['name'] = 'NA'\n",
    "automathic_table['method'] = 'Crawler search'"
   ]
  },
  {
   "cell_type": "code",
   "execution_count": 5,
   "metadata": {},
   "outputs": [
    {
     "data": {
      "text/html": [
       "<div>\n",
       "<style scoped>\n",
       "    .dataframe tbody tr th:only-of-type {\n",
       "        vertical-align: middle;\n",
       "    }\n",
       "\n",
       "    .dataframe tbody tr th {\n",
       "        vertical-align: top;\n",
       "    }\n",
       "\n",
       "    .dataframe thead th {\n",
       "        text-align: right;\n",
       "    }\n",
       "</style>\n",
       "<table border=\"1\" class=\"dataframe\">\n",
       "  <thead>\n",
       "    <tr style=\"text-align: right;\">\n",
       "      <th></th>\n",
       "      <th>url</th>\n",
       "      <th>description</th>\n",
       "      <th>topic</th>\n",
       "      <th>source</th>\n",
       "      <th>source_type</th>\n",
       "      <th>name</th>\n",
       "      <th>method</th>\n",
       "    </tr>\n",
       "  </thead>\n",
       "  <tbody>\n",
       "    <tr>\n",
       "      <th>0</th>\n",
       "      <td>http://arxiv.org/abs/1709.09302v3</td>\n",
       "      <td>We consider a market in which capacity-constra...</td>\n",
       "      <td>market monitoring</td>\n",
       "      <td>Arxiv</td>\n",
       "      <td>Research</td>\n",
       "      <td>NA</td>\n",
       "      <td>Crawler search</td>\n",
       "    </tr>\n",
       "    <tr>\n",
       "      <th>1</th>\n",
       "      <td>http://arxiv.org/abs/cs/0306024v1</td>\n",
       "      <td>The DESY Computer Center is the home of O(1000...</td>\n",
       "      <td>market monitoring</td>\n",
       "      <td>Arxiv</td>\n",
       "      <td>Research</td>\n",
       "      <td>NA</td>\n",
       "      <td>Crawler search</td>\n",
       "    </tr>\n",
       "    <tr>\n",
       "      <th>2</th>\n",
       "      <td>http://arxiv.org/abs/1607.03583v1</td>\n",
       "      <td>This paper analyzes repeated multimarket conta...</td>\n",
       "      <td>market monitoring</td>\n",
       "      <td>Arxiv</td>\n",
       "      <td>Research</td>\n",
       "      <td>NA</td>\n",
       "      <td>Crawler search</td>\n",
       "    </tr>\n",
       "    <tr>\n",
       "      <th>3</th>\n",
       "      <td>http://arxiv.org/abs/1809.01640v1</td>\n",
       "      <td>The paper presents web based information syste...</td>\n",
       "      <td>market monitoring</td>\n",
       "      <td>Arxiv</td>\n",
       "      <td>Research</td>\n",
       "      <td>NA</td>\n",
       "      <td>Crawler search</td>\n",
       "    </tr>\n",
       "    <tr>\n",
       "      <th>4</th>\n",
       "      <td>http://arxiv.org/abs/1602.07063v2</td>\n",
       "      <td>This article investigates graph analysis for i...</td>\n",
       "      <td>market monitoring</td>\n",
       "      <td>Arxiv</td>\n",
       "      <td>Research</td>\n",
       "      <td>NA</td>\n",
       "      <td>Crawler search</td>\n",
       "    </tr>\n",
       "  </tbody>\n",
       "</table>\n",
       "</div>"
      ],
      "text/plain": [
       "                                 url  \\\n",
       "0  http://arxiv.org/abs/1709.09302v3   \n",
       "1  http://arxiv.org/abs/cs/0306024v1   \n",
       "2  http://arxiv.org/abs/1607.03583v1   \n",
       "3  http://arxiv.org/abs/1809.01640v1   \n",
       "4  http://arxiv.org/abs/1602.07063v2   \n",
       "\n",
       "                                         description              topic  \\\n",
       "0  We consider a market in which capacity-constra...  market monitoring   \n",
       "1  The DESY Computer Center is the home of O(1000...  market monitoring   \n",
       "2  This paper analyzes repeated multimarket conta...  market monitoring   \n",
       "3  The paper presents web based information syste...  market monitoring   \n",
       "4  This article investigates graph analysis for i...  market monitoring   \n",
       "\n",
       "  source source_type name          method  \n",
       "0  Arxiv    Research   NA  Crawler search  \n",
       "1  Arxiv    Research   NA  Crawler search  \n",
       "2  Arxiv    Research   NA  Crawler search  \n",
       "3  Arxiv    Research   NA  Crawler search  \n",
       "4  Arxiv    Research   NA  Crawler search  "
      ]
     },
     "execution_count": 5,
     "metadata": {},
     "output_type": "execute_result"
    }
   ],
   "source": [
    "automathic_table.head()"
   ]
  },
  {
   "cell_type": "markdown",
   "metadata": {},
   "source": [
    "---\n",
    "### Connect with the table form manual search"
   ]
  },
  {
   "cell_type": "code",
   "execution_count": 6,
   "metadata": {},
   "outputs": [],
   "source": [
    "## Connect to our service account\n",
    "project = \n",
    "scope = ['https://spreadsheets.google.com/feeds']\n",
    "credentials = ServiceAccountCredentials.from_json_keyfile_name(project, scope)\n",
    "gc = gspread.authorize(credentials)"
   ]
  },
  {
   "cell_type": "code",
   "execution_count": 7,
   "metadata": {},
   "outputs": [],
   "source": [
    "##Get candidate data sheet from Google Drive\n",
    "spreadsheet_key = \n",
    "worksheet_name = 'manual_search'"
   ]
  },
  {
   "cell_type": "code",
   "execution_count": 8,
   "metadata": {},
   "outputs": [],
   "source": [
    "book = gc.open_by_key(spreadsheet_key)\n",
    "worksheet = book.worksheet(worksheet_name)\n",
    "data = worksheet.get_all_values()\n",
    "manual_table = pd.DataFrame(data[1:], columns=data[0])"
   ]
  },
  {
   "cell_type": "markdown",
   "metadata": {},
   "source": [
    "---\n",
    "### Merge the tables and remove duplictes"
   ]
  },
  {
   "cell_type": "code",
   "execution_count": 9,
   "metadata": {},
   "outputs": [
    {
     "data": {
      "text/html": [
       "<div>\n",
       "<style scoped>\n",
       "    .dataframe tbody tr th:only-of-type {\n",
       "        vertical-align: middle;\n",
       "    }\n",
       "\n",
       "    .dataframe tbody tr th {\n",
       "        vertical-align: top;\n",
       "    }\n",
       "\n",
       "    .dataframe thead th {\n",
       "        text-align: right;\n",
       "    }\n",
       "</style>\n",
       "<table border=\"1\" class=\"dataframe\">\n",
       "  <thead>\n",
       "    <tr style=\"text-align: right;\">\n",
       "      <th></th>\n",
       "      <th>name</th>\n",
       "      <th>url</th>\n",
       "      <th>description</th>\n",
       "      <th>topic</th>\n",
       "      <th>method</th>\n",
       "      <th>source</th>\n",
       "      <th>source_type</th>\n",
       "    </tr>\n",
       "  </thead>\n",
       "  <tbody>\n",
       "    <tr>\n",
       "      <th>0</th>\n",
       "      <td>Detection of Zombie PCs Based on Email Spam An...</td>\n",
       "      <td>https://apps.webofknowledge.com/full_record.do...</td>\n",
       "      <td>we propose a system that detects botnets and z...</td>\n",
       "      <td>\"IP blocking\"</td>\n",
       "      <td>Research search</td>\n",
       "      <td>Web of Science Database</td>\n",
       "      <td>Research</td>\n",
       "    </tr>\n",
       "    <tr>\n",
       "      <th>1</th>\n",
       "      <td>Engineering an Agent-based System for Product ...</td>\n",
       "      <td>https://users.isc.tuc.gr/~nispanoudakis/resour...</td>\n",
       "      <td>For developing pricing by companies</td>\n",
       "      <td>\"individual pricing\"</td>\n",
       "      <td>Research search</td>\n",
       "      <td>Web of Science Database</td>\n",
       "      <td>Research</td>\n",
       "    </tr>\n",
       "  </tbody>\n",
       "</table>\n",
       "</div>"
      ],
      "text/plain": [
       "                                                name  \\\n",
       "0  Detection of Zombie PCs Based on Email Spam An...   \n",
       "1  Engineering an Agent-based System for Product ...   \n",
       "\n",
       "                                                 url  \\\n",
       "0  https://apps.webofknowledge.com/full_record.do...   \n",
       "1  https://users.isc.tuc.gr/~nispanoudakis/resour...   \n",
       "\n",
       "                                         description                 topic  \\\n",
       "0  we propose a system that detects botnets and z...         \"IP blocking\"   \n",
       "1                For developing pricing by companies  \"individual pricing\"   \n",
       "\n",
       "            method                   source source_type  \n",
       "0  Research search  Web of Science Database    Research  \n",
       "1  Research search  Web of Science Database    Research  "
      ]
     },
     "execution_count": 9,
     "metadata": {},
     "output_type": "execute_result"
    }
   ],
   "source": [
    "manual_table.drop(columns='comment', inplace=True)\n",
    "manual_table.head(2)"
   ]
  },
  {
   "cell_type": "code",
   "execution_count": 10,
   "metadata": {},
   "outputs": [
    {
     "data": {
      "text/plain": [
       "72"
      ]
     },
     "execution_count": 10,
     "metadata": {},
     "output_type": "execute_result"
    }
   ],
   "source": [
    "len(manual_table)"
   ]
  },
  {
   "cell_type": "code",
   "execution_count": 11,
   "metadata": {},
   "outputs": [
    {
     "data": {
      "text/html": [
       "<div>\n",
       "<style scoped>\n",
       "    .dataframe tbody tr th:only-of-type {\n",
       "        vertical-align: middle;\n",
       "    }\n",
       "\n",
       "    .dataframe tbody tr th {\n",
       "        vertical-align: top;\n",
       "    }\n",
       "\n",
       "    .dataframe thead th {\n",
       "        text-align: right;\n",
       "    }\n",
       "</style>\n",
       "<table border=\"1\" class=\"dataframe\">\n",
       "  <thead>\n",
       "    <tr style=\"text-align: right;\">\n",
       "      <th></th>\n",
       "      <th>url</th>\n",
       "      <th>description</th>\n",
       "      <th>topic</th>\n",
       "      <th>source</th>\n",
       "      <th>source_type</th>\n",
       "      <th>name</th>\n",
       "      <th>method</th>\n",
       "    </tr>\n",
       "  </thead>\n",
       "  <tbody>\n",
       "    <tr>\n",
       "      <th>0</th>\n",
       "      <td>http://arxiv.org/abs/1709.09302v3</td>\n",
       "      <td>We consider a market in which capacity-constra...</td>\n",
       "      <td>market monitoring</td>\n",
       "      <td>Arxiv</td>\n",
       "      <td>Research</td>\n",
       "      <td>NA</td>\n",
       "      <td>Crawler search</td>\n",
       "    </tr>\n",
       "    <tr>\n",
       "      <th>1</th>\n",
       "      <td>http://arxiv.org/abs/cs/0306024v1</td>\n",
       "      <td>The DESY Computer Center is the home of O(1000...</td>\n",
       "      <td>market monitoring</td>\n",
       "      <td>Arxiv</td>\n",
       "      <td>Research</td>\n",
       "      <td>NA</td>\n",
       "      <td>Crawler search</td>\n",
       "    </tr>\n",
       "  </tbody>\n",
       "</table>\n",
       "</div>"
      ],
      "text/plain": [
       "                                 url  \\\n",
       "0  http://arxiv.org/abs/1709.09302v3   \n",
       "1  http://arxiv.org/abs/cs/0306024v1   \n",
       "\n",
       "                                         description              topic  \\\n",
       "0  We consider a market in which capacity-constra...  market monitoring   \n",
       "1  The DESY Computer Center is the home of O(1000...  market monitoring   \n",
       "\n",
       "  source source_type name          method  \n",
       "0  Arxiv    Research   NA  Crawler search  \n",
       "1  Arxiv    Research   NA  Crawler search  "
      ]
     },
     "execution_count": 11,
     "metadata": {},
     "output_type": "execute_result"
    }
   ],
   "source": [
    "automathic_table.head(2)"
   ]
  },
  {
   "cell_type": "code",
   "execution_count": 12,
   "metadata": {},
   "outputs": [
    {
     "data": {
      "text/plain": [
       "4276"
      ]
     },
     "execution_count": 12,
     "metadata": {},
     "output_type": "execute_result"
    }
   ],
   "source": [
    "len(automathic_table)"
   ]
  },
  {
   "cell_type": "code",
   "execution_count": 13,
   "metadata": {},
   "outputs": [],
   "source": [
    "#just taking into account the automatic table\n",
    "table = automathic_table\n",
    "#table = manual_table.append(\n",
    "#    automathic_table, sort=True).reset_index()[['url','name','description','topic','method','source','source_type']]"
   ]
  },
  {
   "cell_type": "code",
   "execution_count": 14,
   "metadata": {},
   "outputs": [
    {
     "name": "stdout",
     "output_type": "stream",
     "text": [
      "Total tools: 4276\n",
      "Unique tools: 3529\n",
      "=======\n",
      "url with 0 duplicates: 3529\n",
      "url with 1 duplicates: 373\n",
      "url with 2 duplicates: 158\n",
      "url with 3 duplicates: 87\n",
      "url with 4 duplicates: 55\n",
      "url with 5 duplicates: 33\n",
      "url with 6 duplicates: 23\n",
      "url with 7 duplicates: 13\n",
      "url with 8 duplicates: 3\n",
      "url with 9 duplicates: 1\n",
      "=======\n",
      "lines to remove: 747\n"
     ]
    }
   ],
   "source": [
    "#duplicates identification\n",
    "list_id = list(table.url)\n",
    "list_uniques = list(table.url.unique())\n",
    "print('Total tools: {}\\nUnique tools: {}\\n======='.format(len(list_id),len(list_uniques)))\n",
    "for i in range(0,10):\n",
    "    sets = list(set([x for x in list_id if list_id.count(x) > i]))\n",
    "    print('url with {} duplicates: {}'.format(i, len(sets)))\n",
    "print('=======\\nlines to remove: {}'.format(len(list_id) - len(list_uniques)))"
   ]
  },
  {
   "cell_type": "code",
   "execution_count": 15,
   "metadata": {},
   "outputs": [],
   "source": [
    "## Save the data back to a new sheet in the dataframe\n",
    "table = table.drop_duplicates(subset ='url')"
   ]
  },
  {
   "cell_type": "code",
   "execution_count": 16,
   "metadata": {},
   "outputs": [],
   "source": [
    "table['topic'] = [row.replace(\"'\",\"\") for row in table.topic]"
   ]
  },
  {
   "cell_type": "code",
   "execution_count": 17,
   "metadata": {},
   "outputs": [
    {
     "data": {
      "text/plain": [
       "3529"
      ]
     },
     "execution_count": 17,
     "metadata": {},
     "output_type": "execute_result"
    }
   ],
   "source": [
    "len(table)"
   ]
  },
  {
   "cell_type": "code",
   "execution_count": 18,
   "metadata": {},
   "outputs": [
    {
     "data": {
      "text/html": [
       "<div>\n",
       "<style scoped>\n",
       "    .dataframe tbody tr th:only-of-type {\n",
       "        vertical-align: middle;\n",
       "    }\n",
       "\n",
       "    .dataframe tbody tr th {\n",
       "        vertical-align: top;\n",
       "    }\n",
       "\n",
       "    .dataframe thead th {\n",
       "        text-align: right;\n",
       "    }\n",
       "</style>\n",
       "<table border=\"1\" class=\"dataframe\">\n",
       "  <thead>\n",
       "    <tr style=\"text-align: right;\">\n",
       "      <th></th>\n",
       "      <th>url</th>\n",
       "      <th>description</th>\n",
       "      <th>topic</th>\n",
       "      <th>source</th>\n",
       "      <th>source_type</th>\n",
       "      <th>name</th>\n",
       "      <th>method</th>\n",
       "    </tr>\n",
       "  </thead>\n",
       "  <tbody>\n",
       "    <tr>\n",
       "      <th>0</th>\n",
       "      <td>http://arxiv.org/abs/1709.09302v3</td>\n",
       "      <td>We consider a market in which capacity-constra...</td>\n",
       "      <td>market monitoring</td>\n",
       "      <td>Arxiv</td>\n",
       "      <td>Research</td>\n",
       "      <td>NA</td>\n",
       "      <td>Crawler search</td>\n",
       "    </tr>\n",
       "    <tr>\n",
       "      <th>1</th>\n",
       "      <td>http://arxiv.org/abs/cs/0306024v1</td>\n",
       "      <td>The DESY Computer Center is the home of O(1000...</td>\n",
       "      <td>market monitoring</td>\n",
       "      <td>Arxiv</td>\n",
       "      <td>Research</td>\n",
       "      <td>NA</td>\n",
       "      <td>Crawler search</td>\n",
       "    </tr>\n",
       "    <tr>\n",
       "      <th>2</th>\n",
       "      <td>http://arxiv.org/abs/1607.03583v1</td>\n",
       "      <td>This paper analyzes repeated multimarket conta...</td>\n",
       "      <td>market monitoring</td>\n",
       "      <td>Arxiv</td>\n",
       "      <td>Research</td>\n",
       "      <td>NA</td>\n",
       "      <td>Crawler search</td>\n",
       "    </tr>\n",
       "    <tr>\n",
       "      <th>3</th>\n",
       "      <td>http://arxiv.org/abs/1809.01640v1</td>\n",
       "      <td>The paper presents web based information syste...</td>\n",
       "      <td>market monitoring</td>\n",
       "      <td>Arxiv</td>\n",
       "      <td>Research</td>\n",
       "      <td>NA</td>\n",
       "      <td>Crawler search</td>\n",
       "    </tr>\n",
       "    <tr>\n",
       "      <th>4</th>\n",
       "      <td>http://arxiv.org/abs/1602.07063v2</td>\n",
       "      <td>This article investigates graph analysis for i...</td>\n",
       "      <td>market monitoring</td>\n",
       "      <td>Arxiv</td>\n",
       "      <td>Research</td>\n",
       "      <td>NA</td>\n",
       "      <td>Crawler search</td>\n",
       "    </tr>\n",
       "  </tbody>\n",
       "</table>\n",
       "</div>"
      ],
      "text/plain": [
       "                                 url  \\\n",
       "0  http://arxiv.org/abs/1709.09302v3   \n",
       "1  http://arxiv.org/abs/cs/0306024v1   \n",
       "2  http://arxiv.org/abs/1607.03583v1   \n",
       "3  http://arxiv.org/abs/1809.01640v1   \n",
       "4  http://arxiv.org/abs/1602.07063v2   \n",
       "\n",
       "                                         description              topic  \\\n",
       "0  We consider a market in which capacity-constra...  market monitoring   \n",
       "1  The DESY Computer Center is the home of O(1000...  market monitoring   \n",
       "2  This paper analyzes repeated multimarket conta...  market monitoring   \n",
       "3  The paper presents web based information syste...  market monitoring   \n",
       "4  This article investigates graph analysis for i...  market monitoring   \n",
       "\n",
       "  source source_type name          method  \n",
       "0  Arxiv    Research   NA  Crawler search  \n",
       "1  Arxiv    Research   NA  Crawler search  \n",
       "2  Arxiv    Research   NA  Crawler search  \n",
       "3  Arxiv    Research   NA  Crawler search  \n",
       "4  Arxiv    Research   NA  Crawler search  "
      ]
     },
     "execution_count": 18,
     "metadata": {},
     "output_type": "execute_result"
    }
   ],
   "source": [
    "table.head()"
   ]
  },
  {
   "cell_type": "markdown",
   "metadata": {},
   "source": [
    "---\n",
    "## Sampling"
   ]
  },
  {
   "cell_type": "code",
   "execution_count": 19,
   "metadata": {},
   "outputs": [],
   "source": [
    "def sampleSize(population_size, margin_error=.05, confidence_level=.99, sigma=1/2):\n",
    "    alpha = 1 - (confidence_level)\n",
    "    # dictionary of confidence levels and corresponding z-scores\n",
    "    # computed via norm.ppf(1 - (alpha/2)), where norm is\n",
    "    zdict = {\n",
    "        .90: 1.645,\n",
    "        .91: 1.695,\n",
    "        .99: 2.576,\n",
    "        .97: 2.17,\n",
    "        .94: 1.881,\n",
    "        .93: 1.812,\n",
    "        .95: 1.96,\n",
    "        .98: 2.326,\n",
    "        .96: 2.054,\n",
    "        .92: 1.751\n",
    "    }\n",
    "    if confidence_level in zdict:\n",
    "        z = zdict[confidence_level]\n",
    "    else:\n",
    "        from scipy.stats import norm\n",
    "        z = norm.ppf(1 - (alpha/2))\n",
    "    N = population_size\n",
    "    M = margin_error\n",
    "    a = z**2 * sigma**2 * (N / (N-1))\n",
    "    b = M**2 + ((z**2 * sigma**2)/(N-1))\n",
    "    return int(round(a/b,0))"
   ]
  },
  {
   "cell_type": "code",
   "execution_count": 20,
   "metadata": {},
   "outputs": [
    {
     "name": "stdout",
     "output_type": "stream",
     "text": [
      "Sample Size: 94\n"
     ]
    }
   ],
   "source": [
    "sample_size = sampleSize(population_size=len(table),\n",
    "                         margin_error=.1, confidence_level=.95, sigma=1/2)\n",
    "print('Sample Size: {}'.format(sample_size))"
   ]
  },
  {
   "cell_type": "code",
   "execution_count": 21,
   "metadata": {},
   "outputs": [
    {
     "data": {
      "text/html": [
       "<div>\n",
       "<style scoped>\n",
       "    .dataframe tbody tr th:only-of-type {\n",
       "        vertical-align: middle;\n",
       "    }\n",
       "\n",
       "    .dataframe tbody tr th {\n",
       "        vertical-align: top;\n",
       "    }\n",
       "\n",
       "    .dataframe thead th {\n",
       "        text-align: right;\n",
       "    }\n",
       "</style>\n",
       "<table border=\"1\" class=\"dataframe\">\n",
       "  <thead>\n",
       "    <tr style=\"text-align: right;\">\n",
       "      <th></th>\n",
       "      <th>group</th>\n",
       "      <th>subgroup</th>\n",
       "      <th>keywords</th>\n",
       "    </tr>\n",
       "  </thead>\n",
       "  <tbody>\n",
       "    <tr>\n",
       "      <th>0</th>\n",
       "      <td>Advertising</td>\n",
       "      <td>market monitoring</td>\n",
       "      <td>market monitoring</td>\n",
       "    </tr>\n",
       "    <tr>\n",
       "      <th>1</th>\n",
       "      <td>Advertising</td>\n",
       "      <td>behavioural tracking</td>\n",
       "      <td>consumer profiling algorithm</td>\n",
       "    </tr>\n",
       "    <tr>\n",
       "      <th>2</th>\n",
       "      <td>Advertising</td>\n",
       "      <td>behavioural tracking</td>\n",
       "      <td>behavioral profiling</td>\n",
       "    </tr>\n",
       "  </tbody>\n",
       "</table>\n",
       "</div>"
      ],
      "text/plain": [
       "         group              subgroup                      keywords\n",
       "0  Advertising     market monitoring             market monitoring\n",
       "1  Advertising  behavioural tracking  consumer profiling algorithm\n",
       "2  Advertising  behavioural tracking          behavioral profiling"
      ]
     },
     "execution_count": 21,
     "metadata": {},
     "output_type": "execute_result"
    }
   ],
   "source": [
    "catalogue = pd.read_csv('catalogue.csv').fillna(method='ffill')\n",
    "catalogue.columns = ['group','desciption','subgroup','source','terms','keywords','datasource','comments','-','-+']\n",
    "catalogue = catalogue[['group','subgroup','keywords']]\n",
    "catalogue.head(3)"
   ]
  },
  {
   "cell_type": "code",
   "execution_count": 22,
   "metadata": {},
   "outputs": [],
   "source": [
    "table_augmented = pd.merge(table, catalogue, left_on='topic', right_on='keywords', how='left')\n",
    "table_augmented['stratum'] = table_augmented['source'] + ' - ' + table_augmented['group']\n",
    "#table_augmented['stratum'] = table_augmented['group']"
   ]
  },
  {
   "cell_type": "code",
   "execution_count": 23,
   "metadata": {},
   "outputs": [],
   "source": [
    "groups = table_augmented.groupby('group').count()['url'].reset_index()\n",
    "groups['proportion'] = groups.url/groups.url.sum()\n",
    "groups['selection'] = [int(i) for i in groups.proportion*sample_size]"
   ]
  },
  {
   "cell_type": "code",
   "execution_count": 24,
   "metadata": {},
   "outputs": [
    {
     "data": {
      "text/html": [
       "<div>\n",
       "<style scoped>\n",
       "    .dataframe tbody tr th:only-of-type {\n",
       "        vertical-align: middle;\n",
       "    }\n",
       "\n",
       "    .dataframe tbody tr th {\n",
       "        vertical-align: top;\n",
       "    }\n",
       "\n",
       "    .dataframe thead th {\n",
       "        text-align: right;\n",
       "    }\n",
       "</style>\n",
       "<table border=\"1\" class=\"dataframe\">\n",
       "  <thead>\n",
       "    <tr style=\"text-align: right;\">\n",
       "      <th></th>\n",
       "      <th>group</th>\n",
       "      <th>url</th>\n",
       "      <th>proportion</th>\n",
       "      <th>selection</th>\n",
       "    </tr>\n",
       "  </thead>\n",
       "  <tbody>\n",
       "    <tr>\n",
       "      <th>0</th>\n",
       "      <td>Advertising</td>\n",
       "      <td>1773</td>\n",
       "      <td>0.502409</td>\n",
       "      <td>47</td>\n",
       "    </tr>\n",
       "    <tr>\n",
       "      <th>1</th>\n",
       "      <td>Compliance</td>\n",
       "      <td>77</td>\n",
       "      <td>0.021819</td>\n",
       "      <td>2</td>\n",
       "    </tr>\n",
       "    <tr>\n",
       "      <th>2</th>\n",
       "      <td>Failure of Web accessibility</td>\n",
       "      <td>180</td>\n",
       "      <td>0.051006</td>\n",
       "      <td>4</td>\n",
       "    </tr>\n",
       "    <tr>\n",
       "      <th>3</th>\n",
       "      <td>Geoblocking</td>\n",
       "      <td>57</td>\n",
       "      <td>0.016152</td>\n",
       "      <td>1</td>\n",
       "    </tr>\n",
       "    <tr>\n",
       "      <th>4</th>\n",
       "      <td>Price Transparency Issues</td>\n",
       "      <td>235</td>\n",
       "      <td>0.066591</td>\n",
       "      <td>6</td>\n",
       "    </tr>\n",
       "    <tr>\n",
       "      <th>5</th>\n",
       "      <td>Scam (Online Fraud)</td>\n",
       "      <td>875</td>\n",
       "      <td>0.247946</td>\n",
       "      <td>23</td>\n",
       "    </tr>\n",
       "    <tr>\n",
       "      <th>6</th>\n",
       "      <td>Scarcity cues</td>\n",
       "      <td>40</td>\n",
       "      <td>0.011335</td>\n",
       "      <td>1</td>\n",
       "    </tr>\n",
       "    <tr>\n",
       "      <th>7</th>\n",
       "      <td>Unfair terms issues</td>\n",
       "      <td>292</td>\n",
       "      <td>0.082743</td>\n",
       "      <td>7</td>\n",
       "    </tr>\n",
       "  </tbody>\n",
       "</table>\n",
       "</div>"
      ],
      "text/plain": [
       "                          group   url  proportion  selection\n",
       "0                   Advertising  1773    0.502409         47\n",
       "1                    Compliance    77    0.021819          2\n",
       "2  Failure of Web accessibility   180    0.051006          4\n",
       "3                   Geoblocking    57    0.016152          1\n",
       "4     Price Transparency Issues   235    0.066591          6\n",
       "5           Scam (Online Fraud)   875    0.247946         23\n",
       "6                 Scarcity cues    40    0.011335          1\n",
       "7           Unfair terms issues   292    0.082743          7"
      ]
     },
     "execution_count": 24,
     "metadata": {},
     "output_type": "execute_result"
    }
   ],
   "source": [
    "groups"
   ]
  },
  {
   "cell_type": "code",
   "execution_count": 25,
   "metadata": {},
   "outputs": [],
   "source": [
    "stratums = table_augmented.groupby('stratum').count()['url'].reset_index()\n",
    "stratums['proportion'] = stratums.url/stratums.url.sum()\n",
    "stratums['selection'] = [int(i) for i in stratums.proportion*sample_size]"
   ]
  },
  {
   "cell_type": "code",
   "execution_count": 26,
   "metadata": {},
   "outputs": [
    {
     "data": {
      "text/html": [
       "<div>\n",
       "<style scoped>\n",
       "    .dataframe tbody tr th:only-of-type {\n",
       "        vertical-align: middle;\n",
       "    }\n",
       "\n",
       "    .dataframe tbody tr th {\n",
       "        vertical-align: top;\n",
       "    }\n",
       "\n",
       "    .dataframe thead th {\n",
       "        text-align: right;\n",
       "    }\n",
       "</style>\n",
       "<table border=\"1\" class=\"dataframe\">\n",
       "  <thead>\n",
       "    <tr style=\"text-align: right;\">\n",
       "      <th></th>\n",
       "      <th>stratum</th>\n",
       "      <th>url</th>\n",
       "      <th>proportion</th>\n",
       "      <th>selection</th>\n",
       "    </tr>\n",
       "  </thead>\n",
       "  <tbody>\n",
       "    <tr>\n",
       "      <th>0</th>\n",
       "      <td>Arxiv - Advertising</td>\n",
       "      <td>370</td>\n",
       "      <td>0.104846</td>\n",
       "      <td>9</td>\n",
       "    </tr>\n",
       "    <tr>\n",
       "      <th>1</th>\n",
       "      <td>Arxiv - Compliance</td>\n",
       "      <td>74</td>\n",
       "      <td>0.020969</td>\n",
       "      <td>1</td>\n",
       "    </tr>\n",
       "    <tr>\n",
       "      <th>2</th>\n",
       "      <td>Arxiv - Failure of Web accessibility</td>\n",
       "      <td>57</td>\n",
       "      <td>0.016152</td>\n",
       "      <td>1</td>\n",
       "    </tr>\n",
       "    <tr>\n",
       "      <th>3</th>\n",
       "      <td>Arxiv - Geoblocking</td>\n",
       "      <td>24</td>\n",
       "      <td>0.006801</td>\n",
       "      <td>0</td>\n",
       "    </tr>\n",
       "    <tr>\n",
       "      <th>4</th>\n",
       "      <td>Arxiv - Price Transparency Issues</td>\n",
       "      <td>110</td>\n",
       "      <td>0.031170</td>\n",
       "      <td>2</td>\n",
       "    </tr>\n",
       "    <tr>\n",
       "      <th>5</th>\n",
       "      <td>Arxiv - Scam (Online Fraud)</td>\n",
       "      <td>317</td>\n",
       "      <td>0.089827</td>\n",
       "      <td>8</td>\n",
       "    </tr>\n",
       "    <tr>\n",
       "      <th>6</th>\n",
       "      <td>Arxiv - Scarcity cues</td>\n",
       "      <td>33</td>\n",
       "      <td>0.009351</td>\n",
       "      <td>0</td>\n",
       "    </tr>\n",
       "    <tr>\n",
       "      <th>7</th>\n",
       "      <td>Arxiv - Unfair terms issues</td>\n",
       "      <td>100</td>\n",
       "      <td>0.028337</td>\n",
       "      <td>2</td>\n",
       "    </tr>\n",
       "    <tr>\n",
       "      <th>8</th>\n",
       "      <td>DBLP - Advertising</td>\n",
       "      <td>314</td>\n",
       "      <td>0.088977</td>\n",
       "      <td>8</td>\n",
       "    </tr>\n",
       "    <tr>\n",
       "      <th>9</th>\n",
       "      <td>DBLP - Compliance</td>\n",
       "      <td>2</td>\n",
       "      <td>0.000567</td>\n",
       "      <td>0</td>\n",
       "    </tr>\n",
       "    <tr>\n",
       "      <th>10</th>\n",
       "      <td>DBLP - Failure of Web accessibility</td>\n",
       "      <td>54</td>\n",
       "      <td>0.015302</td>\n",
       "      <td>1</td>\n",
       "    </tr>\n",
       "    <tr>\n",
       "      <th>11</th>\n",
       "      <td>DBLP - Geoblocking</td>\n",
       "      <td>5</td>\n",
       "      <td>0.001417</td>\n",
       "      <td>0</td>\n",
       "    </tr>\n",
       "    <tr>\n",
       "      <th>12</th>\n",
       "      <td>DBLP - Price Transparency Issues</td>\n",
       "      <td>69</td>\n",
       "      <td>0.019552</td>\n",
       "      <td>1</td>\n",
       "    </tr>\n",
       "    <tr>\n",
       "      <th>13</th>\n",
       "      <td>DBLP - Scam (Online Fraud)</td>\n",
       "      <td>166</td>\n",
       "      <td>0.047039</td>\n",
       "      <td>4</td>\n",
       "    </tr>\n",
       "    <tr>\n",
       "      <th>14</th>\n",
       "      <td>DBLP - Unfair terms issues</td>\n",
       "      <td>65</td>\n",
       "      <td>0.018419</td>\n",
       "      <td>1</td>\n",
       "    </tr>\n",
       "    <tr>\n",
       "      <th>15</th>\n",
       "      <td>EU Patents Database - Advertising</td>\n",
       "      <td>244</td>\n",
       "      <td>0.069141</td>\n",
       "      <td>6</td>\n",
       "    </tr>\n",
       "    <tr>\n",
       "      <th>16</th>\n",
       "      <td>EU Patents Database - Compliance</td>\n",
       "      <td>1</td>\n",
       "      <td>0.000283</td>\n",
       "      <td>0</td>\n",
       "    </tr>\n",
       "    <tr>\n",
       "      <th>17</th>\n",
       "      <td>EU Patents Database - Failure of Web accessibi...</td>\n",
       "      <td>7</td>\n",
       "      <td>0.001984</td>\n",
       "      <td>0</td>\n",
       "    </tr>\n",
       "    <tr>\n",
       "      <th>18</th>\n",
       "      <td>EU Patents Database - Price Transparency Issues</td>\n",
       "      <td>1</td>\n",
       "      <td>0.000283</td>\n",
       "      <td>0</td>\n",
       "    </tr>\n",
       "    <tr>\n",
       "      <th>19</th>\n",
       "      <td>EU Patents Database - Scam (Online Fraud)</td>\n",
       "      <td>150</td>\n",
       "      <td>0.042505</td>\n",
       "      <td>3</td>\n",
       "    </tr>\n",
       "    <tr>\n",
       "      <th>20</th>\n",
       "      <td>EU Patents Database - Scarcity cues</td>\n",
       "      <td>1</td>\n",
       "      <td>0.000283</td>\n",
       "      <td>0</td>\n",
       "    </tr>\n",
       "    <tr>\n",
       "      <th>21</th>\n",
       "      <td>EU Patents Database - Unfair terms issues</td>\n",
       "      <td>17</td>\n",
       "      <td>0.004817</td>\n",
       "      <td>0</td>\n",
       "    </tr>\n",
       "    <tr>\n",
       "      <th>22</th>\n",
       "      <td>Github - Advertising</td>\n",
       "      <td>329</td>\n",
       "      <td>0.093228</td>\n",
       "      <td>8</td>\n",
       "    </tr>\n",
       "    <tr>\n",
       "      <th>23</th>\n",
       "      <td>Gitlab - Advertising</td>\n",
       "      <td>120</td>\n",
       "      <td>0.034004</td>\n",
       "      <td>3</td>\n",
       "    </tr>\n",
       "    <tr>\n",
       "      <th>24</th>\n",
       "      <td>Gitlab - Failure of Web accessibility</td>\n",
       "      <td>12</td>\n",
       "      <td>0.003400</td>\n",
       "      <td>0</td>\n",
       "    </tr>\n",
       "    <tr>\n",
       "      <th>25</th>\n",
       "      <td>Gitlab - Price Transparency Issues</td>\n",
       "      <td>1</td>\n",
       "      <td>0.000283</td>\n",
       "      <td>0</td>\n",
       "    </tr>\n",
       "    <tr>\n",
       "      <th>26</th>\n",
       "      <td>Gitlab - Scam (Online Fraud)</td>\n",
       "      <td>28</td>\n",
       "      <td>0.007934</td>\n",
       "      <td>0</td>\n",
       "    </tr>\n",
       "    <tr>\n",
       "      <th>27</th>\n",
       "      <td>Gitlab - Scarcity cues</td>\n",
       "      <td>6</td>\n",
       "      <td>0.001700</td>\n",
       "      <td>0</td>\n",
       "    </tr>\n",
       "    <tr>\n",
       "      <th>28</th>\n",
       "      <td>Gitlab - Unfair terms issues</td>\n",
       "      <td>21</td>\n",
       "      <td>0.005951</td>\n",
       "      <td>0</td>\n",
       "    </tr>\n",
       "    <tr>\n",
       "      <th>29</th>\n",
       "      <td>Google play - Advertising</td>\n",
       "      <td>210</td>\n",
       "      <td>0.059507</td>\n",
       "      <td>5</td>\n",
       "    </tr>\n",
       "    <tr>\n",
       "      <th>30</th>\n",
       "      <td>Google play - Failure of Web accessibility</td>\n",
       "      <td>30</td>\n",
       "      <td>0.008501</td>\n",
       "      <td>0</td>\n",
       "    </tr>\n",
       "    <tr>\n",
       "      <th>31</th>\n",
       "      <td>Google play - Geoblocking</td>\n",
       "      <td>10</td>\n",
       "      <td>0.002834</td>\n",
       "      <td>0</td>\n",
       "    </tr>\n",
       "    <tr>\n",
       "      <th>32</th>\n",
       "      <td>Google play - Scam (Online Fraud)</td>\n",
       "      <td>112</td>\n",
       "      <td>0.031737</td>\n",
       "      <td>2</td>\n",
       "    </tr>\n",
       "    <tr>\n",
       "      <th>33</th>\n",
       "      <td>Google play - Unfair terms issues</td>\n",
       "      <td>51</td>\n",
       "      <td>0.014452</td>\n",
       "      <td>1</td>\n",
       "    </tr>\n",
       "    <tr>\n",
       "      <th>34</th>\n",
       "      <td>Google scholar - Advertising</td>\n",
       "      <td>186</td>\n",
       "      <td>0.052706</td>\n",
       "      <td>4</td>\n",
       "    </tr>\n",
       "    <tr>\n",
       "      <th>35</th>\n",
       "      <td>Google scholar - Failure of Web accessibility</td>\n",
       "      <td>20</td>\n",
       "      <td>0.005667</td>\n",
       "      <td>0</td>\n",
       "    </tr>\n",
       "    <tr>\n",
       "      <th>36</th>\n",
       "      <td>Google scholar - Geoblocking</td>\n",
       "      <td>18</td>\n",
       "      <td>0.005101</td>\n",
       "      <td>0</td>\n",
       "    </tr>\n",
       "    <tr>\n",
       "      <th>37</th>\n",
       "      <td>Google scholar - Price Transparency Issues</td>\n",
       "      <td>54</td>\n",
       "      <td>0.015302</td>\n",
       "      <td>1</td>\n",
       "    </tr>\n",
       "    <tr>\n",
       "      <th>38</th>\n",
       "      <td>Google scholar - Scam (Online Fraud)</td>\n",
       "      <td>102</td>\n",
       "      <td>0.028903</td>\n",
       "      <td>2</td>\n",
       "    </tr>\n",
       "    <tr>\n",
       "      <th>39</th>\n",
       "      <td>Google scholar - Unfair terms issues</td>\n",
       "      <td>38</td>\n",
       "      <td>0.010768</td>\n",
       "      <td>1</td>\n",
       "    </tr>\n",
       "  </tbody>\n",
       "</table>\n",
       "</div>"
      ],
      "text/plain": [
       "                                              stratum  url  proportion  \\\n",
       "0                                 Arxiv - Advertising  370    0.104846   \n",
       "1                                  Arxiv - Compliance   74    0.020969   \n",
       "2                Arxiv - Failure of Web accessibility   57    0.016152   \n",
       "3                                 Arxiv - Geoblocking   24    0.006801   \n",
       "4                   Arxiv - Price Transparency Issues  110    0.031170   \n",
       "5                         Arxiv - Scam (Online Fraud)  317    0.089827   \n",
       "6                               Arxiv - Scarcity cues   33    0.009351   \n",
       "7                         Arxiv - Unfair terms issues  100    0.028337   \n",
       "8                                  DBLP - Advertising  314    0.088977   \n",
       "9                                   DBLP - Compliance    2    0.000567   \n",
       "10                DBLP - Failure of Web accessibility   54    0.015302   \n",
       "11                                 DBLP - Geoblocking    5    0.001417   \n",
       "12                   DBLP - Price Transparency Issues   69    0.019552   \n",
       "13                         DBLP - Scam (Online Fraud)  166    0.047039   \n",
       "14                         DBLP - Unfair terms issues   65    0.018419   \n",
       "15                  EU Patents Database - Advertising  244    0.069141   \n",
       "16                   EU Patents Database - Compliance    1    0.000283   \n",
       "17  EU Patents Database - Failure of Web accessibi...    7    0.001984   \n",
       "18    EU Patents Database - Price Transparency Issues    1    0.000283   \n",
       "19          EU Patents Database - Scam (Online Fraud)  150    0.042505   \n",
       "20                EU Patents Database - Scarcity cues    1    0.000283   \n",
       "21          EU Patents Database - Unfair terms issues   17    0.004817   \n",
       "22                               Github - Advertising  329    0.093228   \n",
       "23                               Gitlab - Advertising  120    0.034004   \n",
       "24              Gitlab - Failure of Web accessibility   12    0.003400   \n",
       "25                 Gitlab - Price Transparency Issues    1    0.000283   \n",
       "26                       Gitlab - Scam (Online Fraud)   28    0.007934   \n",
       "27                             Gitlab - Scarcity cues    6    0.001700   \n",
       "28                       Gitlab - Unfair terms issues   21    0.005951   \n",
       "29                          Google play - Advertising  210    0.059507   \n",
       "30         Google play - Failure of Web accessibility   30    0.008501   \n",
       "31                          Google play - Geoblocking   10    0.002834   \n",
       "32                  Google play - Scam (Online Fraud)  112    0.031737   \n",
       "33                  Google play - Unfair terms issues   51    0.014452   \n",
       "34                       Google scholar - Advertising  186    0.052706   \n",
       "35      Google scholar - Failure of Web accessibility   20    0.005667   \n",
       "36                       Google scholar - Geoblocking   18    0.005101   \n",
       "37         Google scholar - Price Transparency Issues   54    0.015302   \n",
       "38               Google scholar - Scam (Online Fraud)  102    0.028903   \n",
       "39               Google scholar - Unfair terms issues   38    0.010768   \n",
       "\n",
       "    selection  \n",
       "0           9  \n",
       "1           1  \n",
       "2           1  \n",
       "3           0  \n",
       "4           2  \n",
       "5           8  \n",
       "6           0  \n",
       "7           2  \n",
       "8           8  \n",
       "9           0  \n",
       "10          1  \n",
       "11          0  \n",
       "12          1  \n",
       "13          4  \n",
       "14          1  \n",
       "15          6  \n",
       "16          0  \n",
       "17          0  \n",
       "18          0  \n",
       "19          3  \n",
       "20          0  \n",
       "21          0  \n",
       "22          8  \n",
       "23          3  \n",
       "24          0  \n",
       "25          0  \n",
       "26          0  \n",
       "27          0  \n",
       "28          0  \n",
       "29          5  \n",
       "30          0  \n",
       "31          0  \n",
       "32          2  \n",
       "33          1  \n",
       "34          4  \n",
       "35          0  \n",
       "36          0  \n",
       "37          1  \n",
       "38          2  \n",
       "39          1  "
      ]
     },
     "execution_count": 26,
     "metadata": {},
     "output_type": "execute_result"
    }
   ],
   "source": [
    "stratums"
   ]
  },
  {
   "cell_type": "code",
   "execution_count": 27,
   "metadata": {},
   "outputs": [],
   "source": [
    "np.random.seed(32)\n",
    "matrix = []\n",
    "for source in stratums.stratum:\n",
    "    range_group = table_augmented[table_augmented.stratum == str(source)].index\n",
    "    selection = stratums[stratums.stratum == str(source)].selection.values[0]\n",
    "    #print(source, ' ', selection)\n",
    "    group_sample = list(np.random.choice(range_group, selection))\n",
    "    matrix.append(group_sample)\n",
    "stratified_sample = sorted(set([item for sublist in matrix for item in sublist]))"
   ]
  },
  {
   "cell_type": "code",
   "execution_count": 28,
   "metadata": {},
   "outputs": [],
   "source": [
    "table_augmented['first_sample'] = [1 if i in stratified_sample else 0 for i in table_augmented.index]        "
   ]
  },
  {
   "cell_type": "code",
   "execution_count": 29,
   "metadata": {},
   "outputs": [
    {
     "data": {
      "text/plain": [
       "74"
      ]
     },
     "execution_count": 29,
     "metadata": {},
     "output_type": "execute_result"
    }
   ],
   "source": [
    "table_augmented['first_sample'].sum()"
   ]
  },
  {
   "cell_type": "code",
   "execution_count": 30,
   "metadata": {},
   "outputs": [],
   "source": [
    "#these are going to be excluded in the nex round of sam[ling]\n",
    "index_first_sample = table_augmented[table_augmented['first_sample'] == 1].index"
   ]
  },
  {
   "cell_type": "code",
   "execution_count": 31,
   "metadata": {},
   "outputs": [
    {
     "data": {
      "text/plain": [
       "Int64Index([  43,   71,   88,   89,  215,  234,  252,  259,  310,  462,  469,\n",
       "             492,  509,  527,  565,  686,  707,  801,  813,  848,  912,  982,\n",
       "            1020, 1137, 1147, 1162, 1205, 1242, 1251, 1334, 1352, 1498, 1514,\n",
       "            1538, 1543, 1632, 1664, 1753, 1828, 1852, 1873, 1966, 2028, 2114,\n",
       "            2117, 2131, 2209, 2227, 2298, 2361, 2467, 2498, 2533, 2548, 2622,\n",
       "            2639, 2678, 2877, 2884, 2931, 2952, 2957, 2982, 3014, 3078, 3197,\n",
       "            3265, 3289, 3328, 3391, 3475, 3479, 3507, 3512],\n",
       "           dtype='int64')"
      ]
     },
     "execution_count": 31,
     "metadata": {},
     "output_type": "execute_result"
    }
   ],
   "source": [
    "index_first_sample"
   ]
  },
  {
   "cell_type": "markdown",
   "metadata": {},
   "source": [
    "---"
   ]
  },
  {
   "cell_type": "code",
   "execution_count": 32,
   "metadata": {},
   "outputs": [
    {
     "data": {
      "text/plain": [
       "<Worksheet 'clean_database' id:1709523549>"
      ]
     },
     "execution_count": 32,
     "metadata": {},
     "output_type": "execute_result"
    }
   ],
   "source": [
    "wks_name = 'clean_database'\n",
    "d2g.upload(table_augmented, spreadsheet_key, wks_name, credentials=credentials, row_names=False)"
   ]
  },
  {
   "cell_type": "code",
   "execution_count": 33,
   "metadata": {},
   "outputs": [],
   "source": [
    "#d2g.upload(table_augmented[['topic','source']].drop_duplicates(subset ='topic'), spreadsheet_key,\n",
    "#           'terms', credentials=credentials, row_names=False)"
   ]
  },
  {
   "cell_type": "code",
   "execution_count": 34,
   "metadata": {},
   "outputs": [
    {
     "data": {
      "text/plain": [
       "3534"
      ]
     },
     "execution_count": 34,
     "metadata": {},
     "output_type": "execute_result"
    }
   ],
   "source": [
    "len(table_augmented)"
   ]
  },
  {
   "cell_type": "code",
   "execution_count": null,
   "metadata": {},
   "outputs": [],
   "source": []
  }
 ],
 "metadata": {
  "kernelspec": {
   "display_name": "Python 3",
   "language": "python",
   "name": "python3"
  },
  "language_info": {
   "codemirror_mode": {
    "name": "ipython",
    "version": 3
   },
   "file_extension": ".py",
   "mimetype": "text/x-python",
   "name": "python",
   "nbconvert_exporter": "python",
   "pygments_lexer": "ipython3",
   "version": "3.7.3"
  }
 },
 "nbformat": 4,
 "nbformat_minor": 2
}
