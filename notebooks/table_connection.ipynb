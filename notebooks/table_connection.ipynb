{
 "cells": [
  {
   "cell_type": "markdown",
   "metadata": {},
   "source": [
    "## Connection to table in GDrive"
   ]
  },
  {
   "cell_type": "code",
   "execution_count": 1,
   "metadata": {},
   "outputs": [],
   "source": [
    "from oauth2client.service_account import ServiceAccountCredentials\n",
    "from df2gspread import df2gspread as d2g\n",
    "from pandas.io.json import json_normalize\n",
    "import pandas as pd\n",
    "import numpy as np\n",
    "import gspread\n",
    "import warnings\n",
    "warnings.filterwarnings(\"ignore\")"
   ]
  },
  {
   "cell_type": "markdown",
   "metadata": {},
   "source": [
    "---\n",
    "### Extracted table from automatic sources"
   ]
  },
  {
   "cell_type": "code",
   "execution_count": 2,
   "metadata": {},
   "outputs": [],
   "source": [
    "table1 = pd.read_csv('../datasets/Arxiv_results.csv', header=None).rename(columns={0:'url',1:'description',2:'topic'})\n",
    "table1['source'] = 'Arxiv'\n",
    "table1['source_type'] = 'Research'\n",
    "table2 = pd.read_csv('../datasets/DBLP_results.csv', header=None).rename(columns={0:'url',1:'description',2:'topic'})\n",
    "table2['source'] = 'DBLP'\n",
    "table2['source_type'] = 'Research'\n",
    "table3 = pd.read_csv('../datasets/Gitlab_results.csv', header=None).rename(columns={0:'url',1:'description',2:'topic'})\n",
    "table3['source'] = 'Gitlab'\n",
    "table3['source_type'] = 'Software registry'\n",
    "table4 = pd.read_csv('../datasets/Googleplay_results.csv', header=None).rename(columns={0:'url',1:'description',2:'topic'})\n",
    "table4['source'] = 'Google play'\n",
    "table4['source_type'] = 'Software registry'\n",
    "table5 = pd.read_csv('../datasets/Googlescholar_results.csv', header=None).rename(columns={0:'url',1:'description',2:'topic'})\n",
    "table5['source'] = 'Google scholar'\n",
    "table5['source_type'] = 'Research'\n",
    "table6 = pd.read_excel('../datasets/github_monitoring_tools.xlsx')[['url','description','topic']]\n",
    "table6['source'] = 'Github'\n",
    "table6['source_type'] = 'Software registry'\n",
    "table7 = pd.read_excel('../datasets/patents_monitoring_tools.xlsx')[['url','description','topic']]\n",
    "table7['source'] = 'EU Patents Database'\n",
    "table7['source_type'] = 'Software registry'"
   ]
  },
  {
   "cell_type": "code",
   "execution_count": 3,
   "metadata": {},
   "outputs": [],
   "source": [
    "# Merge the tables\n",
    "tableA = table1.append(table2, sort=True).reset_index()\n",
    "tableB = tableA.append(table3, sort=True).reset_index()[['url','description','topic','source','source_type']]\n",
    "tableC = tableB.append(table4, sort=True).reset_index()[['url','description','topic','source','source_type']]\n",
    "tableD = tableC.append(table5, sort=True).reset_index()[['url','description','topic','source','source_type']]\n",
    "tableE = tableD.append(table6, sort=True).reset_index()[['url','description','topic','source','source_type']]\n",
    "tableF = tableE.append(table7, sort=True).reset_index()[['url','description','topic','source','source_type']]"
   ]
  },
  {
   "cell_type": "code",
   "execution_count": 4,
   "metadata": {},
   "outputs": [],
   "source": [
    "automathic_table = tableF\n",
    "automathic_table['name'] = 'NA'\n",
    "automathic_table['method'] = 'Crawler search'"
   ]
  },
  {
   "cell_type": "code",
   "execution_count": 5,
   "metadata": {},
   "outputs": [
    {
     "data": {
      "text/html": [
       "<div>\n",
       "<style scoped>\n",
       "    .dataframe tbody tr th:only-of-type {\n",
       "        vertical-align: middle;\n",
       "    }\n",
       "\n",
       "    .dataframe tbody tr th {\n",
       "        vertical-align: top;\n",
       "    }\n",
       "\n",
       "    .dataframe thead th {\n",
       "        text-align: right;\n",
       "    }\n",
       "</style>\n",
       "<table border=\"1\" class=\"dataframe\">\n",
       "  <thead>\n",
       "    <tr style=\"text-align: right;\">\n",
       "      <th></th>\n",
       "      <th>url</th>\n",
       "      <th>description</th>\n",
       "      <th>topic</th>\n",
       "      <th>source</th>\n",
       "      <th>source_type</th>\n",
       "      <th>name</th>\n",
       "      <th>method</th>\n",
       "    </tr>\n",
       "  </thead>\n",
       "  <tbody>\n",
       "    <tr>\n",
       "      <th>0</th>\n",
       "      <td>http://arxiv.org/abs/1305.5959v2</td>\n",
       "      <td>Archiving the web is socially and culturally c...</td>\n",
       "      <td>wayback machine</td>\n",
       "      <td>Arxiv</td>\n",
       "      <td>Research</td>\n",
       "      <td>NA</td>\n",
       "      <td>Crawler search</td>\n",
       "    </tr>\n",
       "    <tr>\n",
       "      <th>1</th>\n",
       "      <td>http://arxiv.org/abs/1309.4016v1</td>\n",
       "      <td>The Internet Archive's (IA) Wayback Machine is...</td>\n",
       "      <td>wayback machine</td>\n",
       "      <td>Arxiv</td>\n",
       "      <td>Research</td>\n",
       "      <td>NA</td>\n",
       "      <td>Crawler search</td>\n",
       "    </tr>\n",
       "    <tr>\n",
       "      <th>2</th>\n",
       "      <td>http://arxiv.org/abs/1904.12636v1</td>\n",
       "      <td>In designing a distributed service, three desi...</td>\n",
       "      <td>wayback machine</td>\n",
       "      <td>Arxiv</td>\n",
       "      <td>Research</td>\n",
       "      <td>NA</td>\n",
       "      <td>Crawler search</td>\n",
       "    </tr>\n",
       "    <tr>\n",
       "      <th>3</th>\n",
       "      <td>http://arxiv.org/abs/1801.10396v2</td>\n",
       "      <td>Web archiving services play an increasingly im...</td>\n",
       "      <td>wayback machine</td>\n",
       "      <td>Arxiv</td>\n",
       "      <td>Research</td>\n",
       "      <td>NA</td>\n",
       "      <td>Crawler search</td>\n",
       "    </tr>\n",
       "    <tr>\n",
       "      <th>4</th>\n",
       "      <td>http://arxiv.org/abs/1604.05923v1</td>\n",
       "      <td>This paper describes how born digital primary ...</td>\n",
       "      <td>wayback machine</td>\n",
       "      <td>Arxiv</td>\n",
       "      <td>Research</td>\n",
       "      <td>NA</td>\n",
       "      <td>Crawler search</td>\n",
       "    </tr>\n",
       "  </tbody>\n",
       "</table>\n",
       "</div>"
      ],
      "text/plain": [
       "                                 url  \\\n",
       "0   http://arxiv.org/abs/1305.5959v2   \n",
       "1   http://arxiv.org/abs/1309.4016v1   \n",
       "2  http://arxiv.org/abs/1904.12636v1   \n",
       "3  http://arxiv.org/abs/1801.10396v2   \n",
       "4  http://arxiv.org/abs/1604.05923v1   \n",
       "\n",
       "                                         description            topic source  \\\n",
       "0  Archiving the web is socially and culturally c...  wayback machine  Arxiv   \n",
       "1  The Internet Archive's (IA) Wayback Machine is...  wayback machine  Arxiv   \n",
       "2  In designing a distributed service, three desi...  wayback machine  Arxiv   \n",
       "3  Web archiving services play an increasingly im...  wayback machine  Arxiv   \n",
       "4  This paper describes how born digital primary ...  wayback machine  Arxiv   \n",
       "\n",
       "  source_type name          method  \n",
       "0    Research   NA  Crawler search  \n",
       "1    Research   NA  Crawler search  \n",
       "2    Research   NA  Crawler search  \n",
       "3    Research   NA  Crawler search  \n",
       "4    Research   NA  Crawler search  "
      ]
     },
     "execution_count": 5,
     "metadata": {},
     "output_type": "execute_result"
    }
   ],
   "source": [
    "automathic_table.head()"
   ]
  },
  {
   "cell_type": "markdown",
   "metadata": {},
   "source": [
    "---\n",
    "### Connect with the table form manual search"
   ]
  },
  {
   "cell_type": "code",
   "execution_count": 6,
   "metadata": {},
   "outputs": [],
   "source": [
    "## Connect to our service account\n",
    "project = \n",
    "scope = ['https://spreadsheets.google.com/feeds']\n",
    "credentials = ServiceAccountCredentials.from_json_keyfile_name(project, scope)\n",
    "gc = gspread.authorize(credentials)"
   ]
  },
  {
   "cell_type": "code",
   "execution_count": 7,
   "metadata": {},
   "outputs": [],
   "source": [
    "##Get candidate data sheet from Google Drive\n",
    "spreadsheet_key = \n",
    "worksheet_name = 'manual_search'"
   ]
  },
  {
   "cell_type": "code",
   "execution_count": 8,
   "metadata": {},
   "outputs": [],
   "source": [
    "book = gc.open_by_key(spreadsheet_key)\n",
    "worksheet = book.worksheet(worksheet_name)\n",
    "data = worksheet.get_all_values()\n",
    "manual_table = pd.DataFrame(data[1:], columns=data[0])"
   ]
  },
  {
   "cell_type": "markdown",
   "metadata": {},
   "source": [
    "---\n",
    "### Merge the tables and remove duplictes"
   ]
  },
  {
   "cell_type": "code",
   "execution_count": 9,
   "metadata": {},
   "outputs": [
    {
     "data": {
      "text/html": [
       "<div>\n",
       "<style scoped>\n",
       "    .dataframe tbody tr th:only-of-type {\n",
       "        vertical-align: middle;\n",
       "    }\n",
       "\n",
       "    .dataframe tbody tr th {\n",
       "        vertical-align: top;\n",
       "    }\n",
       "\n",
       "    .dataframe thead th {\n",
       "        text-align: right;\n",
       "    }\n",
       "</style>\n",
       "<table border=\"1\" class=\"dataframe\">\n",
       "  <thead>\n",
       "    <tr style=\"text-align: right;\">\n",
       "      <th></th>\n",
       "      <th>name</th>\n",
       "      <th>url</th>\n",
       "      <th>description</th>\n",
       "      <th>topic</th>\n",
       "      <th>method</th>\n",
       "      <th>source</th>\n",
       "      <th>source_type</th>\n",
       "    </tr>\n",
       "  </thead>\n",
       "  <tbody>\n",
       "    <tr>\n",
       "      <th>0</th>\n",
       "      <td>Detection of Zombie PCs Based on Email Spam An...</td>\n",
       "      <td>https://apps.webofknowledge.com/full_record.do...</td>\n",
       "      <td>we propose a system that detects botnets and z...</td>\n",
       "      <td>\"IP blocking\"</td>\n",
       "      <td>Research search</td>\n",
       "      <td>Web of Science Database</td>\n",
       "      <td>Research</td>\n",
       "    </tr>\n",
       "    <tr>\n",
       "      <th>1</th>\n",
       "      <td>Engineering an Agent-based System for Product ...</td>\n",
       "      <td>https://users.isc.tuc.gr/~nispanoudakis/resour...</td>\n",
       "      <td>For developing pricing by companies</td>\n",
       "      <td>\"individual pricing\"</td>\n",
       "      <td>Research search</td>\n",
       "      <td>Web of Science Database</td>\n",
       "      <td>Research</td>\n",
       "    </tr>\n",
       "  </tbody>\n",
       "</table>\n",
       "</div>"
      ],
      "text/plain": [
       "                                                name  \\\n",
       "0  Detection of Zombie PCs Based on Email Spam An...   \n",
       "1  Engineering an Agent-based System for Product ...   \n",
       "\n",
       "                                                 url  \\\n",
       "0  https://apps.webofknowledge.com/full_record.do...   \n",
       "1  https://users.isc.tuc.gr/~nispanoudakis/resour...   \n",
       "\n",
       "                                         description                 topic  \\\n",
       "0  we propose a system that detects botnets and z...         \"IP blocking\"   \n",
       "1                For developing pricing by companies  \"individual pricing\"   \n",
       "\n",
       "            method                   source source_type  \n",
       "0  Research search  Web of Science Database    Research  \n",
       "1  Research search  Web of Science Database    Research  "
      ]
     },
     "execution_count": 9,
     "metadata": {},
     "output_type": "execute_result"
    }
   ],
   "source": [
    "manual_table.drop(columns='comment', inplace=True)\n",
    "manual_table.head(2)"
   ]
  },
  {
   "cell_type": "code",
   "execution_count": 10,
   "metadata": {},
   "outputs": [
    {
     "data": {
      "text/plain": [
       "72"
      ]
     },
     "execution_count": 10,
     "metadata": {},
     "output_type": "execute_result"
    }
   ],
   "source": [
    "len(manual_table)"
   ]
  },
  {
   "cell_type": "code",
   "execution_count": 11,
   "metadata": {},
   "outputs": [
    {
     "data": {
      "text/html": [
       "<div>\n",
       "<style scoped>\n",
       "    .dataframe tbody tr th:only-of-type {\n",
       "        vertical-align: middle;\n",
       "    }\n",
       "\n",
       "    .dataframe tbody tr th {\n",
       "        vertical-align: top;\n",
       "    }\n",
       "\n",
       "    .dataframe thead th {\n",
       "        text-align: right;\n",
       "    }\n",
       "</style>\n",
       "<table border=\"1\" class=\"dataframe\">\n",
       "  <thead>\n",
       "    <tr style=\"text-align: right;\">\n",
       "      <th></th>\n",
       "      <th>url</th>\n",
       "      <th>description</th>\n",
       "      <th>topic</th>\n",
       "      <th>source</th>\n",
       "      <th>source_type</th>\n",
       "      <th>name</th>\n",
       "      <th>method</th>\n",
       "    </tr>\n",
       "  </thead>\n",
       "  <tbody>\n",
       "    <tr>\n",
       "      <th>0</th>\n",
       "      <td>http://arxiv.org/abs/1305.5959v2</td>\n",
       "      <td>Archiving the web is socially and culturally c...</td>\n",
       "      <td>wayback machine</td>\n",
       "      <td>Arxiv</td>\n",
       "      <td>Research</td>\n",
       "      <td>NA</td>\n",
       "      <td>Crawler search</td>\n",
       "    </tr>\n",
       "    <tr>\n",
       "      <th>1</th>\n",
       "      <td>http://arxiv.org/abs/1309.4016v1</td>\n",
       "      <td>The Internet Archive's (IA) Wayback Machine is...</td>\n",
       "      <td>wayback machine</td>\n",
       "      <td>Arxiv</td>\n",
       "      <td>Research</td>\n",
       "      <td>NA</td>\n",
       "      <td>Crawler search</td>\n",
       "    </tr>\n",
       "  </tbody>\n",
       "</table>\n",
       "</div>"
      ],
      "text/plain": [
       "                                url  \\\n",
       "0  http://arxiv.org/abs/1305.5959v2   \n",
       "1  http://arxiv.org/abs/1309.4016v1   \n",
       "\n",
       "                                         description            topic source  \\\n",
       "0  Archiving the web is socially and culturally c...  wayback machine  Arxiv   \n",
       "1  The Internet Archive's (IA) Wayback Machine is...  wayback machine  Arxiv   \n",
       "\n",
       "  source_type name          method  \n",
       "0    Research   NA  Crawler search  \n",
       "1    Research   NA  Crawler search  "
      ]
     },
     "execution_count": 11,
     "metadata": {},
     "output_type": "execute_result"
    }
   ],
   "source": [
    "automathic_table.head(2)"
   ]
  },
  {
   "cell_type": "code",
   "execution_count": 12,
   "metadata": {},
   "outputs": [
    {
     "data": {
      "text/plain": [
       "6306"
      ]
     },
     "execution_count": 12,
     "metadata": {},
     "output_type": "execute_result"
    }
   ],
   "source": [
    "len(automathic_table)"
   ]
  },
  {
   "cell_type": "code",
   "execution_count": 15,
   "metadata": {},
   "outputs": [],
   "source": [
    "#just taking into account the automatic table for the moment\n",
    "table = automathic_table\n",
    "#table = manual_table.append(\n",
    "#    automathic_table, sort=True).reset_index()[['url','name','description','topic','method','source','source_type']]"
   ]
  },
  {
   "cell_type": "code",
   "execution_count": 16,
   "metadata": {},
   "outputs": [
    {
     "name": "stdout",
     "output_type": "stream",
     "text": [
      "Total tools: 6306\n",
      "Unique tools: 5004\n",
      "=======\n",
      "url with 0 duplicates: 5004\n",
      "url with 1 duplicates: 676\n",
      "url with 2 duplicates: 260\n",
      "url with 3 duplicates: 134\n",
      "url with 4 duplicates: 75\n",
      "url with 5 duplicates: 46\n",
      "url with 6 duplicates: 36\n",
      "url with 7 duplicates: 31\n",
      "url with 8 duplicates: 25\n",
      "url with 9 duplicates: 11\n",
      "url with 10 duplicates: 4\n",
      "url with 11 duplicates: 2\n",
      "url with 12 duplicates: 1\n",
      "url with 13 duplicates: 1\n",
      "url with 14 duplicates: 0\n",
      "=======\n",
      "lines to remove: 1302\n"
     ]
    }
   ],
   "source": [
    "#duplicates identification\n",
    "list_id = list(table.url)\n",
    "list_uniques = list(table.url.unique())\n",
    "print('Total tools: {}\\nUnique tools: {}\\n======='.format(len(list_id),len(list_uniques)))\n",
    "for i in range(0,15):\n",
    "    sets = list(set([x for x in list_id if list_id.count(x) > i]))\n",
    "    print('url with {} duplicates: {}'.format(i, len(sets)))\n",
    "print('=======\\nlines to remove: {}'.format(len(list_id) - len(list_uniques)))"
   ]
  },
  {
   "cell_type": "code",
   "execution_count": 17,
   "metadata": {},
   "outputs": [],
   "source": [
    "## Save the data back to a new sheet in the dataframe\n",
    "table = table.drop_duplicates(subset ='url')"
   ]
  },
  {
   "cell_type": "code",
   "execution_count": 18,
   "metadata": {},
   "outputs": [],
   "source": [
    "table['topic'] = [row.replace(\"'\",\"\") for row in table.topic]"
   ]
  },
  {
   "cell_type": "code",
   "execution_count": 19,
   "metadata": {},
   "outputs": [
    {
     "data": {
      "text/plain": [
       "5004"
      ]
     },
     "execution_count": 19,
     "metadata": {},
     "output_type": "execute_result"
    }
   ],
   "source": [
    "len(table)"
   ]
  },
  {
   "cell_type": "code",
   "execution_count": 20,
   "metadata": {},
   "outputs": [
    {
     "data": {
      "text/html": [
       "<div>\n",
       "<style scoped>\n",
       "    .dataframe tbody tr th:only-of-type {\n",
       "        vertical-align: middle;\n",
       "    }\n",
       "\n",
       "    .dataframe tbody tr th {\n",
       "        vertical-align: top;\n",
       "    }\n",
       "\n",
       "    .dataframe thead th {\n",
       "        text-align: right;\n",
       "    }\n",
       "</style>\n",
       "<table border=\"1\" class=\"dataframe\">\n",
       "  <thead>\n",
       "    <tr style=\"text-align: right;\">\n",
       "      <th></th>\n",
       "      <th>url</th>\n",
       "      <th>description</th>\n",
       "      <th>topic</th>\n",
       "      <th>source</th>\n",
       "      <th>source_type</th>\n",
       "      <th>name</th>\n",
       "      <th>method</th>\n",
       "    </tr>\n",
       "  </thead>\n",
       "  <tbody>\n",
       "    <tr>\n",
       "      <th>0</th>\n",
       "      <td>http://arxiv.org/abs/1305.5959v2</td>\n",
       "      <td>Archiving the web is socially and culturally c...</td>\n",
       "      <td>wayback machine</td>\n",
       "      <td>Arxiv</td>\n",
       "      <td>Research</td>\n",
       "      <td>NA</td>\n",
       "      <td>Crawler search</td>\n",
       "    </tr>\n",
       "    <tr>\n",
       "      <th>1</th>\n",
       "      <td>http://arxiv.org/abs/1309.4016v1</td>\n",
       "      <td>The Internet Archive's (IA) Wayback Machine is...</td>\n",
       "      <td>wayback machine</td>\n",
       "      <td>Arxiv</td>\n",
       "      <td>Research</td>\n",
       "      <td>NA</td>\n",
       "      <td>Crawler search</td>\n",
       "    </tr>\n",
       "    <tr>\n",
       "      <th>2</th>\n",
       "      <td>http://arxiv.org/abs/1904.12636v1</td>\n",
       "      <td>In designing a distributed service, three desi...</td>\n",
       "      <td>wayback machine</td>\n",
       "      <td>Arxiv</td>\n",
       "      <td>Research</td>\n",
       "      <td>NA</td>\n",
       "      <td>Crawler search</td>\n",
       "    </tr>\n",
       "    <tr>\n",
       "      <th>3</th>\n",
       "      <td>http://arxiv.org/abs/1801.10396v2</td>\n",
       "      <td>Web archiving services play an increasingly im...</td>\n",
       "      <td>wayback machine</td>\n",
       "      <td>Arxiv</td>\n",
       "      <td>Research</td>\n",
       "      <td>NA</td>\n",
       "      <td>Crawler search</td>\n",
       "    </tr>\n",
       "    <tr>\n",
       "      <th>4</th>\n",
       "      <td>http://arxiv.org/abs/1604.05923v1</td>\n",
       "      <td>This paper describes how born digital primary ...</td>\n",
       "      <td>wayback machine</td>\n",
       "      <td>Arxiv</td>\n",
       "      <td>Research</td>\n",
       "      <td>NA</td>\n",
       "      <td>Crawler search</td>\n",
       "    </tr>\n",
       "  </tbody>\n",
       "</table>\n",
       "</div>"
      ],
      "text/plain": [
       "                                 url  \\\n",
       "0   http://arxiv.org/abs/1305.5959v2   \n",
       "1   http://arxiv.org/abs/1309.4016v1   \n",
       "2  http://arxiv.org/abs/1904.12636v1   \n",
       "3  http://arxiv.org/abs/1801.10396v2   \n",
       "4  http://arxiv.org/abs/1604.05923v1   \n",
       "\n",
       "                                         description            topic source  \\\n",
       "0  Archiving the web is socially and culturally c...  wayback machine  Arxiv   \n",
       "1  The Internet Archive's (IA) Wayback Machine is...  wayback machine  Arxiv   \n",
       "2  In designing a distributed service, three desi...  wayback machine  Arxiv   \n",
       "3  Web archiving services play an increasingly im...  wayback machine  Arxiv   \n",
       "4  This paper describes how born digital primary ...  wayback machine  Arxiv   \n",
       "\n",
       "  source_type name          method  \n",
       "0    Research   NA  Crawler search  \n",
       "1    Research   NA  Crawler search  \n",
       "2    Research   NA  Crawler search  \n",
       "3    Research   NA  Crawler search  \n",
       "4    Research   NA  Crawler search  "
      ]
     },
     "execution_count": 20,
     "metadata": {},
     "output_type": "execute_result"
    }
   ],
   "source": [
    "table.head()"
   ]
  },
  {
   "cell_type": "markdown",
   "metadata": {},
   "source": [
    "---\n",
    "## Sampling"
   ]
  },
  {
   "cell_type": "code",
   "execution_count": 40,
   "metadata": {},
   "outputs": [],
   "source": [
    "def sampleSize(population_size, margin_error=.05, confidence_level=.99, sigma=1/2):\n",
    "    alpha = 1 - (confidence_level)\n",
    "    # dictionary of confidence levels and corresponding z-scores\n",
    "    # computed via norm.ppf(1 - (alpha/2)), where norm is\n",
    "    zdict = {\n",
    "        .90: 1.645,\n",
    "        .91: 1.695,\n",
    "        .99: 2.576,\n",
    "        .97: 2.17,\n",
    "        .94: 1.881,\n",
    "        .93: 1.812,\n",
    "        .95: 1.96,\n",
    "        .98: 2.326,\n",
    "        .96: 2.054,\n",
    "        .92: 1.751\n",
    "    }\n",
    "    if confidence_level in zdict:\n",
    "        z = zdict[confidence_level]\n",
    "    else:\n",
    "        from scipy.stats import norm\n",
    "        z = norm.ppf(1 - (alpha/2))\n",
    "    N = population_size\n",
    "    M = margin_error\n",
    "    a = z**2 * sigma**2 * (N / (N-1))\n",
    "    b = M**2 + ((z**2 * sigma**2)/(N-1))\n",
    "    return int(round(a/b,0))"
   ]
  },
  {
   "cell_type": "code",
   "execution_count": 41,
   "metadata": {},
   "outputs": [
    {
     "name": "stdout",
     "output_type": "stream",
     "text": [
      "Sample Size: 357\n"
     ]
    }
   ],
   "source": [
    "sample_size = sampleSize(population_size=len(table),\n",
    "                         margin_error=.05, confidence_level=.95, sigma=1/2)\n",
    "print('Sample Size: {}'.format(sample_size))"
   ]
  },
  {
   "cell_type": "code",
   "execution_count": 42,
   "metadata": {},
   "outputs": [
    {
     "data": {
      "text/html": [
       "<div>\n",
       "<style scoped>\n",
       "    .dataframe tbody tr th:only-of-type {\n",
       "        vertical-align: middle;\n",
       "    }\n",
       "\n",
       "    .dataframe tbody tr th {\n",
       "        vertical-align: top;\n",
       "    }\n",
       "\n",
       "    .dataframe thead th {\n",
       "        text-align: right;\n",
       "    }\n",
       "</style>\n",
       "<table border=\"1\" class=\"dataframe\">\n",
       "  <thead>\n",
       "    <tr style=\"text-align: right;\">\n",
       "      <th></th>\n",
       "      <th>group</th>\n",
       "      <th>subgroup</th>\n",
       "      <th>keywords</th>\n",
       "    </tr>\n",
       "  </thead>\n",
       "  <tbody>\n",
       "    <tr>\n",
       "      <th>0</th>\n",
       "      <td>Web Evidence</td>\n",
       "      <td>Internet snaps and internet archives</td>\n",
       "      <td>wayback machine</td>\n",
       "    </tr>\n",
       "    <tr>\n",
       "      <th>1</th>\n",
       "      <td>Web Evidence</td>\n",
       "      <td>Internet snaps and internet archives</td>\n",
       "      <td>internet snap</td>\n",
       "    </tr>\n",
       "    <tr>\n",
       "      <th>2</th>\n",
       "      <td>Web Evidence</td>\n",
       "      <td>Internet snaps and internet archives</td>\n",
       "      <td>webpage snap</td>\n",
       "    </tr>\n",
       "  </tbody>\n",
       "</table>\n",
       "</div>"
      ],
      "text/plain": [
       "          group                              subgroup         keywords\n",
       "0  Web Evidence  Internet snaps and internet archives  wayback machine\n",
       "1  Web Evidence  Internet snaps and internet archives    internet snap\n",
       "2  Web Evidence  Internet snaps and internet archives     webpage snap"
      ]
     },
     "execution_count": 42,
     "metadata": {},
     "output_type": "execute_result"
    }
   ],
   "source": [
    "catalogue = pd.read_csv('catalogue.csv').fillna(method='ffill')\n",
    "catalogue.columns = ['group','desciption','subgroup','terms','keywords']\n",
    "catalogue = catalogue[['group','subgroup','keywords']]\n",
    "catalogue.head(3)"
   ]
  },
  {
   "cell_type": "code",
   "execution_count": 43,
   "metadata": {},
   "outputs": [],
   "source": [
    "table_augmented = pd.merge(table, catalogue, left_on='topic', right_on='keywords', how='left')\n",
    "table_augmented['stratum'] = table_augmented['source'] + ' - ' + table_augmented['group']\n",
    "#table_augmented['stratum'] = table_augmented['group']"
   ]
  },
  {
   "cell_type": "code",
   "execution_count": 44,
   "metadata": {},
   "outputs": [],
   "source": [
    "groups = table_augmented.groupby('group').count()['url'].reset_index()\n",
    "groups['proportion'] = groups.url/groups.url.sum()\n",
    "groups['selection'] = [int(i) for i in groups.proportion*sample_size]"
   ]
  },
  {
   "cell_type": "code",
   "execution_count": 45,
   "metadata": {},
   "outputs": [
    {
     "data": {
      "text/html": [
       "<div>\n",
       "<style scoped>\n",
       "    .dataframe tbody tr th:only-of-type {\n",
       "        vertical-align: middle;\n",
       "    }\n",
       "\n",
       "    .dataframe tbody tr th {\n",
       "        vertical-align: top;\n",
       "    }\n",
       "\n",
       "    .dataframe thead th {\n",
       "        text-align: right;\n",
       "    }\n",
       "</style>\n",
       "<table border=\"1\" class=\"dataframe\">\n",
       "  <thead>\n",
       "    <tr style=\"text-align: right;\">\n",
       "      <th></th>\n",
       "      <th>group</th>\n",
       "      <th>url</th>\n",
       "      <th>proportion</th>\n",
       "      <th>selection</th>\n",
       "    </tr>\n",
       "  </thead>\n",
       "  <tbody>\n",
       "    <tr>\n",
       "      <th>0</th>\n",
       "      <td>Advertising</td>\n",
       "      <td>1647</td>\n",
       "      <td>0.329598</td>\n",
       "      <td>117</td>\n",
       "    </tr>\n",
       "    <tr>\n",
       "      <th>1</th>\n",
       "      <td>Compliance</td>\n",
       "      <td>284</td>\n",
       "      <td>0.056834</td>\n",
       "      <td>20</td>\n",
       "    </tr>\n",
       "    <tr>\n",
       "      <th>2</th>\n",
       "      <td>Dark Patterns</td>\n",
       "      <td>348</td>\n",
       "      <td>0.069642</td>\n",
       "      <td>24</td>\n",
       "    </tr>\n",
       "    <tr>\n",
       "      <th>3</th>\n",
       "      <td>Geoblocking</td>\n",
       "      <td>305</td>\n",
       "      <td>0.061037</td>\n",
       "      <td>21</td>\n",
       "    </tr>\n",
       "    <tr>\n",
       "      <th>4</th>\n",
       "      <td>Price Transparency Issues</td>\n",
       "      <td>285</td>\n",
       "      <td>0.057034</td>\n",
       "      <td>20</td>\n",
       "    </tr>\n",
       "    <tr>\n",
       "      <th>5</th>\n",
       "      <td>Scam (Online Fraud)</td>\n",
       "      <td>985</td>\n",
       "      <td>0.197118</td>\n",
       "      <td>70</td>\n",
       "    </tr>\n",
       "    <tr>\n",
       "      <th>6</th>\n",
       "      <td>Unfair terms issues</td>\n",
       "      <td>334</td>\n",
       "      <td>0.066840</td>\n",
       "      <td>23</td>\n",
       "    </tr>\n",
       "    <tr>\n",
       "      <th>7</th>\n",
       "      <td>Web Evidence</td>\n",
       "      <td>809</td>\n",
       "      <td>0.161897</td>\n",
       "      <td>57</td>\n",
       "    </tr>\n",
       "  </tbody>\n",
       "</table>\n",
       "</div>"
      ],
      "text/plain": [
       "                       group   url  proportion  selection\n",
       "0                Advertising  1647    0.329598        117\n",
       "1                 Compliance   284    0.056834         20\n",
       "2              Dark Patterns   348    0.069642         24\n",
       "3                Geoblocking   305    0.061037         21\n",
       "4  Price Transparency Issues   285    0.057034         20\n",
       "5        Scam (Online Fraud)   985    0.197118         70\n",
       "6        Unfair terms issues   334    0.066840         23\n",
       "7               Web Evidence   809    0.161897         57"
      ]
     },
     "execution_count": 45,
     "metadata": {},
     "output_type": "execute_result"
    }
   ],
   "source": [
    "groups"
   ]
  },
  {
   "cell_type": "code",
   "execution_count": 46,
   "metadata": {},
   "outputs": [],
   "source": [
    "stratums = table_augmented.groupby('stratum').count()['url'].reset_index()\n",
    "stratums['proportion'] = stratums.url/stratums.url.sum()\n",
    "stratums['selection'] = [int(i) for i in stratums.proportion*sample_size]"
   ]
  },
  {
   "cell_type": "code",
   "execution_count": 47,
   "metadata": {},
   "outputs": [
    {
     "data": {
      "text/html": [
       "<div>\n",
       "<style scoped>\n",
       "    .dataframe tbody tr th:only-of-type {\n",
       "        vertical-align: middle;\n",
       "    }\n",
       "\n",
       "    .dataframe tbody tr th {\n",
       "        vertical-align: top;\n",
       "    }\n",
       "\n",
       "    .dataframe thead th {\n",
       "        text-align: right;\n",
       "    }\n",
       "</style>\n",
       "<table border=\"1\" class=\"dataframe\">\n",
       "  <thead>\n",
       "    <tr style=\"text-align: right;\">\n",
       "      <th></th>\n",
       "      <th>stratum</th>\n",
       "      <th>url</th>\n",
       "      <th>proportion</th>\n",
       "      <th>selection</th>\n",
       "    </tr>\n",
       "  </thead>\n",
       "  <tbody>\n",
       "    <tr>\n",
       "      <th>0</th>\n",
       "      <td>Arxiv - Advertising</td>\n",
       "      <td>493</td>\n",
       "      <td>0.098659</td>\n",
       "      <td>35</td>\n",
       "    </tr>\n",
       "    <tr>\n",
       "      <th>1</th>\n",
       "      <td>Arxiv - Compliance</td>\n",
       "      <td>140</td>\n",
       "      <td>0.028017</td>\n",
       "      <td>10</td>\n",
       "    </tr>\n",
       "    <tr>\n",
       "      <th>2</th>\n",
       "      <td>Arxiv - Dark Patterns</td>\n",
       "      <td>304</td>\n",
       "      <td>0.060837</td>\n",
       "      <td>21</td>\n",
       "    </tr>\n",
       "    <tr>\n",
       "      <th>3</th>\n",
       "      <td>Arxiv - Geoblocking</td>\n",
       "      <td>147</td>\n",
       "      <td>0.029418</td>\n",
       "      <td>10</td>\n",
       "    </tr>\n",
       "    <tr>\n",
       "      <th>4</th>\n",
       "      <td>Arxiv - Price Transparency Issues</td>\n",
       "      <td>146</td>\n",
       "      <td>0.029218</td>\n",
       "      <td>10</td>\n",
       "    </tr>\n",
       "    <tr>\n",
       "      <th>5</th>\n",
       "      <td>Arxiv - Scam (Online Fraud)</td>\n",
       "      <td>392</td>\n",
       "      <td>0.078447</td>\n",
       "      <td>28</td>\n",
       "    </tr>\n",
       "    <tr>\n",
       "      <th>6</th>\n",
       "      <td>Arxiv - Unfair terms issues</td>\n",
       "      <td>126</td>\n",
       "      <td>0.025215</td>\n",
       "      <td>9</td>\n",
       "    </tr>\n",
       "    <tr>\n",
       "      <th>7</th>\n",
       "      <td>Arxiv - Web Evidence</td>\n",
       "      <td>228</td>\n",
       "      <td>0.045627</td>\n",
       "      <td>16</td>\n",
       "    </tr>\n",
       "    <tr>\n",
       "      <th>8</th>\n",
       "      <td>DBLP - Advertising</td>\n",
       "      <td>375</td>\n",
       "      <td>0.075045</td>\n",
       "      <td>26</td>\n",
       "    </tr>\n",
       "    <tr>\n",
       "      <th>9</th>\n",
       "      <td>DBLP - Compliance</td>\n",
       "      <td>74</td>\n",
       "      <td>0.014809</td>\n",
       "      <td>5</td>\n",
       "    </tr>\n",
       "    <tr>\n",
       "      <th>10</th>\n",
       "      <td>DBLP - Dark Patterns</td>\n",
       "      <td>6</td>\n",
       "      <td>0.001201</td>\n",
       "      <td>0</td>\n",
       "    </tr>\n",
       "    <tr>\n",
       "      <th>11</th>\n",
       "      <td>DBLP - Geoblocking</td>\n",
       "      <td>79</td>\n",
       "      <td>0.015809</td>\n",
       "      <td>5</td>\n",
       "    </tr>\n",
       "    <tr>\n",
       "      <th>12</th>\n",
       "      <td>DBLP - Price Transparency Issues</td>\n",
       "      <td>82</td>\n",
       "      <td>0.016410</td>\n",
       "      <td>5</td>\n",
       "    </tr>\n",
       "    <tr>\n",
       "      <th>13</th>\n",
       "      <td>DBLP - Scam (Online Fraud)</td>\n",
       "      <td>194</td>\n",
       "      <td>0.038823</td>\n",
       "      <td>13</td>\n",
       "    </tr>\n",
       "    <tr>\n",
       "      <th>14</th>\n",
       "      <td>DBLP - Unfair terms issues</td>\n",
       "      <td>81</td>\n",
       "      <td>0.016210</td>\n",
       "      <td>5</td>\n",
       "    </tr>\n",
       "    <tr>\n",
       "      <th>15</th>\n",
       "      <td>DBLP - Web Evidence</td>\n",
       "      <td>167</td>\n",
       "      <td>0.033420</td>\n",
       "      <td>11</td>\n",
       "    </tr>\n",
       "    <tr>\n",
       "      <th>16</th>\n",
       "      <td>EU Patents Database - Advertising</td>\n",
       "      <td>243</td>\n",
       "      <td>0.048629</td>\n",
       "      <td>17</td>\n",
       "    </tr>\n",
       "    <tr>\n",
       "      <th>17</th>\n",
       "      <td>EU Patents Database - Compliance</td>\n",
       "      <td>8</td>\n",
       "      <td>0.001601</td>\n",
       "      <td>0</td>\n",
       "    </tr>\n",
       "    <tr>\n",
       "      <th>18</th>\n",
       "      <td>EU Patents Database - Price Transparency Issues</td>\n",
       "      <td>1</td>\n",
       "      <td>0.000200</td>\n",
       "      <td>0</td>\n",
       "    </tr>\n",
       "    <tr>\n",
       "      <th>19</th>\n",
       "      <td>EU Patents Database - Scam (Online Fraud)</td>\n",
       "      <td>150</td>\n",
       "      <td>0.030018</td>\n",
       "      <td>10</td>\n",
       "    </tr>\n",
       "    <tr>\n",
       "      <th>20</th>\n",
       "      <td>EU Patents Database - Unfair terms issues</td>\n",
       "      <td>17</td>\n",
       "      <td>0.003402</td>\n",
       "      <td>1</td>\n",
       "    </tr>\n",
       "    <tr>\n",
       "      <th>21</th>\n",
       "      <td>Github - Web Evidence</td>\n",
       "      <td>332</td>\n",
       "      <td>0.066440</td>\n",
       "      <td>23</td>\n",
       "    </tr>\n",
       "    <tr>\n",
       "      <th>22</th>\n",
       "      <td>Gitlab - Advertising</td>\n",
       "      <td>140</td>\n",
       "      <td>0.028017</td>\n",
       "      <td>10</td>\n",
       "    </tr>\n",
       "    <tr>\n",
       "      <th>23</th>\n",
       "      <td>Gitlab - Compliance</td>\n",
       "      <td>12</td>\n",
       "      <td>0.002401</td>\n",
       "      <td>0</td>\n",
       "    </tr>\n",
       "    <tr>\n",
       "      <th>24</th>\n",
       "      <td>Gitlab - Dark Patterns</td>\n",
       "      <td>38</td>\n",
       "      <td>0.007605</td>\n",
       "      <td>2</td>\n",
       "    </tr>\n",
       "    <tr>\n",
       "      <th>25</th>\n",
       "      <td>Gitlab - Geoblocking</td>\n",
       "      <td>51</td>\n",
       "      <td>0.010206</td>\n",
       "      <td>3</td>\n",
       "    </tr>\n",
       "    <tr>\n",
       "      <th>26</th>\n",
       "      <td>Gitlab - Price Transparency Issues</td>\n",
       "      <td>2</td>\n",
       "      <td>0.000400</td>\n",
       "      <td>0</td>\n",
       "    </tr>\n",
       "    <tr>\n",
       "      <th>27</th>\n",
       "      <td>Gitlab - Scam (Online Fraud)</td>\n",
       "      <td>35</td>\n",
       "      <td>0.007004</td>\n",
       "      <td>2</td>\n",
       "    </tr>\n",
       "    <tr>\n",
       "      <th>28</th>\n",
       "      <td>Gitlab - Unfair terms issues</td>\n",
       "      <td>21</td>\n",
       "      <td>0.004203</td>\n",
       "      <td>1</td>\n",
       "    </tr>\n",
       "    <tr>\n",
       "      <th>29</th>\n",
       "      <td>Gitlab - Web Evidence</td>\n",
       "      <td>82</td>\n",
       "      <td>0.016410</td>\n",
       "      <td>5</td>\n",
       "    </tr>\n",
       "    <tr>\n",
       "      <th>30</th>\n",
       "      <td>Google play - Advertising</td>\n",
       "      <td>210</td>\n",
       "      <td>0.042025</td>\n",
       "      <td>15</td>\n",
       "    </tr>\n",
       "    <tr>\n",
       "      <th>31</th>\n",
       "      <td>Google play - Compliance</td>\n",
       "      <td>30</td>\n",
       "      <td>0.006004</td>\n",
       "      <td>2</td>\n",
       "    </tr>\n",
       "    <tr>\n",
       "      <th>32</th>\n",
       "      <td>Google play - Geoblocking</td>\n",
       "      <td>10</td>\n",
       "      <td>0.002001</td>\n",
       "      <td>0</td>\n",
       "    </tr>\n",
       "    <tr>\n",
       "      <th>33</th>\n",
       "      <td>Google play - Scam (Online Fraud)</td>\n",
       "      <td>112</td>\n",
       "      <td>0.022413</td>\n",
       "      <td>8</td>\n",
       "    </tr>\n",
       "    <tr>\n",
       "      <th>34</th>\n",
       "      <td>Google play - Unfair terms issues</td>\n",
       "      <td>51</td>\n",
       "      <td>0.010206</td>\n",
       "      <td>3</td>\n",
       "    </tr>\n",
       "    <tr>\n",
       "      <th>35</th>\n",
       "      <td>Google scholar - Advertising</td>\n",
       "      <td>186</td>\n",
       "      <td>0.037222</td>\n",
       "      <td>13</td>\n",
       "    </tr>\n",
       "    <tr>\n",
       "      <th>36</th>\n",
       "      <td>Google scholar - Compliance</td>\n",
       "      <td>20</td>\n",
       "      <td>0.004002</td>\n",
       "      <td>1</td>\n",
       "    </tr>\n",
       "    <tr>\n",
       "      <th>37</th>\n",
       "      <td>Google scholar - Geoblocking</td>\n",
       "      <td>18</td>\n",
       "      <td>0.003602</td>\n",
       "      <td>1</td>\n",
       "    </tr>\n",
       "    <tr>\n",
       "      <th>38</th>\n",
       "      <td>Google scholar - Price Transparency Issues</td>\n",
       "      <td>54</td>\n",
       "      <td>0.010806</td>\n",
       "      <td>3</td>\n",
       "    </tr>\n",
       "    <tr>\n",
       "      <th>39</th>\n",
       "      <td>Google scholar - Scam (Online Fraud)</td>\n",
       "      <td>102</td>\n",
       "      <td>0.020412</td>\n",
       "      <td>7</td>\n",
       "    </tr>\n",
       "    <tr>\n",
       "      <th>40</th>\n",
       "      <td>Google scholar - Unfair terms issues</td>\n",
       "      <td>38</td>\n",
       "      <td>0.007605</td>\n",
       "      <td>2</td>\n",
       "    </tr>\n",
       "  </tbody>\n",
       "</table>\n",
       "</div>"
      ],
      "text/plain": [
       "                                            stratum  url  proportion  \\\n",
       "0                               Arxiv - Advertising  493    0.098659   \n",
       "1                                Arxiv - Compliance  140    0.028017   \n",
       "2                             Arxiv - Dark Patterns  304    0.060837   \n",
       "3                               Arxiv - Geoblocking  147    0.029418   \n",
       "4                 Arxiv - Price Transparency Issues  146    0.029218   \n",
       "5                       Arxiv - Scam (Online Fraud)  392    0.078447   \n",
       "6                       Arxiv - Unfair terms issues  126    0.025215   \n",
       "7                              Arxiv - Web Evidence  228    0.045627   \n",
       "8                                DBLP - Advertising  375    0.075045   \n",
       "9                                 DBLP - Compliance   74    0.014809   \n",
       "10                             DBLP - Dark Patterns    6    0.001201   \n",
       "11                               DBLP - Geoblocking   79    0.015809   \n",
       "12                 DBLP - Price Transparency Issues   82    0.016410   \n",
       "13                       DBLP - Scam (Online Fraud)  194    0.038823   \n",
       "14                       DBLP - Unfair terms issues   81    0.016210   \n",
       "15                              DBLP - Web Evidence  167    0.033420   \n",
       "16                EU Patents Database - Advertising  243    0.048629   \n",
       "17                 EU Patents Database - Compliance    8    0.001601   \n",
       "18  EU Patents Database - Price Transparency Issues    1    0.000200   \n",
       "19        EU Patents Database - Scam (Online Fraud)  150    0.030018   \n",
       "20        EU Patents Database - Unfair terms issues   17    0.003402   \n",
       "21                            Github - Web Evidence  332    0.066440   \n",
       "22                             Gitlab - Advertising  140    0.028017   \n",
       "23                              Gitlab - Compliance   12    0.002401   \n",
       "24                           Gitlab - Dark Patterns   38    0.007605   \n",
       "25                             Gitlab - Geoblocking   51    0.010206   \n",
       "26               Gitlab - Price Transparency Issues    2    0.000400   \n",
       "27                     Gitlab - Scam (Online Fraud)   35    0.007004   \n",
       "28                     Gitlab - Unfair terms issues   21    0.004203   \n",
       "29                            Gitlab - Web Evidence   82    0.016410   \n",
       "30                        Google play - Advertising  210    0.042025   \n",
       "31                         Google play - Compliance   30    0.006004   \n",
       "32                        Google play - Geoblocking   10    0.002001   \n",
       "33                Google play - Scam (Online Fraud)  112    0.022413   \n",
       "34                Google play - Unfair terms issues   51    0.010206   \n",
       "35                     Google scholar - Advertising  186    0.037222   \n",
       "36                      Google scholar - Compliance   20    0.004002   \n",
       "37                     Google scholar - Geoblocking   18    0.003602   \n",
       "38       Google scholar - Price Transparency Issues   54    0.010806   \n",
       "39             Google scholar - Scam (Online Fraud)  102    0.020412   \n",
       "40             Google scholar - Unfair terms issues   38    0.007605   \n",
       "\n",
       "    selection  \n",
       "0          35  \n",
       "1          10  \n",
       "2          21  \n",
       "3          10  \n",
       "4          10  \n",
       "5          28  \n",
       "6           9  \n",
       "7          16  \n",
       "8          26  \n",
       "9           5  \n",
       "10          0  \n",
       "11          5  \n",
       "12          5  \n",
       "13         13  \n",
       "14          5  \n",
       "15         11  \n",
       "16         17  \n",
       "17          0  \n",
       "18          0  \n",
       "19         10  \n",
       "20          1  \n",
       "21         23  \n",
       "22         10  \n",
       "23          0  \n",
       "24          2  \n",
       "25          3  \n",
       "26          0  \n",
       "27          2  \n",
       "28          1  \n",
       "29          5  \n",
       "30         15  \n",
       "31          2  \n",
       "32          0  \n",
       "33          8  \n",
       "34          3  \n",
       "35         13  \n",
       "36          1  \n",
       "37          1  \n",
       "38          3  \n",
       "39          7  \n",
       "40          2  "
      ]
     },
     "execution_count": 47,
     "metadata": {},
     "output_type": "execute_result"
    }
   ],
   "source": [
    "stratums"
   ]
  },
  {
   "cell_type": "code",
   "execution_count": 48,
   "metadata": {},
   "outputs": [],
   "source": [
    "np.random.seed(32)\n",
    "matrix = []\n",
    "for source in stratums.stratum:\n",
    "    range_group = table_augmented[table_augmented.stratum == str(source)].index\n",
    "    selection = stratums[stratums.stratum == str(source)].selection.values[0]\n",
    "    #print(source, ' ', selection)\n",
    "    group_sample = list(np.random.choice(range_group, selection))\n",
    "    matrix.append(group_sample)\n",
    "stratified_sample = sorted(set([item for sublist in matrix for item in sublist]))"
   ]
  },
  {
   "cell_type": "code",
   "execution_count": 49,
   "metadata": {},
   "outputs": [],
   "source": [
    "table_augmented['first_sample'] = [1 if i in stratified_sample else 0 for i in table_augmented.index]        "
   ]
  },
  {
   "cell_type": "code",
   "execution_count": 50,
   "metadata": {},
   "outputs": [
    {
     "data": {
      "text/plain": [
       "329"
      ]
     },
     "execution_count": 50,
     "metadata": {},
     "output_type": "execute_result"
    }
   ],
   "source": [
    "table_augmented['first_sample'].sum()"
   ]
  },
  {
   "cell_type": "code",
   "execution_count": 51,
   "metadata": {},
   "outputs": [],
   "source": [
    "#these are going to be excluded in the nex round of sam[ling]\n",
    "index_first_sample = table_augmented[table_augmented['first_sample'] == 1].index"
   ]
  },
  {
   "cell_type": "code",
   "execution_count": 52,
   "metadata": {},
   "outputs": [
    {
     "data": {
      "text/plain": [
       "Int64Index([   6,    7,   30,   38,   41,   48,   53,   58,   59,   62,\n",
       "            ...\n",
       "            4888, 4910, 4925, 4940, 4950, 4971, 4974, 4982, 4987, 4996],\n",
       "           dtype='int64', length=329)"
      ]
     },
     "execution_count": 52,
     "metadata": {},
     "output_type": "execute_result"
    }
   ],
   "source": [
    "index_first_sample"
   ]
  },
  {
   "cell_type": "markdown",
   "metadata": {},
   "source": [
    "---"
   ]
  },
  {
   "cell_type": "code",
   "execution_count": 53,
   "metadata": {},
   "outputs": [
    {
     "data": {
      "text/plain": [
       "<Worksheet 'clean_database' id:1326443644>"
      ]
     },
     "execution_count": 53,
     "metadata": {},
     "output_type": "execute_result"
    }
   ],
   "source": [
    "wks_name = 'clean_database'\n",
    "d2g.upload(table_augmented, spreadsheet_key, wks_name, credentials=credentials, row_names=False)"
   ]
  },
  {
   "cell_type": "code",
   "execution_count": 54,
   "metadata": {},
   "outputs": [],
   "source": [
    "#d2g.upload(table_augmented[['topic','source']].drop_duplicates(subset ='topic'), spreadsheet_key,\n",
    "#           'terms', credentials=credentials, row_names=False)"
   ]
  },
  {
   "cell_type": "code",
   "execution_count": 55,
   "metadata": {},
   "outputs": [
    {
     "data": {
      "text/plain": [
       "5004"
      ]
     },
     "execution_count": 55,
     "metadata": {},
     "output_type": "execute_result"
    }
   ],
   "source": [
    "len(table_augmented)"
   ]
  },
  {
   "cell_type": "code",
   "execution_count": null,
   "metadata": {},
   "outputs": [],
   "source": []
  }
 ],
 "metadata": {
  "kernelspec": {
   "display_name": "Python 3",
   "language": "python",
   "name": "python3"
  },
  "language_info": {
   "codemirror_mode": {
    "name": "ipython",
    "version": 3
   },
   "file_extension": ".py",
   "mimetype": "text/x-python",
   "name": "python",
   "nbconvert_exporter": "python",
   "pygments_lexer": "ipython3",
   "version": "3.7.3"
  }
 },
 "nbformat": 4,
 "nbformat_minor": 2
}
