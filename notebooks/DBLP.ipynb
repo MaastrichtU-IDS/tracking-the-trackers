{
 "cells": [
  {
   "cell_type": "code",
   "execution_count": 3,
   "metadata": {},
   "outputs": [],
   "source": [
    "# DBLP: https://dblp.uni-trier.de/\n",
    "import requests\n",
    "import json\n",
    "import csv\n",
    "\n",
    "results = []\n",
    "searchterms = ['ai consumer fraud online','online shopping fraud','online shopping law enforcement','online law enforcement','e-commerce fraud','e-commerce fraud pricing',\n",
    "'fake review detection','consumer profiling algorithm','price discrimination algorithm','algorithm detect unfair pricing website','detecting e-commerce',\n",
    "'cookie tracking','cookie monitoring','website tracking','website monitoring','illegal advertising','false advertising','misleading advertising',\n",
    "'unfair terms','web accessibility','identity protection','web beacon','geoblocking','consumer protection']\n",
    "\n",
    "for item in searchterms:    \n",
    "    response = requests.get('http://dblp.org/search/publ/api', params={'q' : item, 'format' : 'json', 'h' : '30'}, cookies=None, auth=None, timeout=None)\n",
    "    jsonresult = json.loads(response.text)\n",
    "    \n",
    "    numhits = jsonresult['result']['hits']['@total'] \n",
    "    if numhits != '0':\n",
    "        hits = jsonresult['result']['hits']['hit'] \n",
    "        for paper in hits:\n",
    "            if 'ee' in paper['info']:\n",
    "                if (paper['info']['ee'] != ''):\n",
    "                    currentresult = []\n",
    "                    currentresult.append(paper['info']['ee'])\n",
    "                    currentresult.append(paper['info']['title'])\n",
    "                    currentresult.append(item)\n",
    "                    results.append(currentresult)\n",
    "\n",
    "with open('DBLP_results.csv', 'w', newline='',encoding='utf-8') as writeFile:\n",
    "    writer = csv.writer(writeFile)\n",
    "    writer.writerows(results)"
   ]
  },
  {
   "cell_type": "code",
   "execution_count": null,
   "metadata": {},
   "outputs": [],
   "source": []
  }
 ],
 "metadata": {
  "kernelspec": {
   "display_name": "Python 3",
   "language": "python",
   "name": "python3"
  },
  "language_info": {
   "codemirror_mode": {
    "name": "ipython",
    "version": 3
   },
   "file_extension": ".py",
   "mimetype": "text/x-python",
   "name": "python",
   "nbconvert_exporter": "python",
   "pygments_lexer": "ipython3",
   "version": "3.6.7"
  }
 },
 "nbformat": 4,
 "nbformat_minor": 4
}
