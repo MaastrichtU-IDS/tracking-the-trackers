{
 "cells": [
  {
   "cell_type": "code",
   "execution_count": 1,
   "metadata": {},
   "outputs": [
    {
     "name": "stdout",
     "output_type": "stream",
     "text": [
      "Elapsed time: 00:00:21\n"
     ]
    }
   ],
   "source": [
    "# DBLP: https://dblp.uni-trier.de/\n",
    "import requests\n",
    "import json\n",
    "import csv\n",
    "import time\n",
    "import pandas as pd\n",
    "\n",
    "### Time of execution\n",
    "start = time.time()\n",
    "\n",
    "catalogue = pd.read_csv('catalogue.csv')\n",
    "catalogue.fillna(method='ffill', inplace = True)\n",
    "searchterms = list(catalogue.keywords)\n",
    "\n",
    "results = []\n",
    "for item in searchterms:    \n",
    "    response = requests.get('http://dblp.org/search/publ/api', params={'q' : item, 'format' : 'json', 'h' : '40'}, cookies=None, auth=None, timeout=None)\n",
    "    jsonresult = json.loads(response.text)\n",
    "    \n",
    "    numhits = jsonresult['result']['hits']['@total'] \n",
    "    if numhits != '0':\n",
    "        hits = jsonresult['result']['hits']['hit'] \n",
    "        for paper in hits:\n",
    "            if 'ee' in paper['info']:\n",
    "                if (paper['info']['ee'] != ''):\n",
    "                    currentresult = []\n",
    "                    currentresult.append(paper['info']['ee'])\n",
    "                    currentresult.append(paper['info']['title'])\n",
    "                    currentresult.append(item)\n",
    "                    results.append(currentresult)\n",
    "\n",
    "with open('../datasets/DBLP_results.csv', 'w', newline='',encoding='utf-8') as writeFile:\n",
    "    writer = csv.writer(writeFile)\n",
    "    writer.writerows(results)\n",
    "\n",
    "end = time.time()\n",
    "print('Elapsed time: {}'.format(time.strftime(\"%H:%M:%S\", time.gmtime(end - start))))"
   ]
  },
  {
   "cell_type": "code",
   "execution_count": null,
   "metadata": {},
   "outputs": [],
   "source": []
  }
 ],
 "metadata": {
  "kernelspec": {
   "display_name": "Python 3",
   "language": "python",
   "name": "python3"
  },
  "language_info": {
   "codemirror_mode": {
    "name": "ipython",
    "version": 3
   },
   "file_extension": ".py",
   "mimetype": "text/x-python",
   "name": "python",
   "nbconvert_exporter": "python",
   "pygments_lexer": "ipython3",
   "version": "3.7.3"
  }
 },
 "nbformat": 4,
 "nbformat_minor": 4
}
