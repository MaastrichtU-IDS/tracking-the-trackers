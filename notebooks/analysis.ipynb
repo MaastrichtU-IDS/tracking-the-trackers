{
 "cells": [
  {
   "cell_type": "markdown",
   "metadata": {},
   "source": [
    "## Preliminary Results"
   ]
  },
  {
   "cell_type": "code",
   "execution_count": 1,
   "metadata": {},
   "outputs": [],
   "source": [
    "from oauth2client.service_account import ServiceAccountCredentials\n",
    "from df2gspread import df2gspread as d2g\n",
    "from pandas.io.json import json_normalize\n",
    "import pandas as pd\n",
    "import numpy as np\n",
    "import gspread\n",
    "import warnings\n",
    "warnings.filterwarnings(\"ignore\")"
   ]
  },
  {
   "cell_type": "markdown",
   "metadata": {},
   "source": [
    "---\n",
    "### Connect to table"
   ]
  },
  {
   "cell_type": "code",
   "execution_count": 2,
   "metadata": {},
   "outputs": [],
   "source": [
    "## Connect to our service account\n",
    "project = 'API-Project-73a06f99e859.json'\n",
    "scope = ['https://spreadsheets.google.com/feeds']\n",
    "credentials = ServiceAccountCredentials.from_json_keyfile_name(project, scope)\n",
    "gc = gspread.authorize(credentials)"
   ]
  },
  {
   "cell_type": "code",
   "execution_count": 3,
   "metadata": {},
   "outputs": [],
   "source": [
    "spreadsheet_key = '1d083PFuyFRXtweoyHNtHDuAIUsBZNlLKBlA9QWYLtfI'\n",
    "book = gc.open_by_key(spreadsheet_key)\n",
    "\n",
    "data = book.worksheet('web_extraction').get_all_values()\n",
    "web_extraction = pd.DataFrame(data[1:], columns=data[0])\n",
    "data = book.worksheet('manual_search').get_all_values()\n",
    "manual_search = pd.DataFrame(data[1:], columns=data[0])\n",
    "data = book.worksheet('external_sources').get_all_values()\n",
    "external_sources = pd.DataFrame(data[1:], columns=data[0])\n",
    "data = book.worksheet('questionnaires').get_all_values()\n",
    "questionnaires = pd.DataFrame(data[1:], columns=data[0])"
   ]
  },
  {
   "cell_type": "code",
   "execution_count": 4,
   "metadata": {},
   "outputs": [],
   "source": [
    "web_extraction = web_extraction[['name', 'url', 'description', 'topic', 'group', 'method', 'source',\n",
    "       'source_type', 'relevant', 'small description']]"
   ]
  },
  {
   "cell_type": "code",
   "execution_count": 5,
   "metadata": {},
   "outputs": [],
   "source": [
    "table = pd.DataFrame()\n",
    "table = table.append(web_extraction)\n",
    "table = table.append(manual_search)\n",
    "table = table.append(external_sources)\n",
    "table = table.append(questionnaires)"
   ]
  },
  {
   "cell_type": "code",
   "execution_count": 22,
   "metadata": {},
   "outputs": [
    {
     "name": "stdout",
     "output_type": "stream",
     "text": [
      "Total number of relevant tools: 156\n",
      "\n",
      "Web extraction and sample open databases: 91\n",
      "Manual extraction private databases: 15\n",
      "External Sources and desk search: 30\n",
      "Consumer agencies responses: 20\n"
     ]
    }
   ],
   "source": [
    "n1 = len(web_extraction[web_extraction['relevant']=='YES'])\n",
    "n2 = len(manual_search[manual_search['relevant']=='YES'])\n",
    "n3 = len(external_sources[external_sources['relevant']=='YES'])\n",
    "n4 = len(questionnaires[questionnaires['relevant']=='YES'])\n",
    "print('Total number of relevant tools: {}\\n\\nWeb extraction and sample open databases: {}\\nManual extraction private databases: {}\\nExternal Sources and desk search: {}\\nConsumer agencies responses: {}'.format(n1+n2+n3+n4,n1, n2, n3, n4))\n"
   ]
  },
  {
   "cell_type": "code",
   "execution_count": 6,
   "metadata": {},
   "outputs": [
    {
     "data": {
      "text/plain": [
       "Index(['name', 'url', 'description', 'topic', 'group', 'method', 'source',\n",
       "       'source_type', 'relevant', 'small description'],\n",
       "      dtype='object')"
      ]
     },
     "execution_count": 6,
     "metadata": {},
     "output_type": "execute_result"
    }
   ],
   "source": [
    "table.columns"
   ]
  },
  {
   "cell_type": "code",
   "execution_count": 7,
   "metadata": {},
   "outputs": [],
   "source": [
    "relevat_tools = table[table['relevant']=='YES']"
   ]
  },
  {
   "cell_type": "code",
   "execution_count": 8,
   "metadata": {},
   "outputs": [
    {
     "data": {
      "text/plain": [
       "156"
      ]
     },
     "execution_count": 8,
     "metadata": {},
     "output_type": "execute_result"
    }
   ],
   "source": [
    "len(relevat_tools)"
   ]
  },
  {
   "cell_type": "code",
   "execution_count": 12,
   "metadata": {},
   "outputs": [
    {
     "data": {
      "text/html": [
       "<div>\n",
       "<style scoped>\n",
       "    .dataframe tbody tr th:only-of-type {\n",
       "        vertical-align: middle;\n",
       "    }\n",
       "\n",
       "    .dataframe tbody tr th {\n",
       "        vertical-align: top;\n",
       "    }\n",
       "\n",
       "    .dataframe thead th {\n",
       "        text-align: right;\n",
       "    }\n",
       "</style>\n",
       "<table border=\"1\" class=\"dataframe\">\n",
       "  <thead>\n",
       "    <tr style=\"text-align: right;\">\n",
       "      <th></th>\n",
       "      <th>group</th>\n",
       "      <th>topic</th>\n",
       "      <th>url</th>\n",
       "    </tr>\n",
       "  </thead>\n",
       "  <tbody>\n",
       "    <tr>\n",
       "      <th>0</th>\n",
       "      <td>Advertising</td>\n",
       "      <td>Behavioural tracking</td>\n",
       "      <td>20</td>\n",
       "    </tr>\n",
       "    <tr>\n",
       "      <th>1</th>\n",
       "      <td>Scam (Online Fraud)</td>\n",
       "      <td>General scam &amp; Pishing</td>\n",
       "      <td>18</td>\n",
       "    </tr>\n",
       "    <tr>\n",
       "      <th>2</th>\n",
       "      <td>Advertising</td>\n",
       "      <td>Fake reviews</td>\n",
       "      <td>15</td>\n",
       "    </tr>\n",
       "    <tr>\n",
       "      <th>3</th>\n",
       "      <td>Web Evidence</td>\n",
       "      <td>Internet snaps and internet archives</td>\n",
       "      <td>13</td>\n",
       "    </tr>\n",
       "    <tr>\n",
       "      <th>4</th>\n",
       "      <td>Web Evidence</td>\n",
       "      <td>Domain registries</td>\n",
       "      <td>11</td>\n",
       "    </tr>\n",
       "    <tr>\n",
       "      <th>5</th>\n",
       "      <td>Advertising</td>\n",
       "      <td>Misleading advertising</td>\n",
       "      <td>9</td>\n",
       "    </tr>\n",
       "    <tr>\n",
       "      <th>6</th>\n",
       "      <td>Advertising</td>\n",
       "      <td>Online trackers</td>\n",
       "      <td>8</td>\n",
       "    </tr>\n",
       "    <tr>\n",
       "      <th>7</th>\n",
       "      <td>Geoblocking</td>\n",
       "      <td>VPN</td>\n",
       "      <td>7</td>\n",
       "    </tr>\n",
       "    <tr>\n",
       "      <th>8</th>\n",
       "      <td>Advertising</td>\n",
       "      <td>Web beacon tracker</td>\n",
       "      <td>6</td>\n",
       "    </tr>\n",
       "    <tr>\n",
       "      <th>9</th>\n",
       "      <td>Compliance</td>\n",
       "      <td>Failure of Web accessibility</td>\n",
       "      <td>6</td>\n",
       "    </tr>\n",
       "    <tr>\n",
       "      <th>10</th>\n",
       "      <td>Price Transparency Issues</td>\n",
       "      <td>Price discrimination</td>\n",
       "      <td>5</td>\n",
       "    </tr>\n",
       "    <tr>\n",
       "      <th>11</th>\n",
       "      <td>Scam (Online Fraud)</td>\n",
       "      <td>Identity Theft</td>\n",
       "      <td>5</td>\n",
       "    </tr>\n",
       "    <tr>\n",
       "      <th>12</th>\n",
       "      <td>Scam (Online Fraud)</td>\n",
       "      <td>Financial online fraud</td>\n",
       "      <td>5</td>\n",
       "    </tr>\n",
       "    <tr>\n",
       "      <th>13</th>\n",
       "      <td>Compliance</td>\n",
       "      <td>Compliance and obligations</td>\n",
       "      <td>4</td>\n",
       "    </tr>\n",
       "    <tr>\n",
       "      <th>14</th>\n",
       "      <td>Advertising</td>\n",
       "      <td>HTTP Cookies</td>\n",
       "      <td>4</td>\n",
       "    </tr>\n",
       "    <tr>\n",
       "      <th>15</th>\n",
       "      <td>Geoblocking</td>\n",
       "      <td>Geoblocking</td>\n",
       "      <td>4</td>\n",
       "    </tr>\n",
       "    <tr>\n",
       "      <th>16</th>\n",
       "      <td>Consumer complaints</td>\n",
       "      <td>Consumer complaints</td>\n",
       "      <td>3</td>\n",
       "    </tr>\n",
       "    <tr>\n",
       "      <th>17</th>\n",
       "      <td>Advertising</td>\n",
       "      <td>Social media issues</td>\n",
       "      <td>3</td>\n",
       "    </tr>\n",
       "    <tr>\n",
       "      <th>18</th>\n",
       "      <td>Digital Investigations</td>\n",
       "      <td>Digital Investigations</td>\n",
       "      <td>2</td>\n",
       "    </tr>\n",
       "    <tr>\n",
       "      <th>19</th>\n",
       "      <td>Price Transparency Issues</td>\n",
       "      <td>Personal pricing</td>\n",
       "      <td>2</td>\n",
       "    </tr>\n",
       "    <tr>\n",
       "      <th>20</th>\n",
       "      <td>Dark Patterns</td>\n",
       "      <td>Dark Patterns</td>\n",
       "      <td>2</td>\n",
       "    </tr>\n",
       "    <tr>\n",
       "      <th>21</th>\n",
       "      <td>Dark Patterns</td>\n",
       "      <td>Social proof</td>\n",
       "      <td>1</td>\n",
       "    </tr>\n",
       "    <tr>\n",
       "      <th>22</th>\n",
       "      <td>Dark Patterns</td>\n",
       "      <td>Forced Action</td>\n",
       "      <td>1</td>\n",
       "    </tr>\n",
       "    <tr>\n",
       "      <th>23</th>\n",
       "      <td>Unfair terms issues</td>\n",
       "      <td>General terms and conditions</td>\n",
       "      <td>1</td>\n",
       "    </tr>\n",
       "    <tr>\n",
       "      <th>24</th>\n",
       "      <td>Dark Patterns</td>\n",
       "      <td>Scarcity</td>\n",
       "      <td>1</td>\n",
       "    </tr>\n",
       "  </tbody>\n",
       "</table>\n",
       "</div>"
      ],
      "text/plain": [
       "                        group                                 topic  url\n",
       "0                 Advertising                  Behavioural tracking   20\n",
       "1         Scam (Online Fraud)                General scam & Pishing   18\n",
       "2                 Advertising                          Fake reviews   15\n",
       "3                Web Evidence  Internet snaps and internet archives   13\n",
       "4                Web Evidence                     Domain registries   11\n",
       "5                 Advertising               Misleading advertising     9\n",
       "6                 Advertising                       Online trackers    8\n",
       "7                 Geoblocking                                   VPN    7\n",
       "8                 Advertising                    Web beacon tracker    6\n",
       "9                  Compliance          Failure of Web accessibility    6\n",
       "10  Price Transparency Issues                  Price discrimination    5\n",
       "11        Scam (Online Fraud)                        Identity Theft    5\n",
       "12        Scam (Online Fraud)                Financial online fraud    5\n",
       "13                 Compliance            Compliance and obligations    4\n",
       "14                Advertising                          HTTP Cookies    4\n",
       "15                Geoblocking                           Geoblocking    4\n",
       "16        Consumer complaints                   Consumer complaints    3\n",
       "17                Advertising                   Social media issues    3\n",
       "18     Digital Investigations                Digital Investigations    2\n",
       "19  Price Transparency Issues                      Personal pricing    2\n",
       "20              Dark Patterns                         Dark Patterns    2\n",
       "21              Dark Patterns                          Social proof    1\n",
       "22              Dark Patterns                         Forced Action    1\n",
       "23        Unfair terms issues          General terms and conditions    1\n",
       "24              Dark Patterns                              Scarcity    1"
      ]
     },
     "execution_count": 12,
     "metadata": {},
     "output_type": "execute_result"
    }
   ],
   "source": [
    "relevat_tools\\\n",
    "    .groupby(['group','topic'])\\\n",
    "    .count()['url']\\\n",
    "    .reset_index()\\\n",
    "    .sort_values('url', ascending=False)\\\n",
    "    .reset_index(drop=True)\\"
   ]
  },
  {
   "cell_type": "code",
   "execution_count": 23,
   "metadata": {},
   "outputs": [],
   "source": [
    "# pd.pivot_table(\n",
    "#     relevat_tools,\n",
    "#     values=None,\n",
    "#     index='topic',\n",
    "#     columns='source_type',\n",
    "#     aggfunc='count',\n",
    "#     fill_value=0,\n",
    "#     margins=False,\n",
    "#     dropna=True,\n",
    "#     margins_name='All',\n",
    "# )['url'].to_csv('table.csv')"
   ]
  },
  {
   "cell_type": "code",
   "execution_count": null,
   "metadata": {},
   "outputs": [],
   "source": []
  }
 ],
 "metadata": {
  "kernelspec": {
   "display_name": "Python 3",
   "language": "python",
   "name": "python3"
  },
  "language_info": {
   "codemirror_mode": {
    "name": "ipython",
    "version": 3
   },
   "file_extension": ".py",
   "mimetype": "text/x-python",
   "name": "python",
   "nbconvert_exporter": "python",
   "pygments_lexer": "ipython3",
   "version": "3.7.3"
  }
 },
 "nbformat": 4,
 "nbformat_minor": 2
}
