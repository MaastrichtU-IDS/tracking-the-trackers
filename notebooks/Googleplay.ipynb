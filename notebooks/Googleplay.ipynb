{
 "cells": [
  {
   "cell_type": "code",
   "execution_count": 1,
   "metadata": {},
   "outputs": [],
   "source": [
    "# Google play: https://play.google.com/store\n",
    "import requests\n",
    "import json\n",
    "import csv\n",
    "\n",
    "results = []\n",
    "searchterms = ['ai consumer fraud online','online shopping fraud','online shopping law enforcement','online law enforcement','e-commerce fraud','e-commerce fraud pricing',\n",
    "'fake review detection','consumer profiling algorithm','price discrimination algorithm','algorithm detect unfair pricing website','detecting e-commerce',\n",
    "'cookie tracking','cookie monitoring','website tracking','website monitoring','illegal advertising','false advertising','misleading advertising',\n",
    "'unfair terms','web accessibility','identity protection','web beacon','geoblocking','consumer protection']\n",
    "\n",
    "for item in searchterms:\n",
    "    searchterm = item\n",
    "    response = requests.get('https://data.42matters.com/api/v2.0/android/apps/search.json', params={'access_token' : '280bcfa0c074800120aa5fc7289212b0f0eb353c',\n",
    "    'q' : item, 'include_desc' : 'true', 'limit' : '30'},cookies=None, auth=None, timeout=None)\n",
    "    \n",
    "    jsonresult = json.loads(response.text)\n",
    "    \n",
    "    for item in jsonresult['results']:\n",
    "        currentresult = []\n",
    "        currentresult.append(item['market_url'])\n",
    "        currentresult.append(item['description'])\n",
    "        currentresult.append(searchterm)\n",
    "        results.append(currentresult)\n",
    "\n",
    "with open('Googleplay_results.csv', 'w', newline='',encoding='utf-8') as writeFile:\n",
    "    writer = csv.writer(writeFile)\n",
    "    writer.writerows(results)"
   ]
  }
 ],
 "metadata": {
  "kernelspec": {
   "display_name": "Python 3",
   "language": "python",
   "name": "python3"
  },
  "language_info": {
   "codemirror_mode": {
    "name": "ipython",
    "version": 3
   },
   "file_extension": ".py",
   "mimetype": "text/x-python",
   "name": "python",
   "nbconvert_exporter": "python",
   "pygments_lexer": "ipython3",
   "version": "3.6.7"
  }
 },
 "nbformat": 4,
 "nbformat_minor": 4
}
