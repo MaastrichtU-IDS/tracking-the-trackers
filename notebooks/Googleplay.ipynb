{
 "cells": [
  {
   "cell_type": "code",
   "execution_count": null,
   "metadata": {},
   "outputs": [],
   "source": [
    "# Google play: https://play.google.com/store\n",
    "import requests\n",
    "import json\n",
    "import csv\n",
    "import time\n",
    "import pandas as pd\n",
    "\n",
    "### Time of execution\n",
    "start = time.time()\n",
    "\n",
    "catalogue = pd.read_csv('catalogue.csv')\n",
    "catalogue.fillna(method='ffill', inplace = True)\n",
    "searchterms = list(catalogue.keywords)\n",
    "\n",
    "results = []\n",
    "for item in searchterms:\n",
    "    searchterm = item\n",
    "    response = requests.get('https://data.42matters.com/api/v2.0/android/apps/search.json', params={'access_token' : '',\n",
    "    'q' : item, 'include_desc' : 'true', 'limit' : '30'},cookies=None, auth=None, timeout=None)\n",
    "    \n",
    "    jsonresult = json.loads(response.text)\n",
    "    print(jsonresult)\n",
    "    \n",
    "    for item in jsonresult['results']:\n",
    "        currentresult = []\n",
    "        currentresult.append(item['market_url'])\n",
    "        currentresult.append(item['description'])\n",
    "        currentresult.append(searchterm)\n",
    "        results.append(currentresult)\n",
    "\n",
    "with open('../datasets/Googleplay_results.csv', 'w', newline='',encoding='utf-8') as writeFile:\n",
    "    writer = csv.writer(writeFile)\n",
    "    writer.writerows(results)"
   ]
  },
  {
   "cell_type": "code",
   "execution_count": null,
   "metadata": {},
   "outputs": [],
   "source": []
  }
 ],
 "metadata": {
  "kernelspec": {
   "display_name": "Python 3",
   "language": "python",
   "name": "python3"
  },
  "language_info": {
   "codemirror_mode": {
    "name": "ipython",
    "version": 3
   },
   "file_extension": ".py",
   "mimetype": "text/x-python",
   "name": "python",
   "nbconvert_exporter": "python",
   "pygments_lexer": "ipython3",
   "version": "3.7.3"
  }
 },
 "nbformat": 4,
 "nbformat_minor": 4
}
