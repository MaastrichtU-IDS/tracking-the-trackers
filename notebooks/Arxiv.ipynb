{
 "cells": [
  {
   "cell_type": "code",
   "execution_count": 9,
   "metadata": {},
   "outputs": [],
   "source": [
    "# Arxiv: https://arxiv.org/\n",
    "import arxiv\n",
    "import csv\n",
    "import time\n",
    "import pandas as pd\n",
    "\n",
    "### Time of execution\n",
    "start = time.time()\n",
    "\n",
    "catalogue = pd.read_csv('catalogue.csv')\n",
    "catalogue.fillna(method='ffill', inplace = True)\n",
    "searchterms = list(catalogue.keywords)\n",
    "\n",
    "results = []\n",
    "for item in searchterms:\n",
    "    result = arxiv.query(query=item, max_results=30)\n",
    "    for paper in result:\n",
    "        if ('cs' in paper['arxiv_primary_category']['term']):\n",
    "            currentresult = []\n",
    "            currentresult.append(paper['id'])\n",
    "            currentresult.append(paper['summary'])\n",
    "            currentresult.append(item)\n",
    "            results.append(currentresult)\n",
    "        \n",
    "with open('../datasets/Arxiv_results.csv', 'w', newline='') as writeFile:\n",
    "    writer = csv.writer(writeFile)\n",
    "    writer.writerows(results)"
   ]
  },
  {
   "cell_type": "code",
   "execution_count": null,
   "metadata": {},
   "outputs": [],
   "source": []
  }
 ],
 "metadata": {
  "kernelspec": {
   "display_name": "Python 3",
   "language": "python",
   "name": "python3"
  },
  "language_info": {
   "codemirror_mode": {
    "name": "ipython",
    "version": 3
   },
   "file_extension": ".py",
   "mimetype": "text/x-python",
   "name": "python",
   "nbconvert_exporter": "python",
   "pygments_lexer": "ipython3",
   "version": "3.7.3"
  }
 },
 "nbformat": 4,
 "nbformat_minor": 4
}
