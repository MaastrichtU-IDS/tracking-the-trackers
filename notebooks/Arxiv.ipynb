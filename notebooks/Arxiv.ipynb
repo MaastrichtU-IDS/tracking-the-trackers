{
 "cells": [
  {
   "cell_type": "code",
   "execution_count": 1,
   "metadata": {},
   "outputs": [],
   "source": [
    "# Arxiv: https://arxiv.org/\n",
    "import arxiv\n",
    "import csv\n",
    "\n",
    "results = []\n",
    "searchterms = ['ai consumer fraud online','online shopping fraud','online shopping law enforcement','online law enforcement','e-commerce fraud','e-commerce fraud pricing',\n",
    "'fake review detection','consumer profiling algorithm','price discrimination algorithm','algorithm detect unfair pricing website','detecting e-commerce',\n",
    "'cookie tracking','cookie monitoring','website tracking','website monitoring','illegal advertising','false advertising','misleading advertising',\n",
    "'unfair terms','web accessibility','identity protection','web beacon','geoblocking','consumer protection']\n",
    "\n",
    "for item in searchterms:\n",
    "    result = arxiv.query(query=item, max_results=30)\n",
    "    for paper in result:\n",
    "        if ('cs' in paper['arxiv_primary_category']['term']):\n",
    "            currentresult = []\n",
    "            currentresult.append(paper['id'])\n",
    "            currentresult.append(paper['summary'])\n",
    "            currentresult.append(item)\n",
    "            results.append(currentresult)\n",
    "        \n",
    "with open('Arxiv_results.csv', 'w', newline='') as writeFile:\n",
    "    writer = csv.writer(writeFile)\n",
    "    writer.writerows(results)"
   ]
  },
  {
   "cell_type": "code",
   "execution_count": null,
   "metadata": {},
   "outputs": [],
   "source": []
  }
 ],
 "metadata": {
  "kernelspec": {
   "display_name": "Python 3",
   "language": "python",
   "name": "python3"
  },
  "language_info": {
   "codemirror_mode": {
    "name": "ipython",
    "version": 3
   },
   "file_extension": ".py",
   "mimetype": "text/x-python",
   "name": "python",
   "nbconvert_exporter": "python",
   "pygments_lexer": "ipython3",
   "version": "3.6.7"
  }
 },
 "nbformat": 4,
 "nbformat_minor": 4
}
